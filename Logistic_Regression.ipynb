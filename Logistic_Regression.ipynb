{
 "cells": [
  {
   "cell_type": "code",
   "execution_count": 1,
   "metadata": {},
   "outputs": [],
   "source": [
    "import pandas as pd\n",
    "import numpy as np\n",
    "from sklearn.model_selection import train_test_split\n",
    "from sklearn.preprocessing import LabelEncoder, StandardScaler\n",
    "from sklearn.linear_model import LogisticRegression\n",
    "from sklearn.metrics import accuracy_score, classification_report\n",
    "\n",
    "# Load dataset\n",
    "df = pd.read_csv(\"Merged_DatasetV2.csv\", dtype={'city': str, 'state': str, 'county': str, 'country': str})\n",
    "\n",
    "# Drop unnecessary columns\n",
    "df.drop(columns=['Unnamed: 0', 'id', 'name', 'city', 'state', 'county'], inplace=True)\n",
    "\n",
    "# Handle missing values (fill lifespan_years with median)\n",
    "df.loc[:, 'lifespan_years'] = df['lifespan_years'].fillna(df['lifespan_years'].median())\n",
    "\n",
    "# Replace NaN in 'services_offered' with 'Unknown'\n",
    "df.loc[:, 'services_offered'] = df['services_offered'].fillna('Unknown')\n",
    "\n",
    "# Drop remaining rows with nulls\n",
    "df.dropna(inplace=True)\n"
   ]
  },
  {
   "cell_type": "code",
   "execution_count": 2,
   "metadata": {},
   "outputs": [],
   "source": [
    "# Encode target variable (services_offered)\n",
    "label_encoder = LabelEncoder()\n",
    "df['services_offered_encoded'] = label_encoder.fit_transform(df['services_offered'].fillna(\"Unknown\"))\n",
    "\n",
    "# Encode categorical features\n",
    "df = pd.get_dummies(df, columns=['type', 'status', 'country'], drop_first=True)"
   ]
  },
  {
   "cell_type": "code",
   "execution_count": 5,
   "metadata": {},
   "outputs": [],
   "source": [
    "# Drop unnecessary columns\n",
    "X = df.drop(columns=['services_offered', 'services_offered_encoded'])  \n",
    "y = df['services_offered_encoded']\n",
    "\n",
    "# Split data\n",
    "X_train, X_test, y_train, y_test = train_test_split(X, y, test_size=0.2, random_state=42)\n",
    "\n",
    "scaler = StandardScaler()\n",
    "X_train_scaled = scaler.fit_transform(X_train)\n",
    "X_test_scaled = scaler.transform(X_test)\n",
    "\n",
    "# Train Logistic Regression\n",
    "model = LogisticRegression(max_iter=1000, random_state=42)\n",
    "model.fit(X_train_scaled, y_train)\n",
    "y_pred = model.predict(X_test_scaled)"
   ]
  },
  {
   "cell_type": "code",
   "execution_count": 6,
   "metadata": {},
   "outputs": [
    {
     "name": "stdout",
     "output_type": "stream",
     "text": [
      "Accuracy: 0.7769\n"
     ]
    }
   ],
   "source": [
    "\n",
    "# Evaluation\n",
    "accuracy = accuracy_score(y_test, y_pred)\n",
    "print(f'Accuracy: {accuracy:.4f}')\n",
    "#print(classification_report(y_test, target_names=label_encoder.classes_))"
   ]
  }
 ],
 "metadata": {
  "kernelspec": {
   "display_name": "Python 3",
   "language": "python",
   "name": "python3"
  },
  "language_info": {
   "codemirror_mode": {
    "name": "ipython",
    "version": 3
   },
   "file_extension": ".py",
   "mimetype": "text/x-python",
   "name": "python",
   "nbconvert_exporter": "python",
   "pygments_lexer": "ipython3",
   "version": "3.12.1"
  }
 },
 "nbformat": 4,
 "nbformat_minor": 2
}
