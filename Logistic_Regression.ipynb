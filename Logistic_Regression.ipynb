{
 "cells": [
  {
   "cell_type": "code",
   "execution_count": 1,
   "metadata": {},
   "outputs": [
    {
     "name": "stderr",
     "output_type": "stream",
     "text": [
      "/tmp/ipykernel_2171/1873326588.py:30: FutureWarning: A value is trying to be set on a copy of a DataFrame or Series through chained assignment using an inplace method.\n",
      "The behavior will change in pandas 3.0. This inplace method will never work because the intermediate object on which we are setting values always behaves as a copy.\n",
      "\n",
      "For example, when doing 'df[col].method(value, inplace=True)', try using 'df.method({col: value}, inplace=True)' or df[col] = df[col].method(value) instead, to perform the operation inplace on the original object.\n",
      "\n",
      "\n",
      "  df[column].fillna('Missing', inplace=True)\n",
      "/tmp/ipykernel_2171/1873326588.py:28: FutureWarning: A value is trying to be set on a copy of a DataFrame or Series through chained assignment using an inplace method.\n",
      "The behavior will change in pandas 3.0. This inplace method will never work because the intermediate object on which we are setting values always behaves as a copy.\n",
      "\n",
      "For example, when doing 'df[col].method(value, inplace=True)', try using 'df.method({col: value}, inplace=True)' or df[col] = df[col].method(value) instead, to perform the operation inplace on the original object.\n",
      "\n",
      "\n",
      "  df[column].fillna(0, inplace=True)\n"
     ]
    },
    {
     "data": {
      "text/html": [
       "<div>\n",
       "<style scoped>\n",
       "    .dataframe tbody tr th:only-of-type {\n",
       "        vertical-align: middle;\n",
       "    }\n",
       "\n",
       "    .dataframe tbody tr th {\n",
       "        vertical-align: top;\n",
       "    }\n",
       "\n",
       "    .dataframe thead th {\n",
       "        text-align: right;\n",
       "    }\n",
       "</style>\n",
       "<table border=\"1\" class=\"dataframe\">\n",
       "  <thead>\n",
       "    <tr style=\"text-align: right;\">\n",
       "      <th></th>\n",
       "      <th>type</th>\n",
       "      <th>city</th>\n",
       "      <th>state</th>\n",
       "      <th>country</th>\n",
       "      <th>lifespan_years</th>\n",
       "      <th>status</th>\n",
       "      <th>services_offered</th>\n",
       "    </tr>\n",
       "  </thead>\n",
       "  <tbody>\n",
       "    <tr>\n",
       "      <th>0</th>\n",
       "      <td>Studio</td>\n",
       "      <td>Test Restaurant</td>\n",
       "      <td>New York</td>\n",
       "      <td>US</td>\n",
       "      <td>39.0</td>\n",
       "      <td>Active</td>\n",
       "      <td>Unknown</td>\n",
       "    </tr>\n",
       "    <tr>\n",
       "      <th>1</th>\n",
       "      <td>Venue</td>\n",
       "      <td>Victoria House Hotel</td>\n",
       "      <td>England</td>\n",
       "      <td>GB</td>\n",
       "      <td>39.0</td>\n",
       "      <td>Active</td>\n",
       "      <td>Unknown</td>\n",
       "    </tr>\n",
       "    <tr>\n",
       "      <th>2</th>\n",
       "      <td>Religious building</td>\n",
       "      <td>Genivolta</td>\n",
       "      <td>Missing</td>\n",
       "      <td>IT</td>\n",
       "      <td>359.0</td>\n",
       "      <td>Active</td>\n",
       "      <td>Unknown</td>\n",
       "    </tr>\n",
       "    <tr>\n",
       "      <th>3</th>\n",
       "      <td>Studio</td>\n",
       "      <td>Tenso Jinja</td>\n",
       "      <td>Missing</td>\n",
       "      <td>JP</td>\n",
       "      <td>39.0</td>\n",
       "      <td>Active</td>\n",
       "      <td>Unknown</td>\n",
       "    </tr>\n",
       "    <tr>\n",
       "      <th>4</th>\n",
       "      <td>Venue</td>\n",
       "      <td>Geislingen an der Steige</td>\n",
       "      <td>Missing</td>\n",
       "      <td>DE</td>\n",
       "      <td>39.0</td>\n",
       "      <td>Active</td>\n",
       "      <td>Unknown</td>\n",
       "    </tr>\n",
       "  </tbody>\n",
       "</table>\n",
       "</div>"
      ],
      "text/plain": [
       "                 type                      city     state country  \\\n",
       "0              Studio           Test Restaurant  New York      US   \n",
       "1               Venue      Victoria House Hotel   England      GB   \n",
       "2  Religious building                 Genivolta   Missing      IT   \n",
       "3              Studio               Tenso Jinja   Missing      JP   \n",
       "4               Venue  Geislingen an der Steige   Missing      DE   \n",
       "\n",
       "   lifespan_years  status services_offered  \n",
       "0            39.0  Active          Unknown  \n",
       "1            39.0  Active          Unknown  \n",
       "2           359.0  Active          Unknown  \n",
       "3            39.0  Active          Unknown  \n",
       "4            39.0  Active          Unknown  "
      ]
     },
     "execution_count": 1,
     "metadata": {},
     "output_type": "execute_result"
    }
   ],
   "source": [
    "import pandas as pd\n",
    "import numpy as np\n",
    "from sklearn.model_selection import train_test_split\n",
    "from sklearn.preprocessing import LabelEncoder, StandardScaler\n",
    "from sklearn.linear_model import LogisticRegression\n",
    "from sklearn.metrics import accuracy_score, classification_report\n",
    "\n",
    "# Load dataset\n",
    "df = pd.read_csv(\"Merged_DatasetV2.csv\", dtype={'city': str, 'state': str, 'county': str, 'country': str})\n",
    "\n",
    "# Drop unnecessary columns\n",
    "#df.drop(columns=['Unnamed: 0', 'id', 'name', 'city', 'state', 'county'], inplace=True)\n",
    "df.drop(columns=['Unnamed: 0', 'id', 'name', 'county'], inplace=True)\n",
    "\n",
    "# Handle missing values (fill lifespan_years with median)\n",
    "df.loc[:, 'lifespan_years'] = df['lifespan_years'].fillna(df['lifespan_years'].median())\n",
    "\n",
    "# Split the 'services_offered' column by commas and explode the dataframe\n",
    "df['services_offered'] = df['services_offered'].str.split(', ')\n",
    "df = df.explode('services_offered')\n",
    "\n",
    "# Replace NaN in 'services_offered' with 'Unknown'\n",
    "df.loc[:, 'services_offered'] = df['services_offered'].fillna('Unknown')\n",
    "\n",
    "# Impute missing values\n",
    "for column in df.columns:\n",
    "    if df[column].dtype in ['int64', 'float64']:\n",
    "        df[column].fillna(0, inplace=True)\n",
    "    elif df[column].dtype == 'object':\n",
    "        df[column].fillna('Missing', inplace=True)\n",
    "\n",
    "# Display the updated dataframe\n",
    "df.head()\n",
    "\n"
   ]
  },
  {
   "cell_type": "code",
   "execution_count": 2,
   "metadata": {},
   "outputs": [
    {
     "data": {
      "text/html": [
       "<div>\n",
       "<style scoped>\n",
       "    .dataframe tbody tr th:only-of-type {\n",
       "        vertical-align: middle;\n",
       "    }\n",
       "\n",
       "    .dataframe tbody tr th {\n",
       "        vertical-align: top;\n",
       "    }\n",
       "\n",
       "    .dataframe thead th {\n",
       "        text-align: right;\n",
       "    }\n",
       "</style>\n",
       "<table border=\"1\" class=\"dataframe\">\n",
       "  <thead>\n",
       "    <tr style=\"text-align: right;\">\n",
       "      <th></th>\n",
       "      <th>city</th>\n",
       "      <th>state</th>\n",
       "      <th>country</th>\n",
       "      <th>lifespan_years</th>\n",
       "      <th>services_offered</th>\n",
       "      <th>services_offered_encoded</th>\n",
       "      <th>type_Club</th>\n",
       "      <th>type_Concert hall / Theatre</th>\n",
       "      <th>type_Educational institution</th>\n",
       "      <th>type_Festival stage</th>\n",
       "      <th>type_Indoor arena</th>\n",
       "      <th>type_Missing</th>\n",
       "      <th>type_Other</th>\n",
       "      <th>type_Park</th>\n",
       "      <th>type_Pressing plant</th>\n",
       "      <th>type_Religious building</th>\n",
       "      <th>type_Stadium</th>\n",
       "      <th>type_Studio</th>\n",
       "      <th>type_Venue</th>\n",
       "      <th>status_Ended</th>\n",
       "    </tr>\n",
       "  </thead>\n",
       "  <tbody>\n",
       "    <tr>\n",
       "      <th>0</th>\n",
       "      <td>16685</td>\n",
       "      <td>253</td>\n",
       "      <td>186</td>\n",
       "      <td>39.0</td>\n",
       "      <td>Unknown</td>\n",
       "      <td>0</td>\n",
       "      <td>False</td>\n",
       "      <td>False</td>\n",
       "      <td>False</td>\n",
       "      <td>False</td>\n",
       "      <td>False</td>\n",
       "      <td>False</td>\n",
       "      <td>False</td>\n",
       "      <td>False</td>\n",
       "      <td>False</td>\n",
       "      <td>False</td>\n",
       "      <td>False</td>\n",
       "      <td>True</td>\n",
       "      <td>False</td>\n",
       "      <td>False</td>\n",
       "    </tr>\n",
       "    <tr>\n",
       "      <th>1</th>\n",
       "      <td>17973</td>\n",
       "      <td>95</td>\n",
       "      <td>60</td>\n",
       "      <td>39.0</td>\n",
       "      <td>Unknown</td>\n",
       "      <td>0</td>\n",
       "      <td>False</td>\n",
       "      <td>False</td>\n",
       "      <td>False</td>\n",
       "      <td>False</td>\n",
       "      <td>False</td>\n",
       "      <td>False</td>\n",
       "      <td>False</td>\n",
       "      <td>False</td>\n",
       "      <td>False</td>\n",
       "      <td>False</td>\n",
       "      <td>False</td>\n",
       "      <td>False</td>\n",
       "      <td>True</td>\n",
       "      <td>False</td>\n",
       "    </tr>\n",
       "    <tr>\n",
       "      <th>2</th>\n",
       "      <td>5925</td>\n",
       "      <td>230</td>\n",
       "      <td>85</td>\n",
       "      <td>359.0</td>\n",
       "      <td>Unknown</td>\n",
       "      <td>0</td>\n",
       "      <td>False</td>\n",
       "      <td>False</td>\n",
       "      <td>False</td>\n",
       "      <td>False</td>\n",
       "      <td>False</td>\n",
       "      <td>False</td>\n",
       "      <td>False</td>\n",
       "      <td>False</td>\n",
       "      <td>False</td>\n",
       "      <td>True</td>\n",
       "      <td>False</td>\n",
       "      <td>False</td>\n",
       "      <td>False</td>\n",
       "      <td>False</td>\n",
       "    </tr>\n",
       "    <tr>\n",
       "      <th>3</th>\n",
       "      <td>16669</td>\n",
       "      <td>230</td>\n",
       "      <td>88</td>\n",
       "      <td>39.0</td>\n",
       "      <td>Unknown</td>\n",
       "      <td>0</td>\n",
       "      <td>False</td>\n",
       "      <td>False</td>\n",
       "      <td>False</td>\n",
       "      <td>False</td>\n",
       "      <td>False</td>\n",
       "      <td>False</td>\n",
       "      <td>False</td>\n",
       "      <td>False</td>\n",
       "      <td>False</td>\n",
       "      <td>False</td>\n",
       "      <td>False</td>\n",
       "      <td>True</td>\n",
       "      <td>False</td>\n",
       "      <td>False</td>\n",
       "    </tr>\n",
       "    <tr>\n",
       "      <th>4</th>\n",
       "      <td>5896</td>\n",
       "      <td>230</td>\n",
       "      <td>43</td>\n",
       "      <td>39.0</td>\n",
       "      <td>Unknown</td>\n",
       "      <td>0</td>\n",
       "      <td>False</td>\n",
       "      <td>False</td>\n",
       "      <td>False</td>\n",
       "      <td>False</td>\n",
       "      <td>False</td>\n",
       "      <td>False</td>\n",
       "      <td>False</td>\n",
       "      <td>False</td>\n",
       "      <td>False</td>\n",
       "      <td>False</td>\n",
       "      <td>False</td>\n",
       "      <td>False</td>\n",
       "      <td>True</td>\n",
       "      <td>False</td>\n",
       "    </tr>\n",
       "  </tbody>\n",
       "</table>\n",
       "</div>"
      ],
      "text/plain": [
       "    city  state  country  lifespan_years services_offered  \\\n",
       "0  16685    253      186            39.0          Unknown   \n",
       "1  17973     95       60            39.0          Unknown   \n",
       "2   5925    230       85           359.0          Unknown   \n",
       "3  16669    230       88            39.0          Unknown   \n",
       "4   5896    230       43            39.0          Unknown   \n",
       "\n",
       "   services_offered_encoded  type_Club  type_Concert hall / Theatre  \\\n",
       "0                         0      False                        False   \n",
       "1                         0      False                        False   \n",
       "2                         0      False                        False   \n",
       "3                         0      False                        False   \n",
       "4                         0      False                        False   \n",
       "\n",
       "   type_Educational institution  type_Festival stage  type_Indoor arena  \\\n",
       "0                         False                False              False   \n",
       "1                         False                False              False   \n",
       "2                         False                False              False   \n",
       "3                         False                False              False   \n",
       "4                         False                False              False   \n",
       "\n",
       "   type_Missing  type_Other  type_Park  type_Pressing plant  \\\n",
       "0         False       False      False                False   \n",
       "1         False       False      False                False   \n",
       "2         False       False      False                False   \n",
       "3         False       False      False                False   \n",
       "4         False       False      False                False   \n",
       "\n",
       "   type_Religious building  type_Stadium  type_Studio  type_Venue  \\\n",
       "0                    False         False         True       False   \n",
       "1                    False         False        False        True   \n",
       "2                     True         False        False       False   \n",
       "3                    False         False         True       False   \n",
       "4                    False         False        False        True   \n",
       "\n",
       "   status_Ended  \n",
       "0         False  \n",
       "1         False  \n",
       "2         False  \n",
       "3         False  \n",
       "4         False  "
      ]
     },
     "execution_count": 2,
     "metadata": {},
     "output_type": "execute_result"
    }
   ],
   "source": [
    "# Encode target variable (services_offered)\n",
    "label_encoder = LabelEncoder()\n",
    "df['services_offered_encoded'] = label_encoder.fit_transform(df['services_offered'].fillna(\"Unknown\"))\n",
    "\n",
    "# Encode categorical features\n",
    "categorical_columns = ['country', 'city', 'state']  # Adjust if needed\n",
    "\n",
    "for col in categorical_columns:\n",
    "    le = LabelEncoder()\n",
    "    df[col] = le.fit_transform(df[col].astype(str))  # Convert to string to avoid NaN issues\n",
    "\n",
    "\n",
    "\n",
    "# Encode categorical features\n",
    "df = pd.get_dummies(df, columns=['type', 'status'], drop_first=True)\n",
    "\n",
    "df.head()"
   ]
  },
  {
   "cell_type": "code",
   "execution_count": 3,
   "metadata": {},
   "outputs": [],
   "source": [
    "# Drop unnecessary columns\n",
    "X = df.drop(columns=['services_offered', 'services_offered_encoded'])  \n",
    "y = df['services_offered_encoded']\n",
    "\n",
    "# Split data\n",
    "X_train, X_test, y_train, y_test = train_test_split(X, y, test_size=0.2, random_state=42)\n",
    "\n",
    "scaler = StandardScaler()\n",
    "X_train_scaled = scaler.fit_transform(X_train)\n",
    "X_test_scaled = scaler.transform(X_test)\n",
    "\n",
    "# Train Logistic Regression\n",
    "model = LogisticRegression(max_iter=1000, random_state=42)\n",
    "model.fit(X_train_scaled, y_train)\n",
    "y_pred = model.predict(X_test_scaled)"
   ]
  },
  {
   "cell_type": "code",
   "execution_count": 4,
   "metadata": {},
   "outputs": [
    {
     "name": "stdout",
     "output_type": "stream",
     "text": [
      "Accuracy: 0.7553\n"
     ]
    }
   ],
   "source": [
    "# Evaluation\n",
    "accuracy = accuracy_score(y_test, y_pred)\n",
    "print(f'Accuracy: {accuracy:.4f}')\n",
    "#print(classification_report(y_test, target_names=label_encoder.classes_))"
   ]
  },
  {
   "cell_type": "code",
   "execution_count": 5,
   "metadata": {},
   "outputs": [
    {
     "name": "stdout",
     "output_type": "stream",
     "text": [
      "Macro F1 Score: 0.0574\n"
     ]
    }
   ],
   "source": [
    "from sklearn.metrics import f1_score\n",
    "\n",
    "# Compute Macro F1 Score\n",
    "macro_f1 = f1_score(y_test, y_pred, average='macro')\n",
    "\n",
    "# Print the result\n",
    "print(f\"Macro F1 Score: {macro_f1:.4f}\")"
   ]
  },
  {
   "cell_type": "code",
   "execution_count": 6,
   "metadata": {},
   "outputs": [],
   "source": [
    "# Drop even more unnecessary columns\n",
    "df.drop(columns=['city', 'state'], inplace=True)\n",
    "\n",
    "# Drop unnecessary columns\n",
    "X = df.drop(columns=['services_offered', 'services_offered_encoded'])  \n",
    "y = df['services_offered_encoded']\n",
    "\n",
    "# Split data\n",
    "X_train, X_test, y_train, y_test = train_test_split(X, y, test_size=0.2, random_state=42)\n",
    "\n",
    "scaler = StandardScaler()\n",
    "X_train_scaled = scaler.fit_transform(X_train)\n",
    "X_test_scaled = scaler.transform(X_test)\n",
    "\n",
    "# Train Logistic Regression\n",
    "model = LogisticRegression(max_iter=1000, random_state=42)\n",
    "model.fit(X_train_scaled, y_train)\n",
    "y_pred = model.predict(X_test_scaled)"
   ]
  },
  {
   "cell_type": "code",
   "execution_count": 7,
   "metadata": {},
   "outputs": [
    {
     "name": "stdout",
     "output_type": "stream",
     "text": [
      "Accuracy: 0.7553\n"
     ]
    }
   ],
   "source": [
    "# Evaluation\n",
    "accuracy = accuracy_score(y_test, y_pred)\n",
    "print(f'Accuracy: {accuracy:.4f}')\n",
    "#print(classification_report(y_test, target_names=label_encoder.classes_))"
   ]
  },
  {
   "cell_type": "code",
   "execution_count": 8,
   "metadata": {},
   "outputs": [
    {
     "name": "stdout",
     "output_type": "stream",
     "text": [
      "Macro F1 Score: 0.0574\n"
     ]
    }
   ],
   "source": [
    "from sklearn.metrics import f1_score\n",
    "\n",
    "# Compute Macro F1 Score\n",
    "macro_f1 = f1_score(y_test, y_pred, average='macro')\n",
    "\n",
    "# Print the result\n",
    "print(f\"Macro F1 Score: {macro_f1:.4f}\")"
   ]
  },
  {
   "cell_type": "code",
   "execution_count": 9,
   "metadata": {},
   "outputs": [],
   "source": [
    "# Drop even more unnecessary columns\n",
    "df.drop(columns=['country'], inplace=True)\n",
    "\n",
    "# Drop unnecessary columns\n",
    "X = df.drop(columns=['services_offered', 'services_offered_encoded'])  \n",
    "y = df['services_offered_encoded']\n",
    "\n",
    "# Split data\n",
    "X_train, X_test, y_train, y_test = train_test_split(X, y, test_size=0.2, random_state=42)\n",
    "\n",
    "scaler = StandardScaler()\n",
    "X_train_scaled = scaler.fit_transform(X_train)\n",
    "X_test_scaled = scaler.transform(X_test)\n",
    "\n",
    "# Train Logistic Regression\n",
    "model = LogisticRegression(max_iter=1000, random_state=42)\n",
    "model.fit(X_train_scaled, y_train)\n",
    "y_pred = model.predict(X_test_scaled)"
   ]
  },
  {
   "cell_type": "code",
   "execution_count": 10,
   "metadata": {},
   "outputs": [
    {
     "name": "stdout",
     "output_type": "stream",
     "text": [
      "Accuracy: 0.7553\n"
     ]
    }
   ],
   "source": [
    "# Evaluation\n",
    "accuracy = accuracy_score(y_test, y_pred)\n",
    "print(f'Accuracy: {accuracy:.4f}')\n",
    "#print(classification_report(y_test, target_names=label_encoder.classes_))"
   ]
  },
  {
   "cell_type": "code",
   "execution_count": 11,
   "metadata": {},
   "outputs": [
    {
     "name": "stdout",
     "output_type": "stream",
     "text": [
      "Macro F1 Score: 0.0574\n"
     ]
    }
   ],
   "source": [
    "from sklearn.metrics import f1_score\n",
    "\n",
    "# Compute Macro F1 Score\n",
    "macro_f1 = f1_score(y_test, y_pred, average='macro')\n",
    "\n",
    "# Print the result\n",
    "print(f\"Macro F1 Score: {macro_f1:.4f}\")"
   ]
  },
  {
   "cell_type": "code",
   "execution_count": 12,
   "metadata": {},
   "outputs": [
    {
     "name": "stdout",
     "output_type": "stream",
     "text": [
      "              precision    recall  f1-score   support\n",
      "\n",
      "           0       0.76      1.00      0.86     10558\n",
      "           1       0.00      0.00      0.00         8\n",
      "           3       0.00      0.00      0.00         9\n",
      "           4       0.00      0.00      0.00        15\n",
      "           5       0.00      0.00      0.00         1\n",
      "           6       0.00      0.00      0.00        69\n",
      "           7       0.00      0.00      0.00       185\n",
      "           8       0.00      0.00      0.00         2\n",
      "           9       0.00      0.00      0.00       637\n",
      "          10       0.00      0.00      0.00        54\n",
      "          11       0.00      0.00      0.00        52\n",
      "          12       0.00      0.00      0.00      2351\n",
      "          13       0.00      0.00      0.00         5\n",
      "          15       0.00      0.00      0.00        23\n",
      "          16       0.00      0.00      0.00        10\n",
      "\n",
      "    accuracy                           0.76     13979\n",
      "   macro avg       0.05      0.07      0.06     13979\n",
      "weighted avg       0.57      0.76      0.65     13979\n",
      "\n"
     ]
    },
    {
     "name": "stderr",
     "output_type": "stream",
     "text": [
      "/home/codespace/.local/lib/python3.12/site-packages/sklearn/metrics/_classification.py:1565: UndefinedMetricWarning: Precision is ill-defined and being set to 0.0 in labels with no predicted samples. Use `zero_division` parameter to control this behavior.\n",
      "  _warn_prf(average, modifier, f\"{metric.capitalize()} is\", len(result))\n",
      "/home/codespace/.local/lib/python3.12/site-packages/sklearn/metrics/_classification.py:1565: UndefinedMetricWarning: Precision is ill-defined and being set to 0.0 in labels with no predicted samples. Use `zero_division` parameter to control this behavior.\n",
      "  _warn_prf(average, modifier, f\"{metric.capitalize()} is\", len(result))\n",
      "/home/codespace/.local/lib/python3.12/site-packages/sklearn/metrics/_classification.py:1565: UndefinedMetricWarning: Precision is ill-defined and being set to 0.0 in labels with no predicted samples. Use `zero_division` parameter to control this behavior.\n",
      "  _warn_prf(average, modifier, f\"{metric.capitalize()} is\", len(result))\n"
     ]
    }
   ],
   "source": [
    "from sklearn.metrics import classification_report\n",
    "\n",
    "print(classification_report(y_test, y_pred))"
   ]
  },
  {
   "cell_type": "code",
   "execution_count": 13,
   "metadata": {},
   "outputs": [
    {
     "name": "stderr",
     "output_type": "stream",
     "text": [
      "/home/codespace/.local/lib/python3.12/site-packages/sklearn/model_selection/_split.py:805: UserWarning: The least populated class in y has only 2 members, which is less than n_splits=5.\n",
      "  warnings.warn(\n"
     ]
    },
    {
     "name": "stdout",
     "output_type": "stream",
     "text": [
      "Mean Macro F1 Score: 0.0545\n",
      "Standard Deviation of Macro F1 Score: 0.0015\n"
     ]
    }
   ],
   "source": [
    "from sklearn.model_selection import cross_val_score\n",
    "from sklearn.metrics import make_scorer, f1_score\n",
    "\n",
    "# Define the macro F1 scorer\n",
    "macro_f1_scorer = make_scorer(f1_score, average='macro')\n",
    "\n",
    "# Perform cross-validation\n",
    "scores = cross_val_score(model, X_train_scaled, y_train, cv=5, scoring=macro_f1_scorer)\n",
    "\n",
    "# Calculate mean and standard deviation\n",
    "mean_macro_f1 = scores.mean()\n",
    "std_macro_f1 = scores.std()\n",
    "\n",
    "# Print results\n",
    "print(f\"Mean Macro F1 Score: {mean_macro_f1:.4f}\")\n",
    "print(f\"Standard Deviation of Macro F1 Score: {std_macro_f1:.4f}\")"
   ]
  }
 ],
 "metadata": {
  "kernelspec": {
   "display_name": "Python 3",
   "language": "python",
   "name": "python3"
  },
  "language_info": {
   "codemirror_mode": {
    "name": "ipython",
    "version": 3
   },
   "file_extension": ".py",
   "mimetype": "text/x-python",
   "name": "python",
   "nbconvert_exporter": "python",
   "pygments_lexer": "ipython3",
   "version": "3.12.1"
  }
 },
 "nbformat": 4,
 "nbformat_minor": 2
}
