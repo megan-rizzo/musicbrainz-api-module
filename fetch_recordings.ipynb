{
 "cells": [
  {
   "cell_type": "code",
   "execution_count": null,
   "metadata": {},
   "outputs": [
    {
     "name": "stderr",
     "output_type": "stream",
     "text": [
      "Fetching relationships:   1%|▏         | 1000/69663 [13:46<13:57:11,  1.37it/s]"
     ]
    },
    {
     "name": "stdout",
     "output_type": "stream",
     "text": [
      "Checkpoint saved with 1000 total records.\n"
     ]
    },
    {
     "name": "stderr",
     "output_type": "stream",
     "text": [
      "Fetching relationships:   2%|▏         | 1254/69663 [17:07<10:33:17,  1.80it/s]"
     ]
    },
    {
     "name": "stdout",
     "output_type": "stream",
     "text": [
      "Error fetching place-recording relationships for c4b1b9a0-6e40-483d-baf3-b4b885eac545: 503 Server Error: Service Temporarily Unavailable for url: https://musicbrainz.org/ws/2/place/c4b1b9a0-6e40-483d-baf3-b4b885eac545?inc=recording-rels&fmt=json\n"
     ]
    },
    {
     "name": "stderr",
     "output_type": "stream",
     "text": [
      "Fetching relationships:   2%|▏         | 1270/69663 [17:17<12:17:37,  1.55it/s]"
     ]
    },
    {
     "name": "stdout",
     "output_type": "stream",
     "text": [
      "Error fetching place-recording relationships for c5b4addb-9636-422d-9b35-e2069e3d700f: 503 Server Error: Service Temporarily Unavailable for url: https://musicbrainz.org/ws/2/place/c5b4addb-9636-422d-9b35-e2069e3d700f?inc=recording-rels&fmt=json\n"
     ]
    },
    {
     "name": "stderr",
     "output_type": "stream",
     "text": [
      "Fetching relationships:   2%|▏         | 1271/69663 [17:18<11:29:49,  1.65it/s]"
     ]
    },
    {
     "name": "stdout",
     "output_type": "stream",
     "text": [
      "Error fetching place-recording relationships for 286de3f3-f806-4402-bfbe-000f1f554fc7: 503 Server Error: Service Temporarily Unavailable for url: https://musicbrainz.org/ws/2/place/286de3f3-f806-4402-bfbe-000f1f554fc7?inc=recording-rels&fmt=json\n"
     ]
    },
    {
     "name": "stderr",
     "output_type": "stream",
     "text": [
      "Fetching relationships:   2%|▏         | 1328/69663 [17:58<11:20:11,  1.67it/s]"
     ]
    },
    {
     "name": "stdout",
     "output_type": "stream",
     "text": [
      "Error fetching place-recording relationships for 4d7f1fb4-6ff5-4881-a033-4dacdf4b7aff: 503 Server Error: Service Temporarily Unavailable for url: https://musicbrainz.org/ws/2/place/4d7f1fb4-6ff5-4881-a033-4dacdf4b7aff?inc=recording-rels&fmt=json\n"
     ]
    },
    {
     "name": "stderr",
     "output_type": "stream",
     "text": [
      "Fetching relationships:   2%|▏         | 1329/69663 [17:59<10:50:11,  1.75it/s]"
     ]
    },
    {
     "name": "stdout",
     "output_type": "stream",
     "text": [
      "Error fetching place-recording relationships for 8ca3c3fe-c5b3-4ecc-be65-3eaf284990fc: 503 Server Error: Service Temporarily Unavailable for url: https://musicbrainz.org/ws/2/place/8ca3c3fe-c5b3-4ecc-be65-3eaf284990fc?inc=recording-rels&fmt=json\n"
     ]
    },
    {
     "name": "stderr",
     "output_type": "stream",
     "text": [
      "Fetching relationships:   2%|▏         | 1428/69663 [19:10<11:09:19,  1.70it/s]"
     ]
    },
    {
     "name": "stdout",
     "output_type": "stream",
     "text": [
      "Error fetching place-recording relationships for ffce5672-b9fb-47bf-8daa-2b15d247f0cc: 503 Server Error: Service Temporarily Unavailable for url: https://musicbrainz.org/ws/2/place/ffce5672-b9fb-47bf-8daa-2b15d247f0cc?inc=recording-rels&fmt=json\n"
     ]
    },
    {
     "name": "stderr",
     "output_type": "stream",
     "text": [
      "Fetching relationships:   2%|▏         | 1615/69663 [21:35<10:46:24,  1.75it/s]"
     ]
    },
    {
     "name": "stdout",
     "output_type": "stream",
     "text": [
      "Error fetching place-recording relationships for 84230607-7835-499b-adcc-b426ba9fce02: 503 Server Error: Service Temporarily Unavailable for url: https://musicbrainz.org/ws/2/place/84230607-7835-499b-adcc-b426ba9fce02?inc=recording-rels&fmt=json\n"
     ]
    },
    {
     "name": "stderr",
     "output_type": "stream",
     "text": [
      "Fetching relationships:   2%|▏         | 1631/69663 [21:44<10:45:07,  1.76it/s]"
     ]
    },
    {
     "name": "stdout",
     "output_type": "stream",
     "text": [
      "Error fetching place-recording relationships for 61cc11cd-e627-4381-9a46-77ecbf14d6e6: 503 Server Error: Service Temporarily Unavailable for url: https://musicbrainz.org/ws/2/place/61cc11cd-e627-4381-9a46-77ecbf14d6e6?inc=recording-rels&fmt=json\n"
     ]
    },
    {
     "name": "stderr",
     "output_type": "stream",
     "text": [
      "Fetching relationships:   2%|▏         | 1632/69663 [21:45<10:24:27,  1.82it/s]"
     ]
    },
    {
     "name": "stdout",
     "output_type": "stream",
     "text": [
      "Error fetching place-recording relationships for 4dab00f7-a1c1-46dc-9be2-dd8440b1d6a2: 503 Server Error: Service Temporarily Unavailable for url: https://musicbrainz.org/ws/2/place/4dab00f7-a1c1-46dc-9be2-dd8440b1d6a2?inc=recording-rels&fmt=json\n"
     ]
    },
    {
     "name": "stderr",
     "output_type": "stream",
     "text": [
      "Fetching relationships:   2%|▏         | 1633/69663 [21:45<10:12:28,  1.85it/s]"
     ]
    },
    {
     "name": "stdout",
     "output_type": "stream",
     "text": [
      "Error fetching place-recording relationships for 6578c032-082e-4f29-ab58-712b9f6576b3: 503 Server Error: Service Temporarily Unavailable for url: https://musicbrainz.org/ws/2/place/6578c032-082e-4f29-ab58-712b9f6576b3?inc=recording-rels&fmt=json\n"
     ]
    },
    {
     "name": "stderr",
     "output_type": "stream",
     "text": [
      "Fetching relationships:   2%|▏         | 1649/69663 [21:54<10:23:51,  1.82it/s]"
     ]
    },
    {
     "name": "stdout",
     "output_type": "stream",
     "text": [
      "Error fetching place-recording relationships for 192ac649-b8c8-4227-aafc-be9ff257dbbc: 503 Server Error: Service Temporarily Unavailable for url: https://musicbrainz.org/ws/2/place/192ac649-b8c8-4227-aafc-be9ff257dbbc?inc=recording-rels&fmt=json\n"
     ]
    },
    {
     "name": "stderr",
     "output_type": "stream",
     "text": [
      "Fetching relationships:   2%|▏         | 1650/69663 [21:55<10:12:08,  1.85it/s]"
     ]
    },
    {
     "name": "stdout",
     "output_type": "stream",
     "text": [
      "Error fetching place-recording relationships for f6c7e202-6639-416d-a260-96e90db3a02a: 503 Server Error: Service Temporarily Unavailable for url: https://musicbrainz.org/ws/2/place/f6c7e202-6639-416d-a260-96e90db3a02a?inc=recording-rels&fmt=json\n"
     ]
    },
    {
     "name": "stderr",
     "output_type": "stream",
     "text": [
      "Fetching relationships:   2%|▏         | 1651/69663 [21:55<10:01:26,  1.88it/s]"
     ]
    },
    {
     "name": "stdout",
     "output_type": "stream",
     "text": [
      "Error fetching place-recording relationships for a0b21cae-6e5b-4327-99b3-d94c20d93407: 503 Server Error: Service Temporarily Unavailable for url: https://musicbrainz.org/ws/2/place/a0b21cae-6e5b-4327-99b3-d94c20d93407?inc=recording-rels&fmt=json\n"
     ]
    },
    {
     "name": "stderr",
     "output_type": "stream",
     "text": [
      "Fetching relationships:   2%|▏         | 1680/69663 [22:16<10:57:10,  1.72it/s]"
     ]
    },
    {
     "name": "stdout",
     "output_type": "stream",
     "text": [
      "Error fetching place-recording relationships for 8524cf92-002d-45b7-b213-5787fa714372: 503 Server Error: Service Temporarily Unavailable for url: https://musicbrainz.org/ws/2/place/8524cf92-002d-45b7-b213-5787fa714372?inc=recording-rels&fmt=json\n"
     ]
    },
    {
     "name": "stderr",
     "output_type": "stream",
     "text": [
      "Fetching relationships:   2%|▏         | 1737/69663 [22:58<10:37:37,  1.78it/s]"
     ]
    },
    {
     "name": "stdout",
     "output_type": "stream",
     "text": [
      "Error fetching place-recording relationships for a93ed4ea-f9c3-4085-9ae5-2f4de9234ef0: 503 Server Error: Service Temporarily Unavailable for url: https://musicbrainz.org/ws/2/place/a93ed4ea-f9c3-4085-9ae5-2f4de9234ef0?inc=recording-rels&fmt=json\n"
     ]
    },
    {
     "name": "stderr",
     "output_type": "stream",
     "text": [
      "Fetching relationships:   2%|▏         | 1738/69663 [22:58<10:24:02,  1.81it/s]"
     ]
    },
    {
     "name": "stdout",
     "output_type": "stream",
     "text": [
      "Error fetching place-recording relationships for b33d8c70-366c-400c-a43b-7dd85ed88e65: 503 Server Error: Service Temporarily Unavailable for url: https://musicbrainz.org/ws/2/place/b33d8c70-366c-400c-a43b-7dd85ed88e65?inc=recording-rels&fmt=json\n"
     ]
    },
    {
     "name": "stderr",
     "output_type": "stream",
     "text": [
      "Fetching relationships:   3%|▎         | 1766/69663 [23:19<10:52:59,  1.73it/s]"
     ]
    },
    {
     "name": "stdout",
     "output_type": "stream",
     "text": [
      "Error fetching place-recording relationships for c784d80e-eb11-4e27-821a-b727dc227341: 503 Server Error: Service Temporarily Unavailable for url: https://musicbrainz.org/ws/2/place/c784d80e-eb11-4e27-821a-b727dc227341?inc=recording-rels&fmt=json\n"
     ]
    },
    {
     "name": "stderr",
     "output_type": "stream",
     "text": [
      "Fetching relationships:   3%|▎         | 1826/69663 [24:01<11:01:08,  1.71it/s]"
     ]
    },
    {
     "name": "stdout",
     "output_type": "stream",
     "text": [
      "Error fetching place-recording relationships for 84e393fe-7b90-430e-841b-3a0928cfd0dd: 503 Server Error: Service Temporarily Unavailable for url: https://musicbrainz.org/ws/2/place/84e393fe-7b90-430e-841b-3a0928cfd0dd?inc=recording-rels&fmt=json\n"
     ]
    },
    {
     "name": "stderr",
     "output_type": "stream",
     "text": [
      "Fetching relationships:   3%|▎         | 1896/69663 [24:53<12:39:41,  1.49it/s]"
     ]
    },
    {
     "name": "stdout",
     "output_type": "stream",
     "text": [
      "Error fetching place-recording relationships for 334fbc80-a1cb-4a65-84a2-ad4c0553172f: 503 Server Error: Service Temporarily Unavailable for url: https://musicbrainz.org/ws/2/place/334fbc80-a1cb-4a65-84a2-ad4c0553172f?inc=recording-rels&fmt=json\n"
     ]
    },
    {
     "name": "stderr",
     "output_type": "stream",
     "text": [
      "Fetching relationships:   3%|▎         | 1938/69663 [25:25<14:21:07,  1.31it/s]"
     ]
    },
    {
     "name": "stdout",
     "output_type": "stream",
     "text": [
      "Error fetching place-recording relationships for b405f568-66fc-4a3f-8e4d-2c4cbc0d69aa: 503 Server Error: Service Temporarily Unavailable for url: https://musicbrainz.org/ws/2/place/b405f568-66fc-4a3f-8e4d-2c4cbc0d69aa?inc=recording-rels&fmt=json\n"
     ]
    },
    {
     "name": "stderr",
     "output_type": "stream",
     "text": [
      "Fetching relationships:   3%|▎         | 2000/69663 [26:15<18:49:19,  1.00s/it]"
     ]
    },
    {
     "name": "stdout",
     "output_type": "stream",
     "text": [
      "Checkpoint saved with 2000 total records.\n"
     ]
    },
    {
     "name": "stderr",
     "output_type": "stream",
     "text": [
      "Fetching relationships:   3%|▎         | 2061/69663 [26:59<10:24:34,  1.80it/s]"
     ]
    },
    {
     "name": "stdout",
     "output_type": "stream",
     "text": [
      "Error fetching place-recording relationships for 2f0c0ae5-3c06-48fb-9728-ebdee4b574dd: 503 Server Error: Service Temporarily Unavailable for url: https://musicbrainz.org/ws/2/place/2f0c0ae5-3c06-48fb-9728-ebdee4b574dd?inc=recording-rels&fmt=json\n"
     ]
    },
    {
     "name": "stderr",
     "output_type": "stream",
     "text": [
      "Fetching relationships:   3%|▎         | 2062/69663 [27:00<10:12:02,  1.84it/s]"
     ]
    },
    {
     "name": "stdout",
     "output_type": "stream",
     "text": [
      "Error fetching place-recording relationships for c414d4f5-ca2f-48f9-b93c-ff5a04d7c012: 503 Server Error: Service Temporarily Unavailable for url: https://musicbrainz.org/ws/2/place/c414d4f5-ca2f-48f9-b93c-ff5a04d7c012?inc=recording-rels&fmt=json\n"
     ]
    },
    {
     "name": "stderr",
     "output_type": "stream",
     "text": [
      "Fetching relationships:   3%|▎         | 2063/69663 [27:00<10:01:58,  1.87it/s]"
     ]
    },
    {
     "name": "stdout",
     "output_type": "stream",
     "text": [
      "Error fetching place-recording relationships for cc7b74f9-06bd-45a0-849d-e21e30d1ee05: 503 Server Error: Service Temporarily Unavailable for url: https://musicbrainz.org/ws/2/place/cc7b74f9-06bd-45a0-849d-e21e30d1ee05?inc=recording-rels&fmt=json\n"
     ]
    },
    {
     "name": "stderr",
     "output_type": "stream",
     "text": [
      "Fetching relationships:   4%|▍         | 2890/69663 [38:31<10:48:46,  1.72it/s]"
     ]
    },
    {
     "name": "stdout",
     "output_type": "stream",
     "text": [
      "Error fetching place-recording relationships for 107ab9a9-b24b-47cc-8fb7-3a35eda5cd3c: 503 Server Error: Service Temporarily Unavailable for url: https://musicbrainz.org/ws/2/place/107ab9a9-b24b-47cc-8fb7-3a35eda5cd3c?inc=recording-rels&fmt=json\n"
     ]
    },
    {
     "name": "stderr",
     "output_type": "stream",
     "text": [
      "Fetching relationships:   4%|▍         | 2891/69663 [38:32<10:29:38,  1.77it/s]"
     ]
    },
    {
     "name": "stdout",
     "output_type": "stream",
     "text": [
      "Error fetching place-recording relationships for 37ffc830-c049-470c-ba40-a84a9bfdadc9: 503 Server Error: Service Temporarily Unavailable for url: https://musicbrainz.org/ws/2/place/37ffc830-c049-470c-ba40-a84a9bfdadc9?inc=recording-rels&fmt=json\n"
     ]
    },
    {
     "name": "stderr",
     "output_type": "stream",
     "text": [
      "Fetching relationships:   4%|▍         | 2907/69663 [38:42<11:38:57,  1.59it/s]"
     ]
    },
    {
     "name": "stdout",
     "output_type": "stream",
     "text": [
      "Error fetching place-recording relationships for d84595db-65ec-4666-ae8c-162e23b57b81: 503 Server Error: Service Temporarily Unavailable for url: https://musicbrainz.org/ws/2/place/d84595db-65ec-4666-ae8c-162e23b57b81?inc=recording-rels&fmt=json\n"
     ]
    },
    {
     "name": "stderr",
     "output_type": "stream",
     "text": [
      "Fetching relationships:   4%|▍         | 2908/69663 [38:42<11:02:18,  1.68it/s]"
     ]
    },
    {
     "name": "stdout",
     "output_type": "stream",
     "text": [
      "Error fetching place-recording relationships for 4806746c-1e3a-4338-a5d5-29df74960fc7: 503 Server Error: Service Temporarily Unavailable for url: https://musicbrainz.org/ws/2/place/4806746c-1e3a-4338-a5d5-29df74960fc7?inc=recording-rels&fmt=json\n"
     ]
    },
    {
     "name": "stderr",
     "output_type": "stream",
     "text": [
      "Fetching relationships:   4%|▍         | 2952/69663 [39:13<10:18:04,  1.80it/s]"
     ]
    },
    {
     "name": "stdout",
     "output_type": "stream",
     "text": [
      "Error fetching place-recording relationships for 5825cd5a-3bbe-4754-8771-8cda98ab5062: 503 Server Error: Service Temporarily Unavailable for url: https://musicbrainz.org/ws/2/place/5825cd5a-3bbe-4754-8771-8cda98ab5062?inc=recording-rels&fmt=json\n"
     ]
    },
    {
     "name": "stderr",
     "output_type": "stream",
     "text": [
      "Fetching relationships:   4%|▍         | 2953/69663 [39:13<10:03:58,  1.84it/s]"
     ]
    },
    {
     "name": "stdout",
     "output_type": "stream",
     "text": [
      "Error fetching place-recording relationships for c5f38c1d-b04d-4bdb-8df9-3317e12d2e83: 503 Server Error: Service Temporarily Unavailable for url: https://musicbrainz.org/ws/2/place/c5f38c1d-b04d-4bdb-8df9-3317e12d2e83?inc=recording-rels&fmt=json\n"
     ]
    },
    {
     "name": "stderr",
     "output_type": "stream",
     "text": [
      "Fetching relationships:   4%|▍         | 3000/69663 [39:49<15:10:31,  1.22it/s]"
     ]
    },
    {
     "name": "stdout",
     "output_type": "stream",
     "text": [
      "Checkpoint saved with 3000 total records.\n"
     ]
    },
    {
     "name": "stderr",
     "output_type": "stream",
     "text": [
      "Fetching relationships:   4%|▍         | 3108/69663 [41:06<10:44:37,  1.72it/s]"
     ]
    },
    {
     "name": "stdout",
     "output_type": "stream",
     "text": [
      "Error fetching place-recording relationships for c810a540-9c73-4c46-a46d-860ae322c268: 503 Server Error: Service Temporarily Unavailable for url: https://musicbrainz.org/ws/2/place/c810a540-9c73-4c46-a46d-860ae322c268?inc=recording-rels&fmt=json\n"
     ]
    },
    {
     "name": "stderr",
     "output_type": "stream",
     "text": [
      "Fetching relationships:   4%|▍         | 3109/69663 [41:07<10:23:25,  1.78it/s]"
     ]
    },
    {
     "name": "stdout",
     "output_type": "stream",
     "text": [
      "Error fetching place-recording relationships for dddacd7e-62ad-43e0-b2de-c9da471c3cb1: 503 Server Error: Service Temporarily Unavailable for url: https://musicbrainz.org/ws/2/place/dddacd7e-62ad-43e0-b2de-c9da471c3cb1?inc=recording-rels&fmt=json\n"
     ]
    },
    {
     "name": "stderr",
     "output_type": "stream",
     "text": [
      "Fetching relationships:   4%|▍         | 3110/69663 [41:07<10:08:05,  1.82it/s]"
     ]
    },
    {
     "name": "stdout",
     "output_type": "stream",
     "text": [
      "Error fetching place-recording relationships for 2844c5f3-277c-4e37-a3a2-0f1e096a482e: 503 Server Error: Service Temporarily Unavailable for url: https://musicbrainz.org/ws/2/place/2844c5f3-277c-4e37-a3a2-0f1e096a482e?inc=recording-rels&fmt=json\n"
     ]
    },
    {
     "name": "stderr",
     "output_type": "stream",
     "text": [
      "Fetching relationships:   5%|▍         | 3166/69663 [41:49<10:22:48,  1.78it/s]"
     ]
    },
    {
     "name": "stdout",
     "output_type": "stream",
     "text": [
      "Error fetching place-recording relationships for d6f82483-cd41-433a-90f5-82587664e6e4: 503 Server Error: Service Temporarily Unavailable for url: https://musicbrainz.org/ws/2/place/d6f82483-cd41-433a-90f5-82587664e6e4?inc=recording-rels&fmt=json\n"
     ]
    },
    {
     "name": "stderr",
     "output_type": "stream",
     "text": [
      "Fetching relationships:   5%|▍         | 3167/69663 [41:50<10:14:02,  1.80it/s]"
     ]
    },
    {
     "name": "stdout",
     "output_type": "stream",
     "text": [
      "Error fetching place-recording relationships for c5729211-3068-45c5-a77a-c5a56272b91e: 503 Server Error: Service Temporarily Unavailable for url: https://musicbrainz.org/ws/2/place/c5729211-3068-45c5-a77a-c5a56272b91e?inc=recording-rels&fmt=json\n"
     ]
    },
    {
     "name": "stderr",
     "output_type": "stream",
     "text": [
      "Fetching relationships:   5%|▍         | 3168/69663 [41:50<10:02:58,  1.84it/s]"
     ]
    },
    {
     "name": "stdout",
     "output_type": "stream",
     "text": [
      "Error fetching place-recording relationships for 8917ff16-fdf6-4cd6-a470-623621d4f006: 503 Server Error: Service Temporarily Unavailable for url: https://musicbrainz.org/ws/2/place/8917ff16-fdf6-4cd6-a470-623621d4f006?inc=recording-rels&fmt=json\n"
     ]
    },
    {
     "name": "stderr",
     "output_type": "stream",
     "text": [
      "Fetching relationships:   5%|▍         | 3211/69663 [42:21<10:37:13,  1.74it/s]"
     ]
    },
    {
     "name": "stdout",
     "output_type": "stream",
     "text": [
      "Error fetching place-recording relationships for 897cbe88-02c2-4328-910f-b55ee6c2ea9d: 503 Server Error: Service Temporarily Unavailable for url: https://musicbrainz.org/ws/2/place/897cbe88-02c2-4328-910f-b55ee6c2ea9d?inc=recording-rels&fmt=json\n"
     ]
    },
    {
     "name": "stderr",
     "output_type": "stream",
     "text": [
      "Fetching relationships:   5%|▍         | 3212/69663 [42:22<10:18:01,  1.79it/s]"
     ]
    },
    {
     "name": "stdout",
     "output_type": "stream",
     "text": [
      "Error fetching place-recording relationships for 4042f175-1a7d-4661-9850-f99d5666014c: 503 Server Error: Service Temporarily Unavailable for url: https://musicbrainz.org/ws/2/place/4042f175-1a7d-4661-9850-f99d5666014c?inc=recording-rels&fmt=json\n"
     ]
    },
    {
     "name": "stderr",
     "output_type": "stream",
     "text": [
      "Fetching relationships:   5%|▍         | 3228/69663 [42:31<10:31:36,  1.75it/s]"
     ]
    },
    {
     "name": "stdout",
     "output_type": "stream",
     "text": [
      "Error fetching place-recording relationships for b6125eaf-478e-46c5-82c8-d2edc7244985: 503 Server Error: Service Temporarily Unavailable for url: https://musicbrainz.org/ws/2/place/b6125eaf-478e-46c5-82c8-d2edc7244985?inc=recording-rels&fmt=json\n"
     ]
    },
    {
     "name": "stderr",
     "output_type": "stream",
     "text": [
      "Fetching relationships:   5%|▍         | 3229/69663 [42:32<10:13:00,  1.81it/s]"
     ]
    },
    {
     "name": "stdout",
     "output_type": "stream",
     "text": [
      "Error fetching place-recording relationships for 4f3d757d-657e-4a7b-963b-1f1e32d002c0: 503 Server Error: Service Temporarily Unavailable for url: https://musicbrainz.org/ws/2/place/4f3d757d-657e-4a7b-963b-1f1e32d002c0?inc=recording-rels&fmt=json\n"
     ]
    },
    {
     "name": "stderr",
     "output_type": "stream",
     "text": [
      "Fetching relationships:   5%|▍         | 3287/69663 [43:13<10:12:34,  1.81it/s]"
     ]
    },
    {
     "name": "stdout",
     "output_type": "stream",
     "text": [
      "Error fetching place-recording relationships for 50d8aeb3-c75f-41ba-ab6e-2ecbc83d4eae: 503 Server Error: Service Temporarily Unavailable for url: https://musicbrainz.org/ws/2/place/50d8aeb3-c75f-41ba-ab6e-2ecbc83d4eae?inc=recording-rels&fmt=json\n"
     ]
    },
    {
     "name": "stderr",
     "output_type": "stream",
     "text": [
      "Fetching relationships:   5%|▍         | 3288/69663 [43:13<9:58:32,  1.85it/s] "
     ]
    },
    {
     "name": "stdout",
     "output_type": "stream",
     "text": [
      "Error fetching place-recording relationships for 08e0fe48-3c8c-40ee-923a-3f19ee4dc96f: 503 Server Error: Service Temporarily Unavailable for url: https://musicbrainz.org/ws/2/place/08e0fe48-3c8c-40ee-923a-3f19ee4dc96f?inc=recording-rels&fmt=json\n"
     ]
    },
    {
     "name": "stderr",
     "output_type": "stream",
     "text": [
      "Fetching relationships:   5%|▍         | 3289/69663 [43:14<9:50:38,  1.87it/s]"
     ]
    },
    {
     "name": "stdout",
     "output_type": "stream",
     "text": [
      "Error fetching place-recording relationships for 0acab3b7-0210-4cfe-aa3a-a57ed086349c: 503 Server Error: Service Temporarily Unavailable for url: https://musicbrainz.org/ws/2/place/0acab3b7-0210-4cfe-aa3a-a57ed086349c?inc=recording-rels&fmt=json\n"
     ]
    },
    {
     "name": "stderr",
     "output_type": "stream",
     "text": [
      "Fetching relationships:   5%|▍         | 3334/69663 [43:45<10:47:30,  1.71it/s]"
     ]
    },
    {
     "name": "stdout",
     "output_type": "stream",
     "text": [
      "Error fetching place-recording relationships for 80547d23-b54a-47d2-9f20-b8825e1d9ff4: 503 Server Error: Service Temporarily Unavailable for url: https://musicbrainz.org/ws/2/place/80547d23-b54a-47d2-9f20-b8825e1d9ff4?inc=recording-rels&fmt=json\n"
     ]
    },
    {
     "name": "stderr",
     "output_type": "stream",
     "text": [
      "Fetching relationships:   5%|▍         | 3335/69663 [43:45<10:22:34,  1.78it/s]"
     ]
    },
    {
     "name": "stdout",
     "output_type": "stream",
     "text": [
      "Error fetching place-recording relationships for 9b963a63-dec6-4124-accf-67f8b63ea4ae: 503 Server Error: Service Temporarily Unavailable for url: https://musicbrainz.org/ws/2/place/9b963a63-dec6-4124-accf-67f8b63ea4ae?inc=recording-rels&fmt=json\n"
     ]
    },
    {
     "name": "stderr",
     "output_type": "stream",
     "text": [
      "Fetching relationships:   5%|▍         | 3351/69663 [43:54<10:32:37,  1.75it/s]"
     ]
    },
    {
     "name": "stdout",
     "output_type": "stream",
     "text": [
      "Error fetching place-recording relationships for fcc7292b-9531-452b-99da-76ac323f44d5: 503 Server Error: Service Temporarily Unavailable for url: https://musicbrainz.org/ws/2/place/fcc7292b-9531-452b-99da-76ac323f44d5?inc=recording-rels&fmt=json\n"
     ]
    },
    {
     "name": "stderr",
     "output_type": "stream",
     "text": [
      "Fetching relationships:   5%|▍         | 3352/69663 [43:55<12:54:23,  1.43it/s]"
     ]
    },
    {
     "name": "stdout",
     "output_type": "stream",
     "text": [
      "Error fetching place-recording relationships for ff973b87-34d1-42bd-972f-a099113b3515: 503 Server Error: Service Temporarily Unavailable for url: https://musicbrainz.org/ws/2/place/ff973b87-34d1-42bd-972f-a099113b3515?inc=recording-rels&fmt=json\n"
     ]
    },
    {
     "name": "stderr",
     "output_type": "stream",
     "text": [
      "Fetching relationships:   5%|▍         | 3382/69663 [44:16<10:37:01,  1.73it/s]"
     ]
    },
    {
     "name": "stdout",
     "output_type": "stream",
     "text": [
      "Error fetching place-recording relationships for 28f1cfde-0206-4a33-9908-7c8bc79eb91c: 503 Server Error: Service Temporarily Unavailable for url: https://musicbrainz.org/ws/2/place/28f1cfde-0206-4a33-9908-7c8bc79eb91c?inc=recording-rels&fmt=json\n"
     ]
    },
    {
     "name": "stderr",
     "output_type": "stream",
     "text": [
      "Fetching relationships:   5%|▍         | 3398/69663 [44:26<10:50:27,  1.70it/s]"
     ]
    },
    {
     "name": "stdout",
     "output_type": "stream",
     "text": [
      "Error fetching place-recording relationships for bfa94309-ef5a-4a5f-b205-57c05c926c73: 503 Server Error: Service Temporarily Unavailable for url: https://musicbrainz.org/ws/2/place/bfa94309-ef5a-4a5f-b205-57c05c926c73?inc=recording-rels&fmt=json\n"
     ]
    },
    {
     "name": "stderr",
     "output_type": "stream",
     "text": [
      "Fetching relationships:   5%|▍         | 3399/69663 [44:26<10:25:46,  1.76it/s]"
     ]
    },
    {
     "name": "stdout",
     "output_type": "stream",
     "text": [
      "Error fetching place-recording relationships for 90585140-965c-4a24-9771-b112bb0b6b11: 503 Server Error: Service Temporarily Unavailable for url: https://musicbrainz.org/ws/2/place/90585140-965c-4a24-9771-b112bb0b6b11?inc=recording-rels&fmt=json\n"
     ]
    },
    {
     "name": "stderr",
     "output_type": "stream",
     "text": [
      "Fetching relationships:   5%|▍         | 3400/69663 [44:27<10:06:53,  1.82it/s]"
     ]
    },
    {
     "name": "stdout",
     "output_type": "stream",
     "text": [
      "Error fetching place-recording relationships for b46f8ab3-81c3-47d1-9b9c-a434b249027a: 503 Server Error: Service Temporarily Unavailable for url: https://musicbrainz.org/ws/2/place/b46f8ab3-81c3-47d1-9b9c-a434b249027a?inc=recording-rels&fmt=json\n"
     ]
    },
    {
     "name": "stderr",
     "output_type": "stream",
     "text": [
      "Fetching relationships:   5%|▍         | 3416/69663 [44:36<11:00:47,  1.67it/s]"
     ]
    },
    {
     "name": "stdout",
     "output_type": "stream",
     "text": [
      "Error fetching place-recording relationships for 4a9979e8-6941-456c-8143-f9d9d3bba353: 503 Server Error: Service Temporarily Unavailable for url: https://musicbrainz.org/ws/2/place/4a9979e8-6941-456c-8143-f9d9d3bba353?inc=recording-rels&fmt=json\n"
     ]
    },
    {
     "name": "stderr",
     "output_type": "stream",
     "text": [
      "Fetching relationships:   5%|▍         | 3417/69663 [44:37<10:38:49,  1.73it/s]"
     ]
    },
    {
     "name": "stdout",
     "output_type": "stream",
     "text": [
      "Error fetching place-recording relationships for c5286a06-4d47-4d95-bf7d-8815dbddb96e: 503 Server Error: Service Temporarily Unavailable for url: https://musicbrainz.org/ws/2/place/c5286a06-4d47-4d95-bf7d-8815dbddb96e?inc=recording-rels&fmt=json\n"
     ]
    },
    {
     "name": "stderr",
     "output_type": "stream",
     "text": [
      "Fetching relationships:   5%|▍         | 3460/69663 [45:08<11:22:58,  1.62it/s]"
     ]
    },
    {
     "name": "stdout",
     "output_type": "stream",
     "text": [
      "Error fetching place-recording relationships for 56ea12c8-367a-479c-8168-c7090ceae013: 503 Server Error: Service Temporarily Unavailable for url: https://musicbrainz.org/ws/2/place/56ea12c8-367a-479c-8168-c7090ceae013?inc=recording-rels&fmt=json\n"
     ]
    },
    {
     "name": "stderr",
     "output_type": "stream",
     "text": [
      "Fetching relationships:   5%|▍         | 3461/69663 [45:09<10:48:21,  1.70it/s]"
     ]
    },
    {
     "name": "stdout",
     "output_type": "stream",
     "text": [
      "Error fetching place-recording relationships for 53dc2b94-f32f-4fec-a5dd-c7214f00dc8a: 503 Server Error: Service Temporarily Unavailable for url: https://musicbrainz.org/ws/2/place/53dc2b94-f32f-4fec-a5dd-c7214f00dc8a?inc=recording-rels&fmt=json\n"
     ]
    },
    {
     "name": "stderr",
     "output_type": "stream",
     "text": [
      "Fetching relationships:   5%|▌         | 3506/69663 [45:39<10:44:00,  1.71it/s]"
     ]
    },
    {
     "name": "stdout",
     "output_type": "stream",
     "text": [
      "Error fetching place-recording relationships for 1550837a-c49d-459d-8e0c-af830613b116: 503 Server Error: Service Temporarily Unavailable for url: https://musicbrainz.org/ws/2/place/1550837a-c49d-459d-8e0c-af830613b116?inc=recording-rels&fmt=json\n"
     ]
    },
    {
     "name": "stderr",
     "output_type": "stream",
     "text": [
      "Fetching relationships:   5%|▌         | 3507/69663 [45:40<10:20:48,  1.78it/s]"
     ]
    },
    {
     "name": "stdout",
     "output_type": "stream",
     "text": [
      "Error fetching place-recording relationships for 95aefa2b-1bfd-45ce-88d4-98fad934cc82: 503 Server Error: Service Temporarily Unavailable for url: https://musicbrainz.org/ws/2/place/95aefa2b-1bfd-45ce-88d4-98fad934cc82?inc=recording-rels&fmt=json\n"
     ]
    },
    {
     "name": "stderr",
     "output_type": "stream",
     "text": [
      "Fetching relationships:   5%|▌         | 3523/69663 [45:49<10:19:39,  1.78it/s]"
     ]
    },
    {
     "name": "stdout",
     "output_type": "stream",
     "text": [
      "Error fetching place-recording relationships for d7e2ff29-a51f-4cb4-a04b-1b089eb78481: 503 Server Error: Service Temporarily Unavailable for url: https://musicbrainz.org/ws/2/place/d7e2ff29-a51f-4cb4-a04b-1b089eb78481?inc=recording-rels&fmt=json\n"
     ]
    },
    {
     "name": "stderr",
     "output_type": "stream",
     "text": [
      "Fetching relationships:   5%|▌         | 3524/69663 [45:50<10:02:54,  1.83it/s]"
     ]
    },
    {
     "name": "stdout",
     "output_type": "stream",
     "text": [
      "Error fetching place-recording relationships for c5736f12-3b15-47f6-b03f-1b3e178a975b: 503 Server Error: Service Temporarily Unavailable for url: https://musicbrainz.org/ws/2/place/c5736f12-3b15-47f6-b03f-1b3e178a975b?inc=recording-rels&fmt=json\n"
     ]
    },
    {
     "name": "stderr",
     "output_type": "stream",
     "text": [
      "Fetching relationships:   5%|▌         | 3525/69663 [45:50<9:51:06,  1.86it/s] "
     ]
    },
    {
     "name": "stdout",
     "output_type": "stream",
     "text": [
      "Error fetching place-recording relationships for 7f1602cd-a0de-4753-8923-f1b496a3e852: 503 Server Error: Service Temporarily Unavailable for url: https://musicbrainz.org/ws/2/place/7f1602cd-a0de-4753-8923-f1b496a3e852?inc=recording-rels&fmt=json\n"
     ]
    },
    {
     "name": "stderr",
     "output_type": "stream",
     "text": [
      "Fetching relationships:   5%|▌         | 3569/69663 [46:21<10:25:11,  1.76it/s]"
     ]
    },
    {
     "name": "stdout",
     "output_type": "stream",
     "text": [
      "Error fetching place-recording relationships for 11b9ae7d-2bd1-4006-9dfa-81e352e159a8: 503 Server Error: Service Temporarily Unavailable for url: https://musicbrainz.org/ws/2/place/11b9ae7d-2bd1-4006-9dfa-81e352e159a8?inc=recording-rels&fmt=json\n"
     ]
    },
    {
     "name": "stderr",
     "output_type": "stream",
     "text": [
      "Fetching relationships:   5%|▌         | 3585/69663 [46:30<12:27:37,  1.47it/s]"
     ]
    },
    {
     "name": "stdout",
     "output_type": "stream",
     "text": [
      "Error fetching place-recording relationships for bc290ff6-a35d-4b51-b9b0-881cea4d1a58: 503 Server Error: Service Temporarily Unavailable for url: https://musicbrainz.org/ws/2/place/bc290ff6-a35d-4b51-b9b0-881cea4d1a58?inc=recording-rels&fmt=json\n"
     ]
    },
    {
     "name": "stderr",
     "output_type": "stream",
     "text": [
      "Fetching relationships:   5%|▌         | 3586/69663 [46:31<13:32:59,  1.35it/s]"
     ]
    },
    {
     "name": "stdout",
     "output_type": "stream",
     "text": [
      "Error fetching place-recording relationships for d38d5cf1-37ca-47d1-8f8f-37262ccab5d7: 503 Server Error: Service Temporarily Unavailable for url: https://musicbrainz.org/ws/2/place/d38d5cf1-37ca-47d1-8f8f-37262ccab5d7?inc=recording-rels&fmt=json\n"
     ]
    },
    {
     "name": "stderr",
     "output_type": "stream",
     "text": [
      "Fetching relationships:   5%|▌         | 3615/69663 [46:52<10:41:42,  1.72it/s]"
     ]
    },
    {
     "name": "stdout",
     "output_type": "stream",
     "text": [
      "Error fetching place-recording relationships for 760d4150-8bd3-46b8-a8c6-8e78dec9e733: 503 Server Error: Service Temporarily Unavailable for url: https://musicbrainz.org/ws/2/place/760d4150-8bd3-46b8-a8c6-8e78dec9e733?inc=recording-rels&fmt=json\n"
     ]
    },
    {
     "name": "stderr",
     "output_type": "stream",
     "text": [
      "Fetching relationships:   5%|▌         | 3631/69663 [47:01<10:19:27,  1.78it/s]"
     ]
    },
    {
     "name": "stdout",
     "output_type": "stream",
     "text": [
      "Error fetching place-recording relationships for d6e70298-0a80-45fe-a4e9-5ea354035ee5: 503 Server Error: Service Temporarily Unavailable for url: https://musicbrainz.org/ws/2/place/d6e70298-0a80-45fe-a4e9-5ea354035ee5?inc=recording-rels&fmt=json\n"
     ]
    },
    {
     "name": "stderr",
     "output_type": "stream",
     "text": [
      "Fetching relationships:   5%|▌         | 3632/69663 [47:02<10:02:01,  1.83it/s]"
     ]
    },
    {
     "name": "stdout",
     "output_type": "stream",
     "text": [
      "Error fetching place-recording relationships for b8bdca61-a9a8-475a-ac71-fcc7472668aa: 503 Server Error: Service Temporarily Unavailable for url: https://musicbrainz.org/ws/2/place/b8bdca61-a9a8-475a-ac71-fcc7472668aa?inc=recording-rels&fmt=json\n"
     ]
    },
    {
     "name": "stderr",
     "output_type": "stream",
     "text": [
      "Fetching relationships:   5%|▌         | 3633/69663 [47:02<9:51:16,  1.86it/s] "
     ]
    },
    {
     "name": "stdout",
     "output_type": "stream",
     "text": [
      "Error fetching place-recording relationships for 05ce385d-39df-4165-bfaf-feae6b857b73: 503 Server Error: Service Temporarily Unavailable for url: https://musicbrainz.org/ws/2/place/05ce385d-39df-4165-bfaf-feae6b857b73?inc=recording-rels&fmt=json\n"
     ]
    },
    {
     "name": "stderr",
     "output_type": "stream",
     "text": [
      "Fetching relationships:   5%|▌         | 3649/69663 [47:12<10:42:07,  1.71it/s]"
     ]
    },
    {
     "name": "stdout",
     "output_type": "stream",
     "text": [
      "Error fetching place-recording relationships for 39ab7ede-3dff-4eca-9214-05ceb6875084: 503 Server Error: Service Temporarily Unavailable for url: https://musicbrainz.org/ws/2/place/39ab7ede-3dff-4eca-9214-05ceb6875084?inc=recording-rels&fmt=json\n"
     ]
    },
    {
     "name": "stderr",
     "output_type": "stream",
     "text": [
      "Fetching relationships:   5%|▌         | 3650/69663 [47:12<10:20:57,  1.77it/s]"
     ]
    },
    {
     "name": "stdout",
     "output_type": "stream",
     "text": [
      "Error fetching place-recording relationships for 5e60e358-72f0-4bd7-99b8-2eb6380d39fd: 503 Server Error: Service Temporarily Unavailable for url: https://musicbrainz.org/ws/2/place/5e60e358-72f0-4bd7-99b8-2eb6380d39fd?inc=recording-rels&fmt=json\n"
     ]
    },
    {
     "name": "stderr",
     "output_type": "stream",
     "text": [
      "Fetching relationships:   5%|▌         | 3695/69663 [47:43<10:19:38,  1.77it/s]"
     ]
    },
    {
     "name": "stdout",
     "output_type": "stream",
     "text": [
      "Error fetching place-recording relationships for 3994da75-78a4-441e-a771-090cd90f5efc: 503 Server Error: Service Temporarily Unavailable for url: https://musicbrainz.org/ws/2/place/3994da75-78a4-441e-a771-090cd90f5efc?inc=recording-rels&fmt=json\n"
     ]
    },
    {
     "name": "stderr",
     "output_type": "stream",
     "text": [
      "Fetching relationships:   5%|▌         | 3696/69663 [47:43<10:04:06,  1.82it/s]"
     ]
    },
    {
     "name": "stdout",
     "output_type": "stream",
     "text": [
      "Error fetching place-recording relationships for 92daad14-91c1-47ad-b926-a978fc5fa3ca: 503 Server Error: Service Temporarily Unavailable for url: https://musicbrainz.org/ws/2/place/92daad14-91c1-47ad-b926-a978fc5fa3ca?inc=recording-rels&fmt=json\n"
     ]
    },
    {
     "name": "stderr",
     "output_type": "stream",
     "text": [
      "Fetching relationships:   5%|▌         | 3741/69663 [48:15<10:30:06,  1.74it/s]"
     ]
    },
    {
     "name": "stdout",
     "output_type": "stream",
     "text": [
      "Error fetching place-recording relationships for 8932e24f-efed-4084-a887-922186a3093b: 503 Server Error: Service Temporarily Unavailable for url: https://musicbrainz.org/ws/2/place/8932e24f-efed-4084-a887-922186a3093b?inc=recording-rels&fmt=json\n"
     ]
    },
    {
     "name": "stderr",
     "output_type": "stream",
     "text": [
      "Fetching relationships:   5%|▌         | 3742/69663 [48:15<10:12:48,  1.79it/s]"
     ]
    },
    {
     "name": "stdout",
     "output_type": "stream",
     "text": [
      "Error fetching place-recording relationships for 8692a735-65bd-42e3-ad7d-a4463ac9fcd5: 503 Server Error: Service Temporarily Unavailable for url: https://musicbrainz.org/ws/2/place/8692a735-65bd-42e3-ad7d-a4463ac9fcd5?inc=recording-rels&fmt=json\n"
     ]
    },
    {
     "name": "stderr",
     "output_type": "stream",
     "text": [
      "Fetching relationships:   5%|▌         | 3758/69663 [48:25<10:26:07,  1.75it/s]"
     ]
    },
    {
     "name": "stdout",
     "output_type": "stream",
     "text": [
      "Error fetching place-recording relationships for 68fb35a7-ae97-44f2-a0bc-a1497c31066b: 503 Server Error: Service Temporarily Unavailable for url: https://musicbrainz.org/ws/2/place/68fb35a7-ae97-44f2-a0bc-a1497c31066b?inc=recording-rels&fmt=json\n"
     ]
    },
    {
     "name": "stderr",
     "output_type": "stream",
     "text": [
      "Fetching relationships:   5%|▌         | 3759/69663 [48:25<10:07:55,  1.81it/s]"
     ]
    },
    {
     "name": "stdout",
     "output_type": "stream",
     "text": [
      "Error fetching place-recording relationships for 97f35dc7-c758-4178-91f6-797bb2f358aa: 503 Server Error: Service Temporarily Unavailable for url: https://musicbrainz.org/ws/2/place/97f35dc7-c758-4178-91f6-797bb2f358aa?inc=recording-rels&fmt=json\n"
     ]
    },
    {
     "name": "stderr",
     "output_type": "stream",
     "text": [
      "Fetching relationships:   5%|▌         | 3775/69663 [48:36<13:03:48,  1.40it/s]"
     ]
    },
    {
     "name": "stdout",
     "output_type": "stream",
     "text": [
      "Error fetching place-recording relationships for 9c9b877b-cb5d-47ea-a996-99ba2308b8a5: 503 Server Error: Service Temporarily Unavailable for url: https://musicbrainz.org/ws/2/place/9c9b877b-cb5d-47ea-a996-99ba2308b8a5?inc=recording-rels&fmt=json\n"
     ]
    },
    {
     "name": "stderr",
     "output_type": "stream",
     "text": [
      "Fetching relationships:   5%|▌         | 3820/69663 [49:05<10:14:46,  1.79it/s]"
     ]
    },
    {
     "name": "stdout",
     "output_type": "stream",
     "text": [
      "Error fetching place-recording relationships for 93e0a692-bb92-4441-8caa-3c4718f4b85a: 503 Server Error: Service Temporarily Unavailable for url: https://musicbrainz.org/ws/2/place/93e0a692-bb92-4441-8caa-3c4718f4b85a?inc=recording-rels&fmt=json\n"
     ]
    },
    {
     "name": "stderr",
     "output_type": "stream",
     "text": [
      "Fetching relationships:   5%|▌         | 3821/69663 [49:06<9:58:51,  1.83it/s] "
     ]
    },
    {
     "name": "stdout",
     "output_type": "stream",
     "text": [
      "Error fetching place-recording relationships for 462a24cc-a9ef-44ed-8644-ab292571fa41: 503 Server Error: Service Temporarily Unavailable for url: https://musicbrainz.org/ws/2/place/462a24cc-a9ef-44ed-8644-ab292571fa41?inc=recording-rels&fmt=json\n"
     ]
    },
    {
     "name": "stderr",
     "output_type": "stream",
     "text": [
      "Fetching relationships:   5%|▌         | 3822/69663 [49:07<9:49:13,  1.86it/s]"
     ]
    },
    {
     "name": "stdout",
     "output_type": "stream",
     "text": [
      "Error fetching place-recording relationships for 56236e6d-98cc-4a56-87f6-37cef048624a: 503 Server Error: Service Temporarily Unavailable for url: https://musicbrainz.org/ws/2/place/56236e6d-98cc-4a56-87f6-37cef048624a?inc=recording-rels&fmt=json\n"
     ]
    },
    {
     "name": "stderr",
     "output_type": "stream",
     "text": [
      "Fetching relationships:   6%|▌         | 3866/69663 [49:37<10:10:25,  1.80it/s]"
     ]
    },
    {
     "name": "stdout",
     "output_type": "stream",
     "text": [
      "Error fetching place-recording relationships for a27742b6-8e13-4eac-8298-3d710f26541f: 503 Server Error: Service Temporarily Unavailable for url: https://musicbrainz.org/ws/2/place/a27742b6-8e13-4eac-8298-3d710f26541f?inc=recording-rels&fmt=json\n"
     ]
    },
    {
     "name": "stderr",
     "output_type": "stream",
     "text": [
      "Fetching relationships:   6%|▌         | 3867/69663 [49:37<10:03:30,  1.82it/s]"
     ]
    },
    {
     "name": "stdout",
     "output_type": "stream",
     "text": [
      "Error fetching place-recording relationships for 1651b3ba-d38c-4379-9bff-82282592baaf: 503 Server Error: Service Temporarily Unavailable for url: https://musicbrainz.org/ws/2/place/1651b3ba-d38c-4379-9bff-82282592baaf?inc=recording-rels&fmt=json\n"
     ]
    },
    {
     "name": "stderr",
     "output_type": "stream",
     "text": [
      "Fetching relationships:   6%|▌         | 3868/69663 [49:38<9:52:12,  1.85it/s] "
     ]
    },
    {
     "name": "stdout",
     "output_type": "stream",
     "text": [
      "Error fetching place-recording relationships for 35b8bccc-dd14-4c4e-a85f-9f2888c95db8: 503 Server Error: Service Temporarily Unavailable for url: https://musicbrainz.org/ws/2/place/35b8bccc-dd14-4c4e-a85f-9f2888c95db8?inc=recording-rels&fmt=json\n"
     ]
    },
    {
     "name": "stderr",
     "output_type": "stream",
     "text": [
      "Fetching relationships:   6%|▌         | 3884/69663 [49:47<10:09:36,  1.80it/s]"
     ]
    },
    {
     "name": "stdout",
     "output_type": "stream",
     "text": [
      "Error fetching place-recording relationships for 6747df70-54f6-4f87-9031-2a119324e4a8: 503 Server Error: Service Temporarily Unavailable for url: https://musicbrainz.org/ws/2/place/6747df70-54f6-4f87-9031-2a119324e4a8?inc=recording-rels&fmt=json\n"
     ]
    },
    {
     "name": "stderr",
     "output_type": "stream",
     "text": [
      "Fetching relationships:   6%|▌         | 3885/69663 [49:47<9:54:45,  1.84it/s] "
     ]
    },
    {
     "name": "stdout",
     "output_type": "stream",
     "text": [
      "Error fetching place-recording relationships for 4fee9697-fbfb-4d1d-acc9-f40dfc4afa8c: 503 Server Error: Service Temporarily Unavailable for url: https://musicbrainz.org/ws/2/place/4fee9697-fbfb-4d1d-acc9-f40dfc4afa8c?inc=recording-rels&fmt=json\n"
     ]
    },
    {
     "name": "stderr",
     "output_type": "stream",
     "text": [
      "Fetching relationships:   6%|▌         | 3886/69663 [49:48<9:47:33,  1.87it/s]"
     ]
    },
    {
     "name": "stdout",
     "output_type": "stream",
     "text": [
      "Error fetching place-recording relationships for 53380c41-b192-4c30-87fa-46bf5beed74a: 503 Server Error: Service Temporarily Unavailable for url: https://musicbrainz.org/ws/2/place/53380c41-b192-4c30-87fa-46bf5beed74a?inc=recording-rels&fmt=json\n"
     ]
    },
    {
     "name": "stderr",
     "output_type": "stream",
     "text": [
      "Fetching relationships:   6%|▌         | 3930/69663 [50:18<10:38:45,  1.72it/s]"
     ]
    },
    {
     "name": "stdout",
     "output_type": "stream",
     "text": [
      "Error fetching place-recording relationships for f5259c05-cc35-484d-b8cd-9cbdf3104eda: 503 Server Error: Service Temporarily Unavailable for url: https://musicbrainz.org/ws/2/place/f5259c05-cc35-484d-b8cd-9cbdf3104eda?inc=recording-rels&fmt=json\n"
     ]
    },
    {
     "name": "stderr",
     "output_type": "stream",
     "text": [
      "Fetching relationships:   6%|▌         | 3931/69663 [50:19<10:15:22,  1.78it/s]"
     ]
    },
    {
     "name": "stdout",
     "output_type": "stream",
     "text": [
      "Error fetching place-recording relationships for e86e1169-498f-4945-8f5b-e35d133f51ef: 503 Server Error: Service Temporarily Unavailable for url: https://musicbrainz.org/ws/2/place/e86e1169-498f-4945-8f5b-e35d133f51ef?inc=recording-rels&fmt=json\n"
     ]
    },
    {
     "name": "stderr",
     "output_type": "stream",
     "text": [
      "Fetching relationships:   6%|▌         | 3932/69663 [50:19<9:58:21,  1.83it/s] "
     ]
    },
    {
     "name": "stdout",
     "output_type": "stream",
     "text": [
      "Error fetching place-recording relationships for 21d34188-a1ff-4e01-a7d9-ffdecd451e19: 503 Server Error: Service Temporarily Unavailable for url: https://musicbrainz.org/ws/2/place/21d34188-a1ff-4e01-a7d9-ffdecd451e19?inc=recording-rels&fmt=json\n"
     ]
    },
    {
     "name": "stderr",
     "output_type": "stream",
     "text": [
      "Fetching relationships:   6%|▌         | 3976/69663 [50:50<10:03:56,  1.81it/s]"
     ]
    },
    {
     "name": "stdout",
     "output_type": "stream",
     "text": [
      "Error fetching place-recording relationships for b07409d5-7bac-47ef-b532-facc7fe2d5a4: 503 Server Error: Service Temporarily Unavailable for url: https://musicbrainz.org/ws/2/place/b07409d5-7bac-47ef-b532-facc7fe2d5a4?inc=recording-rels&fmt=json\n"
     ]
    },
    {
     "name": "stderr",
     "output_type": "stream",
     "text": [
      "Fetching relationships:   6%|▌         | 3977/69663 [50:51<9:50:46,  1.85it/s] "
     ]
    },
    {
     "name": "stdout",
     "output_type": "stream",
     "text": [
      "Error fetching place-recording relationships for 89b45e9a-c53a-451c-a66b-6c226197e829: 503 Server Error: Service Temporarily Unavailable for url: https://musicbrainz.org/ws/2/place/89b45e9a-c53a-451c-a66b-6c226197e829?inc=recording-rels&fmt=json\n"
     ]
    },
    {
     "name": "stderr",
     "output_type": "stream",
     "text": [
      "Fetching relationships:   6%|▌         | 3993/69663 [51:00<10:43:20,  1.70it/s]"
     ]
    },
    {
     "name": "stdout",
     "output_type": "stream",
     "text": [
      "Error fetching place-recording relationships for ea385223-6991-4b4f-b772-6af3b6767f45: 503 Server Error: Service Temporarily Unavailable for url: https://musicbrainz.org/ws/2/place/ea385223-6991-4b4f-b772-6af3b6767f45?inc=recording-rels&fmt=json\n"
     ]
    },
    {
     "name": "stderr",
     "output_type": "stream",
     "text": [
      "Fetching relationships:   6%|▌         | 3994/69663 [51:00<10:19:34,  1.77it/s]"
     ]
    },
    {
     "name": "stdout",
     "output_type": "stream",
     "text": [
      "Error fetching place-recording relationships for 51986458-49a0-4041-a1bc-e5f5bb531201: 503 Server Error: Service Temporarily Unavailable for url: https://musicbrainz.org/ws/2/place/51986458-49a0-4041-a1bc-e5f5bb531201?inc=recording-rels&fmt=json\n"
     ]
    },
    {
     "name": "stderr",
     "output_type": "stream",
     "text": [
      "Fetching relationships:   6%|▌         | 3995/69663 [51:01<10:03:11,  1.81it/s]"
     ]
    },
    {
     "name": "stdout",
     "output_type": "stream",
     "text": [
      "Error fetching place-recording relationships for 1d5a6c04-7642-46fd-9414-a32d21b6de42: 503 Server Error: Service Temporarily Unavailable for url: https://musicbrainz.org/ws/2/place/1d5a6c04-7642-46fd-9414-a32d21b6de42?inc=recording-rels&fmt=json\n"
     ]
    },
    {
     "name": "stderr",
     "output_type": "stream",
     "text": [
      "Fetching relationships:   6%|▌         | 4000/69663 [51:05<15:32:46,  1.17it/s]"
     ]
    },
    {
     "name": "stdout",
     "output_type": "stream",
     "text": [
      "Checkpoint saved with 4000 total records.\n"
     ]
    },
    {
     "name": "stderr",
     "output_type": "stream",
     "text": [
      "Fetching relationships:   6%|▌         | 4039/69663 [51:32<10:32:27,  1.73it/s]"
     ]
    },
    {
     "name": "stdout",
     "output_type": "stream",
     "text": [
      "Error fetching place-recording relationships for 579aa391-0512-44a8-a86a-8c8323d39500: 503 Server Error: Service Temporarily Unavailable for url: https://musicbrainz.org/ws/2/place/579aa391-0512-44a8-a86a-8c8323d39500?inc=recording-rels&fmt=json\n"
     ]
    },
    {
     "name": "stderr",
     "output_type": "stream",
     "text": [
      "Fetching relationships:   6%|▌         | 4040/69663 [51:33<10:12:57,  1.78it/s]"
     ]
    },
    {
     "name": "stdout",
     "output_type": "stream",
     "text": [
      "Error fetching place-recording relationships for 24c7d8ae-beb7-4af5-9a52-26ba43f99d74: 503 Server Error: Service Temporarily Unavailable for url: https://musicbrainz.org/ws/2/place/24c7d8ae-beb7-4af5-9a52-26ba43f99d74?inc=recording-rels&fmt=json\n"
     ]
    },
    {
     "name": "stderr",
     "output_type": "stream",
     "text": [
      "Fetching relationships:   6%|▌         | 4098/69663 [52:14<10:47:44,  1.69it/s]"
     ]
    },
    {
     "name": "stdout",
     "output_type": "stream",
     "text": [
      "Error fetching place-recording relationships for 2f04beb9-bd7b-47e8-a93c-9f8569885c62: 503 Server Error: Service Temporarily Unavailable for url: https://musicbrainz.org/ws/2/place/2f04beb9-bd7b-47e8-a93c-9f8569885c62?inc=recording-rels&fmt=json\n"
     ]
    },
    {
     "name": "stderr",
     "output_type": "stream",
     "text": [
      "Fetching relationships:   6%|▌         | 4099/69663 [52:14<10:25:18,  1.75it/s]"
     ]
    },
    {
     "name": "stdout",
     "output_type": "stream",
     "text": [
      "Error fetching place-recording relationships for db9fc98c-b49a-4695-ada5-328a928919a5: 503 Server Error: Service Temporarily Unavailable for url: https://musicbrainz.org/ws/2/place/db9fc98c-b49a-4695-ada5-328a928919a5?inc=recording-rels&fmt=json\n"
     ]
    },
    {
     "name": "stderr",
     "output_type": "stream",
     "text": [
      "Fetching relationships:   6%|▌         | 4115/69663 [52:24<10:41:16,  1.70it/s]"
     ]
    },
    {
     "name": "stdout",
     "output_type": "stream",
     "text": [
      "Error fetching place-recording relationships for 073ceb5c-e8f2-43ad-bc2b-c65e70bf60df: 503 Server Error: Service Temporarily Unavailable for url: https://musicbrainz.org/ws/2/place/073ceb5c-e8f2-43ad-bc2b-c65e70bf60df?inc=recording-rels&fmt=json\n"
     ]
    },
    {
     "name": "stderr",
     "output_type": "stream",
     "text": [
      "Fetching relationships:   6%|▌         | 4116/69663 [52:24<10:20:37,  1.76it/s]"
     ]
    },
    {
     "name": "stdout",
     "output_type": "stream",
     "text": [
      "Error fetching place-recording relationships for dc9a5584-5861-4632-ae12-999f63365b22: 503 Server Error: Service Temporarily Unavailable for url: https://musicbrainz.org/ws/2/place/dc9a5584-5861-4632-ae12-999f63365b22?inc=recording-rels&fmt=json\n"
     ]
    },
    {
     "name": "stderr",
     "output_type": "stream",
     "text": [
      "Fetching relationships:   6%|▌         | 4159/69663 [52:54<10:19:37,  1.76it/s]"
     ]
    },
    {
     "name": "stdout",
     "output_type": "stream",
     "text": [
      "Error fetching place-recording relationships for 31857458-be5b-4498-a82e-26cfba5a16c8: 503 Server Error: Service Temporarily Unavailable for url: https://musicbrainz.org/ws/2/place/31857458-be5b-4498-a82e-26cfba5a16c8?inc=recording-rels&fmt=json\n"
     ]
    },
    {
     "name": "stderr",
     "output_type": "stream",
     "text": [
      "Fetching relationships:   6%|▌         | 4160/69663 [52:55<10:05:21,  1.80it/s]"
     ]
    },
    {
     "name": "stdout",
     "output_type": "stream",
     "text": [
      "Error fetching place-recording relationships for 9fa1f4f1-e2f8-49a9-9ff6-9e24e0c51cb9: 503 Server Error: Service Temporarily Unavailable for url: https://musicbrainz.org/ws/2/place/9fa1f4f1-e2f8-49a9-9ff6-9e24e0c51cb9?inc=recording-rels&fmt=json\n"
     ]
    },
    {
     "name": "stderr",
     "output_type": "stream",
     "text": [
      "Fetching relationships:   6%|▌         | 4161/69663 [52:55<9:53:55,  1.84it/s] "
     ]
    },
    {
     "name": "stdout",
     "output_type": "stream",
     "text": [
      "Error fetching place-recording relationships for 5ec065aa-e8e2-4a87-8ada-950c29bd230a: 503 Server Error: Service Temporarily Unavailable for url: https://musicbrainz.org/ws/2/place/5ec065aa-e8e2-4a87-8ada-950c29bd230a?inc=recording-rels&fmt=json\n"
     ]
    },
    {
     "name": "stderr",
     "output_type": "stream",
     "text": [
      "Fetching relationships:   6%|▌         | 4191/69663 [53:16<10:55:47,  1.66it/s]"
     ]
    },
    {
     "name": "stdout",
     "output_type": "stream",
     "text": [
      "Error fetching place-recording relationships for ab7dc8b6-23b1-4ed9-8363-1b8ab473e694: 503 Server Error: Service Temporarily Unavailable for url: https://musicbrainz.org/ws/2/place/ab7dc8b6-23b1-4ed9-8363-1b8ab473e694?inc=recording-rels&fmt=json\n"
     ]
    },
    {
     "name": "stderr",
     "output_type": "stream",
     "text": [
      "Fetching relationships:   6%|▌         | 4207/69663 [53:26<10:38:50,  1.71it/s]"
     ]
    },
    {
     "name": "stdout",
     "output_type": "stream",
     "text": [
      "Error fetching place-recording relationships for d08fae41-30ba-4694-92a7-e3fd2342da59: 503 Server Error: Service Temporarily Unavailable for url: https://musicbrainz.org/ws/2/place/d08fae41-30ba-4694-92a7-e3fd2342da59?inc=recording-rels&fmt=json\n"
     ]
    },
    {
     "name": "stderr",
     "output_type": "stream",
     "text": [
      "Fetching relationships:   6%|▌         | 4208/69663 [53:27<10:21:28,  1.76it/s]"
     ]
    },
    {
     "name": "stdout",
     "output_type": "stream",
     "text": [
      "Error fetching place-recording relationships for e1d6e35d-7bf5-431b-aa8b-217c8ae54c8c: 503 Server Error: Service Temporarily Unavailable for url: https://musicbrainz.org/ws/2/place/e1d6e35d-7bf5-431b-aa8b-217c8ae54c8c?inc=recording-rels&fmt=json\n"
     ]
    },
    {
     "name": "stderr",
     "output_type": "stream",
     "text": [
      "Fetching relationships:   6%|▌         | 4224/69663 [53:36<10:09:26,  1.79it/s]"
     ]
    },
    {
     "name": "stdout",
     "output_type": "stream",
     "text": [
      "Error fetching place-recording relationships for 70821a31-e9ba-4e7d-8eb1-df0f9ad4fa0a: 503 Server Error: Service Temporarily Unavailable for url: https://musicbrainz.org/ws/2/place/70821a31-e9ba-4e7d-8eb1-df0f9ad4fa0a?inc=recording-rels&fmt=json\n"
     ]
    },
    {
     "name": "stderr",
     "output_type": "stream",
     "text": [
      "Fetching relationships:   6%|▌         | 4225/69663 [53:37<10:03:32,  1.81it/s]"
     ]
    },
    {
     "name": "stdout",
     "output_type": "stream",
     "text": [
      "Error fetching place-recording relationships for 6929650c-44dc-4c49-bf71-596ef4dc9cee: 503 Server Error: Service Temporarily Unavailable for url: https://musicbrainz.org/ws/2/place/6929650c-44dc-4c49-bf71-596ef4dc9cee?inc=recording-rels&fmt=json\n"
     ]
    },
    {
     "name": "stderr",
     "output_type": "stream",
     "text": [
      "Fetching relationships:   6%|▌         | 4241/69663 [53:47<12:19:31,  1.47it/s]"
     ]
    },
    {
     "name": "stdout",
     "output_type": "stream",
     "text": [
      "Error fetching place-recording relationships for 826212b9-c149-4790-a0d0-f13595f5b692: 503 Server Error: Service Temporarily Unavailable for url: https://musicbrainz.org/ws/2/place/826212b9-c149-4790-a0d0-f13595f5b692?inc=recording-rels&fmt=json\n"
     ]
    },
    {
     "name": "stderr",
     "output_type": "stream",
     "text": [
      "Fetching relationships:   6%|▌         | 4271/69663 [54:07<10:02:47,  1.81it/s]"
     ]
    },
    {
     "name": "stdout",
     "output_type": "stream",
     "text": [
      "Error fetching place-recording relationships for 1bf282bc-08ff-43e4-9213-d21ba96e0b20: 503 Server Error: Service Temporarily Unavailable for url: https://musicbrainz.org/ws/2/place/1bf282bc-08ff-43e4-9213-d21ba96e0b20?inc=recording-rels&fmt=json\n"
     ]
    },
    {
     "name": "stderr",
     "output_type": "stream",
     "text": [
      "Fetching relationships:   6%|▌         | 4272/69663 [54:08<9:48:32,  1.85it/s] "
     ]
    },
    {
     "name": "stdout",
     "output_type": "stream",
     "text": [
      "Error fetching place-recording relationships for 01f36fcc-508f-4e5a-ba3f-65462e608912: 503 Server Error: Service Temporarily Unavailable for url: https://musicbrainz.org/ws/2/place/01f36fcc-508f-4e5a-ba3f-65462e608912?inc=recording-rels&fmt=json\n"
     ]
    },
    {
     "name": "stderr",
     "output_type": "stream",
     "text": [
      "Fetching relationships:   6%|▌         | 4273/69663 [54:08<9:40:36,  1.88it/s]"
     ]
    },
    {
     "name": "stdout",
     "output_type": "stream",
     "text": [
      "Error fetching place-recording relationships for 6e211e90-9748-47b7-b902-082148841715: 503 Server Error: Service Temporarily Unavailable for url: https://musicbrainz.org/ws/2/place/6e211e90-9748-47b7-b902-082148841715?inc=recording-rels&fmt=json\n"
     ]
    },
    {
     "name": "stderr",
     "output_type": "stream",
     "text": [
      "Fetching relationships:   7%|▋         | 5000/69663 [1:03:54<19:57:29,  1.11s/it]"
     ]
    },
    {
     "name": "stdout",
     "output_type": "stream",
     "text": [
      "Checkpoint saved with 5000 total records.\n"
     ]
    },
    {
     "name": "stderr",
     "output_type": "stream",
     "text": [
      "Fetching relationships:   8%|▊         | 5630/69663 [1:11:52<10:24:13,  1.71it/s]"
     ]
    },
    {
     "name": "stdout",
     "output_type": "stream",
     "text": [
      "Error fetching place-recording relationships for 78fc022f-7a34-4194-b1c1-a464db573a59: 503 Server Error: Service Temporarily Unavailable for url: https://musicbrainz.org/ws/2/place/78fc022f-7a34-4194-b1c1-a464db573a59?inc=recording-rels&fmt=json\n"
     ]
    },
    {
     "name": "stderr",
     "output_type": "stream",
     "text": [
      "Fetching relationships:   8%|▊         | 5631/69663 [1:11:53<10:11:42,  1.74it/s]"
     ]
    },
    {
     "name": "stdout",
     "output_type": "stream",
     "text": [
      "Error fetching place-recording relationships for 7595c631-ac98-496f-b166-4ef98843779d: 503 Server Error: Service Temporarily Unavailable for url: https://musicbrainz.org/ws/2/place/7595c631-ac98-496f-b166-4ef98843779d?inc=recording-rels&fmt=json\n"
     ]
    },
    {
     "name": "stderr",
     "output_type": "stream",
     "text": [
      "Fetching relationships:   8%|▊         | 5647/69663 [1:12:02<9:52:51,  1.80it/s] "
     ]
    },
    {
     "name": "stdout",
     "output_type": "stream",
     "text": [
      "Error fetching place-recording relationships for 576ed0aa-52c6-426d-b518-943226d990ac: 503 Server Error: Service Temporarily Unavailable for url: https://musicbrainz.org/ws/2/place/576ed0aa-52c6-426d-b518-943226d990ac?inc=recording-rels&fmt=json\n"
     ]
    },
    {
     "name": "stderr",
     "output_type": "stream",
     "text": [
      "Fetching relationships:   8%|▊         | 5648/69663 [1:12:03<9:48:45,  1.81it/s]"
     ]
    },
    {
     "name": "stdout",
     "output_type": "stream",
     "text": [
      "Error fetching place-recording relationships for 45cd537c-3940-4c8a-af38-f9db948121c7: 503 Server Error: Service Temporarily Unavailable for url: https://musicbrainz.org/ws/2/place/45cd537c-3940-4c8a-af38-f9db948121c7?inc=recording-rels&fmt=json\n"
     ]
    },
    {
     "name": "stderr",
     "output_type": "stream",
     "text": [
      "Fetching relationships:   8%|▊         | 5664/69663 [1:12:12<10:04:04,  1.77it/s]"
     ]
    },
    {
     "name": "stdout",
     "output_type": "stream",
     "text": [
      "Error fetching place-recording relationships for 538f95ce-8ff4-4031-8d82-1b53243c776e: 503 Server Error: Service Temporarily Unavailable for url: https://musicbrainz.org/ws/2/place/538f95ce-8ff4-4031-8d82-1b53243c776e?inc=recording-rels&fmt=json\n"
     ]
    },
    {
     "name": "stderr",
     "output_type": "stream",
     "text": [
      "Fetching relationships:   8%|▊         | 5665/69663 [1:12:13<9:51:56,  1.80it/s] "
     ]
    },
    {
     "name": "stdout",
     "output_type": "stream",
     "text": [
      "Error fetching place-recording relationships for 13c6383a-0f53-4054-a6aa-5f1b9e2338d3: 503 Server Error: Service Temporarily Unavailable for url: https://musicbrainz.org/ws/2/place/13c6383a-0f53-4054-a6aa-5f1b9e2338d3?inc=recording-rels&fmt=json\n"
     ]
    },
    {
     "name": "stderr",
     "output_type": "stream",
     "text": [
      "Fetching relationships:   8%|▊         | 5666/69663 [1:12:13<9:43:53,  1.83it/s]"
     ]
    },
    {
     "name": "stdout",
     "output_type": "stream",
     "text": [
      "Error fetching place-recording relationships for d6aa15d7-4d7a-42d3-ba96-87021497f381: 503 Server Error: Service Temporarily Unavailable for url: https://musicbrainz.org/ws/2/place/d6aa15d7-4d7a-42d3-ba96-87021497f381?inc=recording-rels&fmt=json\n"
     ]
    },
    {
     "name": "stderr",
     "output_type": "stream",
     "text": [
      "Fetching relationships:   8%|▊         | 5682/69663 [1:12:24<13:15:02,  1.34it/s]"
     ]
    },
    {
     "name": "stdout",
     "output_type": "stream",
     "text": [
      "Error fetching place-recording relationships for 1e435d5a-4acd-448e-b259-62310232c1ad: 503 Server Error: Service Temporarily Unavailable for url: https://musicbrainz.org/ws/2/place/1e435d5a-4acd-448e-b259-62310232c1ad?inc=recording-rels&fmt=json\n"
     ]
    },
    {
     "name": "stderr",
     "output_type": "stream",
     "text": [
      "Fetching relationships:   8%|▊         | 5711/69663 [1:12:45<10:26:40,  1.70it/s]"
     ]
    },
    {
     "name": "stdout",
     "output_type": "stream",
     "text": [
      "Error fetching place-recording relationships for fa9b26a4-b893-4d4d-b38a-2c78ca859a7d: 503 Server Error: Service Temporarily Unavailable for url: https://musicbrainz.org/ws/2/place/fa9b26a4-b893-4d4d-b38a-2c78ca859a7d?inc=recording-rels&fmt=json\n"
     ]
    },
    {
     "name": "stderr",
     "output_type": "stream",
     "text": [
      "Fetching relationships:   8%|▊         | 5727/69663 [1:12:54<10:02:59,  1.77it/s]"
     ]
    },
    {
     "name": "stdout",
     "output_type": "stream",
     "text": [
      "Error fetching place-recording relationships for 9d4e0faf-ddf2-4174-b65b-4110acca66f6: 503 Server Error: Service Temporarily Unavailable for url: https://musicbrainz.org/ws/2/place/9d4e0faf-ddf2-4174-b65b-4110acca66f6?inc=recording-rels&fmt=json\n"
     ]
    },
    {
     "name": "stderr",
     "output_type": "stream",
     "text": [
      "Fetching relationships:   8%|▊         | 5728/69663 [1:12:54<9:46:42,  1.82it/s] "
     ]
    },
    {
     "name": "stdout",
     "output_type": "stream",
     "text": [
      "Error fetching place-recording relationships for da582291-6b96-4762-805c-28d757f81585: 503 Server Error: Service Temporarily Unavailable for url: https://musicbrainz.org/ws/2/place/da582291-6b96-4762-805c-28d757f81585?inc=recording-rels&fmt=json\n"
     ]
    },
    {
     "name": "stderr",
     "output_type": "stream",
     "text": [
      "Fetching relationships:   8%|▊         | 5729/69663 [1:12:55<9:36:38,  1.85it/s]"
     ]
    },
    {
     "name": "stdout",
     "output_type": "stream",
     "text": [
      "Error fetching place-recording relationships for 5d4bcd3b-dfd6-4ee3-9ae1-3092d6221abe: 503 Server Error: Service Temporarily Unavailable for url: https://musicbrainz.org/ws/2/place/5d4bcd3b-dfd6-4ee3-9ae1-3092d6221abe?inc=recording-rels&fmt=json\n"
     ]
    },
    {
     "name": "stderr",
     "output_type": "stream",
     "text": [
      "Fetching relationships:   8%|▊         | 5745/69663 [1:13:04<9:44:14,  1.82it/s] "
     ]
    },
    {
     "name": "stdout",
     "output_type": "stream",
     "text": [
      "Error fetching place-recording relationships for d68f05e3-06b3-4260-9d1a-65a4b3e6fcb9: 503 Server Error: Service Temporarily Unavailable for url: https://musicbrainz.org/ws/2/place/d68f05e3-06b3-4260-9d1a-65a4b3e6fcb9?inc=recording-rels&fmt=json\n"
     ]
    },
    {
     "name": "stderr",
     "output_type": "stream",
     "text": [
      "Fetching relationships:   8%|▊         | 5746/69663 [1:13:05<9:35:45,  1.85it/s]"
     ]
    },
    {
     "name": "stdout",
     "output_type": "stream",
     "text": [
      "Error fetching place-recording relationships for eef75fc6-3861-423a-983d-06e1d31167df: 503 Server Error: Service Temporarily Unavailable for url: https://musicbrainz.org/ws/2/place/eef75fc6-3861-423a-983d-06e1d31167df?inc=recording-rels&fmt=json\n"
     ]
    },
    {
     "name": "stderr",
     "output_type": "stream",
     "text": [
      "Fetching relationships:   8%|▊         | 5747/69663 [1:13:05<9:38:48,  1.84it/s]"
     ]
    },
    {
     "name": "stdout",
     "output_type": "stream",
     "text": [
      "Error fetching place-recording relationships for 7e7772d2-4cef-42de-a9f1-3a16e3627920: 503 Server Error: Service Temporarily Unavailable for url: https://musicbrainz.org/ws/2/place/7e7772d2-4cef-42de-a9f1-3a16e3627920?inc=recording-rels&fmt=json\n"
     ]
    },
    {
     "name": "stderr",
     "output_type": "stream",
     "text": [
      "Fetching relationships:   8%|▊         | 5763/69663 [1:13:14<10:05:04,  1.76it/s]"
     ]
    },
    {
     "name": "stdout",
     "output_type": "stream",
     "text": [
      "Error fetching place-recording relationships for b63f1694-2067-400f-a657-76c8e050827f: 503 Server Error: Service Temporarily Unavailable for url: https://musicbrainz.org/ws/2/place/b63f1694-2067-400f-a657-76c8e050827f?inc=recording-rels&fmt=json\n"
     ]
    },
    {
     "name": "stderr",
     "output_type": "stream",
     "text": [
      "Fetching relationships:   8%|▊         | 5764/69663 [1:13:15<9:49:06,  1.81it/s] "
     ]
    },
    {
     "name": "stdout",
     "output_type": "stream",
     "text": [
      "Error fetching place-recording relationships for 865a9ea3-2867-43bb-9d9a-03791c170ad2: 503 Server Error: Service Temporarily Unavailable for url: https://musicbrainz.org/ws/2/place/865a9ea3-2867-43bb-9d9a-03791c170ad2?inc=recording-rels&fmt=json\n"
     ]
    },
    {
     "name": "stderr",
     "output_type": "stream",
     "text": [
      "Fetching relationships:   8%|▊         | 5765/69663 [1:13:15<9:38:02,  1.84it/s]"
     ]
    },
    {
     "name": "stdout",
     "output_type": "stream",
     "text": [
      "Error fetching place-recording relationships for 1a76a145-14bb-481a-bb56-dc89ded0cdc6: 503 Server Error: Service Temporarily Unavailable for url: https://musicbrainz.org/ws/2/place/1a76a145-14bb-481a-bb56-dc89ded0cdc6?inc=recording-rels&fmt=json\n"
     ]
    },
    {
     "name": "stderr",
     "output_type": "stream",
     "text": [
      "Fetching relationships:   8%|▊         | 5781/69663 [1:13:24<9:52:41,  1.80it/s] "
     ]
    },
    {
     "name": "stdout",
     "output_type": "stream",
     "text": [
      "Error fetching place-recording relationships for ef321742-c575-4780-a6d0-317d03d5cd69: 503 Server Error: Service Temporarily Unavailable for url: https://musicbrainz.org/ws/2/place/ef321742-c575-4780-a6d0-317d03d5cd69?inc=recording-rels&fmt=json\n"
     ]
    },
    {
     "name": "stderr",
     "output_type": "stream",
     "text": [
      "Fetching relationships:   8%|▊         | 5782/69663 [1:13:25<9:42:19,  1.83it/s]"
     ]
    },
    {
     "name": "stdout",
     "output_type": "stream",
     "text": [
      "Error fetching place-recording relationships for 34550d86-d528-47ab-9e2a-26f500607c61: 503 Server Error: Service Temporarily Unavailable for url: https://musicbrainz.org/ws/2/place/34550d86-d528-47ab-9e2a-26f500607c61?inc=recording-rels&fmt=json\n"
     ]
    },
    {
     "name": "stderr",
     "output_type": "stream",
     "text": [
      "Fetching relationships:   8%|▊         | 5783/69663 [1:13:25<9:31:27,  1.86it/s]"
     ]
    },
    {
     "name": "stdout",
     "output_type": "stream",
     "text": [
      "Error fetching place-recording relationships for bb0f1e7e-1ddc-4aeb-b8f2-cbbd6581a49a: 503 Server Error: Service Temporarily Unavailable for url: https://musicbrainz.org/ws/2/place/bb0f1e7e-1ddc-4aeb-b8f2-cbbd6581a49a?inc=recording-rels&fmt=json\n"
     ]
    },
    {
     "name": "stderr",
     "output_type": "stream",
     "text": [
      "Fetching relationships:   8%|▊         | 5799/69663 [1:13:35<10:02:54,  1.77it/s]"
     ]
    },
    {
     "name": "stdout",
     "output_type": "stream",
     "text": [
      "Error fetching place-recording relationships for 78c09974-1955-498b-b2f5-451369f4df5f: 503 Server Error: Service Temporarily Unavailable for url: https://musicbrainz.org/ws/2/place/78c09974-1955-498b-b2f5-451369f4df5f?inc=recording-rels&fmt=json\n"
     ]
    },
    {
     "name": "stderr",
     "output_type": "stream",
     "text": [
      "Fetching relationships:   8%|▊         | 5800/69663 [1:13:35<9:45:47,  1.82it/s] "
     ]
    },
    {
     "name": "stdout",
     "output_type": "stream",
     "text": [
      "Error fetching place-recording relationships for 9e143f81-841b-4af8-bb13-7d9dc117300a: 503 Server Error: Service Temporarily Unavailable for url: https://musicbrainz.org/ws/2/place/9e143f81-841b-4af8-bb13-7d9dc117300a?inc=recording-rels&fmt=json\n"
     ]
    },
    {
     "name": "stderr",
     "output_type": "stream",
     "text": [
      "Fetching relationships:   8%|▊         | 5801/69663 [1:13:36<9:35:39,  1.85it/s]"
     ]
    },
    {
     "name": "stdout",
     "output_type": "stream",
     "text": [
      "Error fetching place-recording relationships for 3a548902-49e3-4c02-b21d-601b596f2698: 503 Server Error: Service Temporarily Unavailable for url: https://musicbrainz.org/ws/2/place/3a548902-49e3-4c02-b21d-601b596f2698?inc=recording-rels&fmt=json\n"
     ]
    },
    {
     "name": "stderr",
     "output_type": "stream",
     "text": [
      "Fetching relationships:   8%|▊         | 5873/69663 [1:14:26<11:32:43,  1.53it/s]"
     ]
    },
    {
     "name": "stdout",
     "output_type": "stream",
     "text": [
      "Error fetching place-recording relationships for 0a29aef4-b123-4cba-a4e6-8c43876b4511: 503 Server Error: Service Temporarily Unavailable for url: https://musicbrainz.org/ws/2/place/0a29aef4-b123-4cba-a4e6-8c43876b4511?inc=recording-rels&fmt=json\n"
     ]
    },
    {
     "name": "stderr",
     "output_type": "stream",
     "text": [
      "Fetching relationships:   8%|▊         | 5874/69663 [1:14:27<11:52:04,  1.49it/s]"
     ]
    },
    {
     "name": "stdout",
     "output_type": "stream",
     "text": [
      "Error fetching place-recording relationships for d0367f02-5a7a-4d80-a076-4d867e901872: 503 Server Error: Service Temporarily Unavailable for url: https://musicbrainz.org/ws/2/place/d0367f02-5a7a-4d80-a076-4d867e901872?inc=recording-rels&fmt=json\n"
     ]
    },
    {
     "name": "stderr",
     "output_type": "stream",
     "text": [
      "Fetching relationships:   8%|▊         | 5905/69663 [1:14:47<9:57:45,  1.78it/s] "
     ]
    },
    {
     "name": "stdout",
     "output_type": "stream",
     "text": [
      "Error fetching place-recording relationships for d67b653c-01dc-4204-8b75-b2b948562ce6: 503 Server Error: Service Temporarily Unavailable for url: https://musicbrainz.org/ws/2/place/d67b653c-01dc-4204-8b75-b2b948562ce6?inc=recording-rels&fmt=json\n"
     ]
    },
    {
     "name": "stderr",
     "output_type": "stream",
     "text": [
      "Fetching relationships:   8%|▊         | 5906/69663 [1:14:47<9:47:23,  1.81it/s]"
     ]
    },
    {
     "name": "stdout",
     "output_type": "stream",
     "text": [
      "Error fetching place-recording relationships for aff2e1cd-1ba1-4062-af52-3187a548b855: 503 Server Error: Service Temporarily Unavailable for url: https://musicbrainz.org/ws/2/place/aff2e1cd-1ba1-4062-af52-3187a548b855?inc=recording-rels&fmt=json\n"
     ]
    },
    {
     "name": "stderr",
     "output_type": "stream",
     "text": [
      "Fetching relationships:   8%|▊         | 5907/69663 [1:14:48<9:34:52,  1.85it/s]"
     ]
    },
    {
     "name": "stdout",
     "output_type": "stream",
     "text": [
      "Error fetching place-recording relationships for e8a831d6-f4e7-458c-be56-142586257d44: 503 Server Error: Service Temporarily Unavailable for url: https://musicbrainz.org/ws/2/place/e8a831d6-f4e7-458c-be56-142586257d44?inc=recording-rels&fmt=json\n"
     ]
    },
    {
     "name": "stderr",
     "output_type": "stream",
     "text": [
      "Fetching relationships:   9%|▊         | 5923/69663 [1:14:57<11:17:19,  1.57it/s]"
     ]
    },
    {
     "name": "stdout",
     "output_type": "stream",
     "text": [
      "Error fetching place-recording relationships for c955d3fa-27d8-499d-9517-d0bcb0c25402: 503 Server Error: Service Temporarily Unavailable for url: https://musicbrainz.org/ws/2/place/c955d3fa-27d8-499d-9517-d0bcb0c25402?inc=recording-rels&fmt=json\n"
     ]
    },
    {
     "name": "stderr",
     "output_type": "stream",
     "text": [
      "Fetching relationships:   9%|▊         | 5924/69663 [1:14:58<12:32:01,  1.41it/s]"
     ]
    },
    {
     "name": "stdout",
     "output_type": "stream",
     "text": [
      "Error fetching place-recording relationships for 5b8d4c38-f2e8-4f95-a82a-bbea0a920b3c: 503 Server Error: Service Temporarily Unavailable for url: https://musicbrainz.org/ws/2/place/5b8d4c38-f2e8-4f95-a82a-bbea0a920b3c?inc=recording-rels&fmt=json\n"
     ]
    },
    {
     "name": "stderr",
     "output_type": "stream",
     "text": [
      "Fetching relationships:   9%|▊         | 5953/69663 [1:15:19<11:45:37,  1.50it/s]"
     ]
    },
    {
     "name": "stdout",
     "output_type": "stream",
     "text": [
      "Error fetching place-recording relationships for d0c2923a-1d70-4223-a7ef-3825a1502e4e: 503 Server Error: Service Temporarily Unavailable for url: https://musicbrainz.org/ws/2/place/d0c2923a-1d70-4223-a7ef-3825a1502e4e?inc=recording-rels&fmt=json\n"
     ]
    },
    {
     "name": "stderr",
     "output_type": "stream",
     "text": [
      "Fetching relationships:   9%|▊         | 6050/69663 [1:16:01<1:57:22,  9.03it/s] "
     ]
    },
    {
     "name": "stdout",
     "output_type": "stream",
     "text": [
      "Error fetching place-recording relationships for be5b01b0-9f17-428b-8f53-064b8cf30471: 503 Server Error: Service Temporarily Unavailable for url: https://musicbrainz.org/ws/2/place/be5b01b0-9f17-428b-8f53-064b8cf30471?inc=recording-rels&fmt=json\n"
     ]
    },
    {
     "name": "stderr",
     "output_type": "stream",
     "text": [
      "Fetching relationships:   9%|▊         | 6052/69663 [1:16:02<3:41:32,  4.79it/s]"
     ]
    },
    {
     "name": "stdout",
     "output_type": "stream",
     "text": [
      "Checkpoint saved with 6000 total records.\n"
     ]
    },
    {
     "name": "stderr",
     "output_type": "stream",
     "text": [
      "Fetching relationships:   9%|▉         | 6138/69663 [1:16:31<9:57:24,  1.77it/s] "
     ]
    },
    {
     "name": "stdout",
     "output_type": "stream",
     "text": [
      "Error fetching place-recording relationships for d560999c-5c24-43a6-a5bf-bf1f969db269: 503 Server Error: Service Temporarily Unavailable for url: https://musicbrainz.org/ws/2/place/d560999c-5c24-43a6-a5bf-bf1f969db269?inc=recording-rels&fmt=json\n"
     ]
    },
    {
     "name": "stderr",
     "output_type": "stream",
     "text": [
      "Fetching relationships:   9%|▉         | 6139/69663 [1:16:32<9:42:18,  1.82it/s]"
     ]
    },
    {
     "name": "stdout",
     "output_type": "stream",
     "text": [
      "Error fetching place-recording relationships for 1169d891-14aa-4ac9-a27c-3b79290b67fb: 503 Server Error: Service Temporarily Unavailable for url: https://musicbrainz.org/ws/2/place/1169d891-14aa-4ac9-a27c-3b79290b67fb?inc=recording-rels&fmt=json\n"
     ]
    },
    {
     "name": "stderr",
     "output_type": "stream",
     "text": [
      "Fetching relationships:   9%|▉         | 6212/69663 [1:17:23<9:50:53,  1.79it/s] "
     ]
    },
    {
     "name": "stdout",
     "output_type": "stream",
     "text": [
      "Error fetching place-recording relationships for 574fadea-f89f-47c9-b4cf-e30809b3b303: 503 Server Error: Service Temporarily Unavailable for url: https://musicbrainz.org/ws/2/place/574fadea-f89f-47c9-b4cf-e30809b3b303?inc=recording-rels&fmt=json\n"
     ]
    },
    {
     "name": "stderr",
     "output_type": "stream",
     "text": [
      "Fetching relationships:   9%|▉         | 6213/69663 [1:17:24<9:37:14,  1.83it/s]"
     ]
    },
    {
     "name": "stdout",
     "output_type": "stream",
     "text": [
      "Error fetching place-recording relationships for d0cabb91-09f0-4282-ae3e-bb1ed160e2d9: 503 Server Error: Service Temporarily Unavailable for url: https://musicbrainz.org/ws/2/place/d0cabb91-09f0-4282-ae3e-bb1ed160e2d9?inc=recording-rels&fmt=json\n"
     ]
    },
    {
     "name": "stderr",
     "output_type": "stream",
     "text": [
      "Fetching relationships:   9%|▉         | 6243/69663 [1:17:45<10:37:49,  1.66it/s]"
     ]
    },
    {
     "name": "stdout",
     "output_type": "stream",
     "text": [
      "Error fetching place-recording relationships for f3d0dcee-0265-4dcd-a054-f68c897fffdd: 503 Server Error: Service Temporarily Unavailable for url: https://musicbrainz.org/ws/2/place/f3d0dcee-0265-4dcd-a054-f68c897fffdd?inc=recording-rels&fmt=json\n"
     ]
    },
    {
     "name": "stderr",
     "output_type": "stream",
     "text": [
      "Fetching relationships:   9%|▉         | 6274/69663 [1:18:06<10:45:13,  1.64it/s]"
     ]
    },
    {
     "name": "stdout",
     "output_type": "stream",
     "text": [
      "Error fetching place-recording relationships for 433d4d64-51de-4619-8b35-eef457580bb6: 503 Server Error: Service Temporarily Unavailable for url: https://musicbrainz.org/ws/2/place/433d4d64-51de-4619-8b35-eef457580bb6?inc=recording-rels&fmt=json\n"
     ]
    },
    {
     "name": "stderr",
     "output_type": "stream",
     "text": [
      "Fetching relationships:   9%|▉         | 6290/69663 [1:18:16<13:03:30,  1.35it/s]"
     ]
    },
    {
     "name": "stdout",
     "output_type": "stream",
     "text": [
      "Error fetching place-recording relationships for 86584782-dda3-4cee-87bf-d1d42f19a174: 503 Server Error: Service Temporarily Unavailable for url: https://musicbrainz.org/ws/2/place/86584782-dda3-4cee-87bf-d1d42f19a174?inc=recording-rels&fmt=json\n"
     ]
    },
    {
     "name": "stderr",
     "output_type": "stream",
     "text": [
      "Fetching relationships:   9%|▉         | 6349/69663 [1:18:57<12:44:19,  1.38it/s]"
     ]
    },
    {
     "name": "stdout",
     "output_type": "stream",
     "text": [
      "Error fetching place-recording relationships for a2265757-eedd-4220-be2f-e64aede4fd49: 503 Server Error: Service Temporarily Unavailable for url: https://musicbrainz.org/ws/2/place/a2265757-eedd-4220-be2f-e64aede4fd49?inc=recording-rels&fmt=json\n"
     ]
    },
    {
     "name": "stderr",
     "output_type": "stream",
     "text": [
      "Fetching relationships:   9%|▉         | 6380/69663 [1:19:17<9:53:11,  1.78it/s] "
     ]
    },
    {
     "name": "stdout",
     "output_type": "stream",
     "text": [
      "Error fetching place-recording relationships for 48cf4241-fa81-4f0e-a75f-151e27e40de4: 503 Server Error: Service Temporarily Unavailable for url: https://musicbrainz.org/ws/2/place/48cf4241-fa81-4f0e-a75f-151e27e40de4?inc=recording-rels&fmt=json\n"
     ]
    },
    {
     "name": "stderr",
     "output_type": "stream",
     "text": [
      "Fetching relationships:   9%|▉         | 6381/69663 [1:19:18<9:42:21,  1.81it/s]"
     ]
    },
    {
     "name": "stdout",
     "output_type": "stream",
     "text": [
      "Error fetching place-recording relationships for 5fc87d02-9d28-4a7e-91a4-9b25a7b3881d: 503 Server Error: Service Temporarily Unavailable for url: https://musicbrainz.org/ws/2/place/5fc87d02-9d28-4a7e-91a4-9b25a7b3881d?inc=recording-rels&fmt=json\n"
     ]
    },
    {
     "name": "stderr",
     "output_type": "stream",
     "text": [
      "Fetching relationships:   9%|▉         | 6382/69663 [1:19:18<9:30:39,  1.85it/s]"
     ]
    },
    {
     "name": "stdout",
     "output_type": "stream",
     "text": [
      "Error fetching place-recording relationships for e5bb6fcf-00ea-4746-b34c-be5f5ab4f6ba: 503 Server Error: Service Temporarily Unavailable for url: https://musicbrainz.org/ws/2/place/e5bb6fcf-00ea-4746-b34c-be5f5ab4f6ba?inc=recording-rels&fmt=json\n"
     ]
    },
    {
     "name": "stderr",
     "output_type": "stream",
     "text": [
      "Fetching relationships:   9%|▉         | 6398/69663 [1:19:28<10:19:09,  1.70it/s]"
     ]
    },
    {
     "name": "stdout",
     "output_type": "stream",
     "text": [
      "Error fetching place-recording relationships for 47b79cc4-a14d-4344-9731-3d1e3597cc1c: 503 Server Error: Service Temporarily Unavailable for url: https://musicbrainz.org/ws/2/place/47b79cc4-a14d-4344-9731-3d1e3597cc1c?inc=recording-rels&fmt=json\n"
     ]
    },
    {
     "name": "stderr",
     "output_type": "stream",
     "text": [
      "Fetching relationships:   9%|▉         | 6399/69663 [1:19:28<9:55:58,  1.77it/s] "
     ]
    },
    {
     "name": "stdout",
     "output_type": "stream",
     "text": [
      "Error fetching place-recording relationships for b001b977-e226-4ec9-b95f-6a49b9ba464c: 503 Server Error: Service Temporarily Unavailable for url: https://musicbrainz.org/ws/2/place/b001b977-e226-4ec9-b95f-6a49b9ba464c?inc=recording-rels&fmt=json\n"
     ]
    },
    {
     "name": "stderr",
     "output_type": "stream",
     "text": [
      "Fetching relationships:   9%|▉         | 6400/69663 [1:19:29<9:36:45,  1.83it/s]"
     ]
    },
    {
     "name": "stdout",
     "output_type": "stream",
     "text": [
      "Error fetching place-recording relationships for 25a49b0e-9b31-4653-ba63-0e07115cb745: 503 Server Error: Service Temporarily Unavailable for url: https://musicbrainz.org/ws/2/place/25a49b0e-9b31-4653-ba63-0e07115cb745?inc=recording-rels&fmt=json\n"
     ]
    },
    {
     "name": "stderr",
     "output_type": "stream",
     "text": [
      "Fetching relationships:   9%|▉         | 6430/69663 [1:19:49<10:57:48,  1.60it/s]"
     ]
    },
    {
     "name": "stdout",
     "output_type": "stream",
     "text": [
      "Error fetching place-recording relationships for 49380e23-f3b2-48b0-ad19-9672e45fd678: 503 Server Error: Service Temporarily Unavailable for url: https://musicbrainz.org/ws/2/place/49380e23-f3b2-48b0-ad19-9672e45fd678?inc=recording-rels&fmt=json\n"
     ]
    },
    {
     "name": "stderr",
     "output_type": "stream",
     "text": [
      "Fetching relationships:   9%|▉         | 6446/69663 [1:19:59<9:59:04,  1.76it/s] "
     ]
    },
    {
     "name": "stdout",
     "output_type": "stream",
     "text": [
      "Error fetching place-recording relationships for 91757201-1b73-482c-933f-8113bcbaf1e6: 503 Server Error: Service Temporarily Unavailable for url: https://musicbrainz.org/ws/2/place/91757201-1b73-482c-933f-8113bcbaf1e6?inc=recording-rels&fmt=json\n"
     ]
    },
    {
     "name": "stderr",
     "output_type": "stream",
     "text": [
      "Fetching relationships:   9%|▉         | 6447/69663 [1:19:59<9:41:58,  1.81it/s]"
     ]
    },
    {
     "name": "stdout",
     "output_type": "stream",
     "text": [
      "Error fetching place-recording relationships for b3e298d1-e918-4d25-b3dd-dec981d22a8d: 503 Server Error: Service Temporarily Unavailable for url: https://musicbrainz.org/ws/2/place/b3e298d1-e918-4d25-b3dd-dec981d22a8d?inc=recording-rels&fmt=json\n"
     ]
    },
    {
     "name": "stderr",
     "output_type": "stream",
     "text": [
      "Fetching relationships:   9%|▉         | 6448/69663 [1:20:00<9:31:22,  1.84it/s]"
     ]
    },
    {
     "name": "stdout",
     "output_type": "stream",
     "text": [
      "Error fetching place-recording relationships for 587f013f-c9cb-4703-b0f5-e1692bbcecb3: 503 Server Error: Service Temporarily Unavailable for url: https://musicbrainz.org/ws/2/place/587f013f-c9cb-4703-b0f5-e1692bbcecb3?inc=recording-rels&fmt=json\n"
     ]
    },
    {
     "name": "stderr",
     "output_type": "stream",
     "text": [
      "Fetching relationships:   9%|▉         | 6464/69663 [1:20:09<10:12:50,  1.72it/s]"
     ]
    },
    {
     "name": "stdout",
     "output_type": "stream",
     "text": [
      "Error fetching place-recording relationships for a0a00e06-0800-4bfe-b07e-b2fcfe86074f: 503 Server Error: Service Temporarily Unavailable for url: https://musicbrainz.org/ws/2/place/a0a00e06-0800-4bfe-b07e-b2fcfe86074f?inc=recording-rels&fmt=json\n"
     ]
    },
    {
     "name": "stderr",
     "output_type": "stream",
     "text": [
      "Fetching relationships:   9%|▉         | 6465/69663 [1:20:10<9:51:43,  1.78it/s] "
     ]
    },
    {
     "name": "stdout",
     "output_type": "stream",
     "text": [
      "Error fetching place-recording relationships for 3aafbb4c-d613-4e83-a94d-6b2f37a1f7fe: 503 Server Error: Service Temporarily Unavailable for url: https://musicbrainz.org/ws/2/place/3aafbb4c-d613-4e83-a94d-6b2f37a1f7fe?inc=recording-rels&fmt=json\n"
     ]
    },
    {
     "name": "stderr",
     "output_type": "stream",
     "text": [
      "Fetching relationships:   9%|▉         | 6466/69663 [1:20:10<9:36:32,  1.83it/s]"
     ]
    },
    {
     "name": "stdout",
     "output_type": "stream",
     "text": [
      "Error fetching place-recording relationships for 15fd39c9-ced2-4ef4-85fc-8ed5015aa946: 503 Server Error: Service Temporarily Unavailable for url: https://musicbrainz.org/ws/2/place/15fd39c9-ced2-4ef4-85fc-8ed5015aa946?inc=recording-rels&fmt=json\n"
     ]
    },
    {
     "name": "stderr",
     "output_type": "stream",
     "text": [
      "Fetching relationships:   9%|▉         | 6510/69663 [1:20:40<10:25:51,  1.68it/s]"
     ]
    },
    {
     "name": "stdout",
     "output_type": "stream",
     "text": [
      "Error fetching place-recording relationships for ea7d65ef-ef8f-47d5-931c-4b438460449d: 503 Server Error: Service Temporarily Unavailable for url: https://musicbrainz.org/ws/2/place/ea7d65ef-ef8f-47d5-931c-4b438460449d?inc=recording-rels&fmt=json\n"
     ]
    },
    {
     "name": "stderr",
     "output_type": "stream",
     "text": [
      "Fetching relationships:   9%|▉         | 6511/69663 [1:20:41<10:11:40,  1.72it/s]"
     ]
    },
    {
     "name": "stdout",
     "output_type": "stream",
     "text": [
      "Error fetching place-recording relationships for 1b90fd2f-0169-4a5d-a394-22693261de7f: 503 Server Error: Service Temporarily Unavailable for url: https://musicbrainz.org/ws/2/place/1b90fd2f-0169-4a5d-a394-22693261de7f?inc=recording-rels&fmt=json\n"
     ]
    },
    {
     "name": "stderr",
     "output_type": "stream",
     "text": [
      "Fetching relationships:   9%|▉         | 6527/69663 [1:20:51<13:29:03,  1.30it/s]"
     ]
    },
    {
     "name": "stdout",
     "output_type": "stream",
     "text": [
      "Error fetching place-recording relationships for a0240fa2-10f5-4416-901b-84d5c144b52d: 503 Server Error: Service Temporarily Unavailable for url: https://musicbrainz.org/ws/2/place/a0240fa2-10f5-4416-901b-84d5c144b52d?inc=recording-rels&fmt=json\n"
     ]
    },
    {
     "name": "stderr",
     "output_type": "stream",
     "text": [
      "Fetching relationships:   9%|▉         | 6557/69663 [1:21:12<10:27:23,  1.68it/s]"
     ]
    },
    {
     "name": "stdout",
     "output_type": "stream",
     "text": [
      "Error fetching place-recording relationships for 7b11fb34-2bad-4db4-9ebb-79f493d3f9df: 503 Server Error: Service Temporarily Unavailable for url: https://musicbrainz.org/ws/2/place/7b11fb34-2bad-4db4-9ebb-79f493d3f9df?inc=recording-rels&fmt=json\n"
     ]
    },
    {
     "name": "stderr",
     "output_type": "stream",
     "text": [
      "Fetching relationships:   9%|▉         | 6573/69663 [1:21:21<10:04:17,  1.74it/s]"
     ]
    },
    {
     "name": "stdout",
     "output_type": "stream",
     "text": [
      "Error fetching place-recording relationships for 2d76ed11-1b40-4e93-abc2-806c8338a7cd: 503 Server Error: Service Temporarily Unavailable for url: https://musicbrainz.org/ws/2/place/2d76ed11-1b40-4e93-abc2-806c8338a7cd?inc=recording-rels&fmt=json\n"
     ]
    },
    {
     "name": "stderr",
     "output_type": "stream",
     "text": [
      "Fetching relationships:   9%|▉         | 6574/69663 [1:21:22<9:56:10,  1.76it/s] "
     ]
    },
    {
     "name": "stdout",
     "output_type": "stream",
     "text": [
      "Error fetching place-recording relationships for 6fe2daa8-8b32-4796-b98f-9798cbae4f81: 503 Server Error: Service Temporarily Unavailable for url: https://musicbrainz.org/ws/2/place/6fe2daa8-8b32-4796-b98f-9798cbae4f81?inc=recording-rels&fmt=json\n"
     ]
    },
    {
     "name": "stderr",
     "output_type": "stream",
     "text": [
      "Fetching relationships:   9%|▉         | 6575/69663 [1:21:22<9:39:40,  1.81it/s]"
     ]
    },
    {
     "name": "stdout",
     "output_type": "stream",
     "text": [
      "Error fetching place-recording relationships for ab5af55a-dafb-49cf-bb85-ae8eb0395d1a: 503 Server Error: Service Temporarily Unavailable for url: https://musicbrainz.org/ws/2/place/ab5af55a-dafb-49cf-bb85-ae8eb0395d1a?inc=recording-rels&fmt=json\n"
     ]
    },
    {
     "name": "stderr",
     "output_type": "stream",
     "text": [
      "Fetching relationships:   9%|▉         | 6591/69663 [1:21:32<12:11:40,  1.44it/s]"
     ]
    },
    {
     "name": "stdout",
     "output_type": "stream",
     "text": [
      "Error fetching place-recording relationships for 9f0c1268-df5d-406e-82c9-58e5175bcb46: 503 Server Error: Service Temporarily Unavailable for url: https://musicbrainz.org/ws/2/place/9f0c1268-df5d-406e-82c9-58e5175bcb46?inc=recording-rels&fmt=json\n"
     ]
    },
    {
     "name": "stderr",
     "output_type": "stream",
     "text": [
      "Fetching relationships:  10%|▉         | 6635/69663 [1:22:03<10:06:14,  1.73it/s]"
     ]
    },
    {
     "name": "stdout",
     "output_type": "stream",
     "text": [
      "Error fetching place-recording relationships for 12661bcf-25bf-4c64-9ea7-92f38ad4e01a: 503 Server Error: Service Temporarily Unavailable for url: https://musicbrainz.org/ws/2/place/12661bcf-25bf-4c64-9ea7-92f38ad4e01a?inc=recording-rels&fmt=json\n"
     ]
    },
    {
     "name": "stderr",
     "output_type": "stream",
     "text": [
      "Fetching relationships:  10%|▉         | 6636/69663 [1:22:03<9:54:33,  1.77it/s] "
     ]
    },
    {
     "name": "stdout",
     "output_type": "stream",
     "text": [
      "Error fetching place-recording relationships for 9090998a-b866-42b1-9630-1d874b981ba8: 503 Server Error: Service Temporarily Unavailable for url: https://musicbrainz.org/ws/2/place/9090998a-b866-42b1-9630-1d874b981ba8?inc=recording-rels&fmt=json\n"
     ]
    },
    {
     "name": "stderr",
     "output_type": "stream",
     "text": [
      "Fetching relationships:  10%|▉         | 6637/69663 [1:22:04<9:39:54,  1.81it/s]"
     ]
    },
    {
     "name": "stdout",
     "output_type": "stream",
     "text": [
      "Error fetching place-recording relationships for 31fb00be-433b-4a09-ba1f-3c9458ccb85e: 503 Server Error: Service Temporarily Unavailable for url: https://musicbrainz.org/ws/2/place/31fb00be-433b-4a09-ba1f-3c9458ccb85e?inc=recording-rels&fmt=json\n"
     ]
    },
    {
     "name": "stderr",
     "output_type": "stream",
     "text": [
      "Fetching relationships:  10%|▉         | 6677/69663 [1:22:25<5:36:27,  3.12it/s] "
     ]
    },
    {
     "name": "stdout",
     "output_type": "stream",
     "text": [
      "Error fetching place-recording relationships for 4c6a4847-6f19-4f91-9935-8a5aeed6298c: 503 Server Error: Service Temporarily Unavailable for url: https://musicbrainz.org/ws/2/place/4c6a4847-6f19-4f91-9935-8a5aeed6298c?inc=recording-rels&fmt=json\n"
     ]
    },
    {
     "name": "stderr",
     "output_type": "stream",
     "text": [
      "Fetching relationships:  10%|▉         | 6707/69663 [1:22:34<7:34:11,  2.31it/s]"
     ]
    },
    {
     "name": "stdout",
     "output_type": "stream",
     "text": [
      "Error fetching place-recording relationships for 2128d39e-c32e-4171-ab0b-0783f0f23a81: 503 Server Error: Service Temporarily Unavailable for url: https://musicbrainz.org/ws/2/place/2128d39e-c32e-4171-ab0b-0783f0f23a81?inc=recording-rels&fmt=json\n"
     ]
    },
    {
     "name": "stderr",
     "output_type": "stream",
     "text": [
      "Fetching relationships:  10%|▉         | 6708/69663 [1:22:35<7:54:35,  2.21it/s]"
     ]
    },
    {
     "name": "stdout",
     "output_type": "stream",
     "text": [
      "Error fetching place-recording relationships for 67a2a2f5-4e3a-4e2a-9299-5334cc3b7215: 503 Server Error: Service Temporarily Unavailable for url: https://musicbrainz.org/ws/2/place/67a2a2f5-4e3a-4e2a-9299-5334cc3b7215?inc=recording-rels&fmt=json\n"
     ]
    },
    {
     "name": "stderr",
     "output_type": "stream",
     "text": [
      "Fetching relationships:  10%|▉         | 6724/69663 [1:22:44<9:52:19,  1.77it/s] "
     ]
    },
    {
     "name": "stdout",
     "output_type": "stream",
     "text": [
      "Error fetching place-recording relationships for c19899a3-578e-47d3-9a0d-ac481d7a48ea: 503 Server Error: Service Temporarily Unavailable for url: https://musicbrainz.org/ws/2/place/c19899a3-578e-47d3-9a0d-ac481d7a48ea?inc=recording-rels&fmt=json\n"
     ]
    },
    {
     "name": "stderr",
     "output_type": "stream",
     "text": [
      "Fetching relationships:  10%|▉         | 6725/69663 [1:22:45<9:36:52,  1.82it/s]"
     ]
    },
    {
     "name": "stdout",
     "output_type": "stream",
     "text": [
      "Error fetching place-recording relationships for bc1da7e2-2149-4e15-b7c7-41b2a9147cfc: 503 Server Error: Service Temporarily Unavailable for url: https://musicbrainz.org/ws/2/place/bc1da7e2-2149-4e15-b7c7-41b2a9147cfc?inc=recording-rels&fmt=json\n"
     ]
    },
    {
     "name": "stderr",
     "output_type": "stream",
     "text": [
      "Fetching relationships:  10%|▉         | 6726/69663 [1:22:45<9:25:56,  1.85it/s]"
     ]
    },
    {
     "name": "stdout",
     "output_type": "stream",
     "text": [
      "Error fetching place-recording relationships for b5571da1-4990-4f34-8050-03f87c0fa777: 503 Server Error: Service Temporarily Unavailable for url: https://musicbrainz.org/ws/2/place/b5571da1-4990-4f34-8050-03f87c0fa777?inc=recording-rels&fmt=json\n"
     ]
    },
    {
     "name": "stderr",
     "output_type": "stream",
     "text": [
      "Fetching relationships:  10%|▉         | 6838/69663 [1:23:36<9:36:42,  1.82it/s] "
     ]
    },
    {
     "name": "stdout",
     "output_type": "stream",
     "text": [
      "Error fetching place-recording relationships for 85e23ae4-bc8a-4924-ba9d-f520383a9ee7: 503 Server Error: Service Temporarily Unavailable for url: https://musicbrainz.org/ws/2/place/85e23ae4-bc8a-4924-ba9d-f520383a9ee7?inc=recording-rels&fmt=json\n"
     ]
    },
    {
     "name": "stderr",
     "output_type": "stream",
     "text": [
      "Fetching relationships:  10%|▉         | 6839/69663 [1:23:36<9:24:28,  1.85it/s]"
     ]
    },
    {
     "name": "stdout",
     "output_type": "stream",
     "text": [
      "Error fetching place-recording relationships for d8d43abe-3bce-46d3-88cf-81827c446936: 503 Server Error: Service Temporarily Unavailable for url: https://musicbrainz.org/ws/2/place/d8d43abe-3bce-46d3-88cf-81827c446936?inc=recording-rels&fmt=json\n"
     ]
    },
    {
     "name": "stderr",
     "output_type": "stream",
     "text": [
      "Fetching relationships:  10%|▉         | 6840/69663 [1:23:37<9:30:46,  1.83it/s]"
     ]
    },
    {
     "name": "stdout",
     "output_type": "stream",
     "text": [
      "Error fetching place-recording relationships for 95cb947e-9c13-4b54-a3fb-981939d15ddd: 503 Server Error: Service Temporarily Unavailable for url: https://musicbrainz.org/ws/2/place/95cb947e-9c13-4b54-a3fb-981939d15ddd?inc=recording-rels&fmt=json\n"
     ]
    },
    {
     "name": "stderr",
     "output_type": "stream",
     "text": [
      "Fetching relationships:  10%|▉         | 6856/69663 [1:23:46<9:35:12,  1.82it/s] "
     ]
    },
    {
     "name": "stdout",
     "output_type": "stream",
     "text": [
      "Error fetching place-recording relationships for feab7298-9dcc-4abd-bb39-d808de85a3e0: 503 Server Error: Service Temporarily Unavailable for url: https://musicbrainz.org/ws/2/place/feab7298-9dcc-4abd-bb39-d808de85a3e0?inc=recording-rels&fmt=json\n"
     ]
    },
    {
     "name": "stderr",
     "output_type": "stream",
     "text": [
      "Fetching relationships:  10%|▉         | 6857/69663 [1:23:46<9:23:05,  1.86it/s]"
     ]
    },
    {
     "name": "stdout",
     "output_type": "stream",
     "text": [
      "Error fetching place-recording relationships for 15965144-8778-4ba1-af79-2f8c64bc440f: 503 Server Error: Service Temporarily Unavailable for url: https://musicbrainz.org/ws/2/place/15965144-8778-4ba1-af79-2f8c64bc440f?inc=recording-rels&fmt=json\n"
     ]
    },
    {
     "name": "stderr",
     "output_type": "stream",
     "text": [
      "Fetching relationships:  10%|▉         | 6858/69663 [1:23:47<9:19:53,  1.87it/s]"
     ]
    },
    {
     "name": "stdout",
     "output_type": "stream",
     "text": [
      "Error fetching place-recording relationships for 532663a5-59a9-4640-a71d-73928af0281b: 503 Server Error: Service Temporarily Unavailable for url: https://musicbrainz.org/ws/2/place/532663a5-59a9-4640-a71d-73928af0281b?inc=recording-rels&fmt=json\n"
     ]
    },
    {
     "name": "stderr",
     "output_type": "stream",
     "text": [
      "Fetching relationships:  10%|▉         | 6875/69663 [1:23:56<9:30:35,  1.83it/s]"
     ]
    },
    {
     "name": "stdout",
     "output_type": "stream",
     "text": [
      "Error fetching place-recording relationships for 784797e5-38fc-40be-9faa-37b7604f624d: 503 Server Error: Service Temporarily Unavailable for url: https://musicbrainz.org/ws/2/place/784797e5-38fc-40be-9faa-37b7604f624d?inc=recording-rels&fmt=json\n"
     ]
    },
    {
     "name": "stderr",
     "output_type": "stream",
     "text": [
      "Fetching relationships:  10%|▉         | 6876/69663 [1:23:56<9:26:11,  1.85it/s]"
     ]
    },
    {
     "name": "stdout",
     "output_type": "stream",
     "text": [
      "Error fetching place-recording relationships for bee5c6b6-1594-4d6f-93b6-4fb4876d5da3: 503 Server Error: Service Temporarily Unavailable for url: https://musicbrainz.org/ws/2/place/bee5c6b6-1594-4d6f-93b6-4fb4876d5da3?inc=recording-rels&fmt=json\n"
     ]
    },
    {
     "name": "stderr",
     "output_type": "stream",
     "text": [
      "Fetching relationships:  10%|▉         | 6877/69663 [1:23:57<9:19:47,  1.87it/s]"
     ]
    },
    {
     "name": "stdout",
     "output_type": "stream",
     "text": [
      "Error fetching place-recording relationships for 506ad012-8714-4292-8b0c-9d2828cdf30b: 503 Server Error: Service Temporarily Unavailable for url: https://musicbrainz.org/ws/2/place/506ad012-8714-4292-8b0c-9d2828cdf30b?inc=recording-rels&fmt=json\n"
     ]
    },
    {
     "name": "stderr",
     "output_type": "stream",
     "text": [
      "Fetching relationships:  10%|▉         | 6893/69663 [1:24:07<12:17:58,  1.42it/s]"
     ]
    },
    {
     "name": "stdout",
     "output_type": "stream",
     "text": [
      "Error fetching place-recording relationships for 73dfea10-86a7-453f-9c13-bdf245d7e034: 503 Server Error: Service Temporarily Unavailable for url: https://musicbrainz.org/ws/2/place/73dfea10-86a7-453f-9c13-bdf245d7e034?inc=recording-rels&fmt=json\n"
     ]
    },
    {
     "name": "stderr",
     "output_type": "stream",
     "text": [
      "Fetching relationships:  10%|▉         | 6923/69663 [1:24:27<9:56:18,  1.75it/s] "
     ]
    },
    {
     "name": "stdout",
     "output_type": "stream",
     "text": [
      "Error fetching place-recording relationships for a61196d6-121f-4129-ac90-3e81486119e3: 503 Server Error: Service Temporarily Unavailable for url: https://musicbrainz.org/ws/2/place/a61196d6-121f-4129-ac90-3e81486119e3?inc=recording-rels&fmt=json\n"
     ]
    },
    {
     "name": "stderr",
     "output_type": "stream",
     "text": [
      "Fetching relationships:  10%|▉         | 6953/69663 [1:24:48<9:47:37,  1.78it/s] "
     ]
    },
    {
     "name": "stdout",
     "output_type": "stream",
     "text": [
      "Error fetching place-recording relationships for e8268f6b-b31e-480d-8c94-6320fdfe02e0: 503 Server Error: Service Temporarily Unavailable for url: https://musicbrainz.org/ws/2/place/e8268f6b-b31e-480d-8c94-6320fdfe02e0?inc=recording-rels&fmt=json\n"
     ]
    },
    {
     "name": "stderr",
     "output_type": "stream",
     "text": [
      "Fetching relationships:  10%|█         | 6969/69663 [1:24:58<9:58:22,  1.75it/s] "
     ]
    },
    {
     "name": "stdout",
     "output_type": "stream",
     "text": [
      "Error fetching place-recording relationships for c7d51040-ed80-413d-81e1-6e38eaa9aeca: 503 Server Error: Service Temporarily Unavailable for url: https://musicbrainz.org/ws/2/place/c7d51040-ed80-413d-81e1-6e38eaa9aeca?inc=recording-rels&fmt=json\n"
     ]
    },
    {
     "name": "stderr",
     "output_type": "stream",
     "text": [
      "Fetching relationships:  10%|█         | 6970/69663 [1:24:58<9:43:19,  1.79it/s]"
     ]
    },
    {
     "name": "stdout",
     "output_type": "stream",
     "text": [
      "Error fetching place-recording relationships for 6720b5b2-37ff-4066-8571-1344dc3fc3e9: 503 Server Error: Service Temporarily Unavailable for url: https://musicbrainz.org/ws/2/place/6720b5b2-37ff-4066-8571-1344dc3fc3e9?inc=recording-rels&fmt=json\n"
     ]
    },
    {
     "name": "stderr",
     "output_type": "stream",
     "text": [
      "Fetching relationships:  10%|█         | 6971/69663 [1:24:59<9:30:07,  1.83it/s]"
     ]
    },
    {
     "name": "stdout",
     "output_type": "stream",
     "text": [
      "Error fetching place-recording relationships for c214a4bd-5748-482e-a27e-74120579b1b8: 503 Server Error: Service Temporarily Unavailable for url: https://musicbrainz.org/ws/2/place/c214a4bd-5748-482e-a27e-74120579b1b8?inc=recording-rels&fmt=json\n"
     ]
    },
    {
     "name": "stderr",
     "output_type": "stream",
     "text": [
      "Fetching relationships:  10%|█         | 6987/69663 [1:25:09<12:59:50,  1.34it/s]"
     ]
    },
    {
     "name": "stdout",
     "output_type": "stream",
     "text": [
      "Error fetching place-recording relationships for f9dc797b-677f-4366-a6d9-d7c612664f67: 503 Server Error: Service Temporarily Unavailable for url: https://musicbrainz.org/ws/2/place/f9dc797b-677f-4366-a6d9-d7c612664f67?inc=recording-rels&fmt=json\n"
     ]
    },
    {
     "name": "stderr",
     "output_type": "stream",
     "text": [
      "Fetching relationships:  10%|█         | 7017/69663 [1:25:29<10:05:40,  1.72it/s]"
     ]
    },
    {
     "name": "stdout",
     "output_type": "stream",
     "text": [
      "Error fetching place-recording relationships for df2baeb2-8ba5-4d54-9643-9638fd7a8e7a: 503 Server Error: Service Temporarily Unavailable for url: https://musicbrainz.org/ws/2/place/df2baeb2-8ba5-4d54-9643-9638fd7a8e7a?inc=recording-rels&fmt=json\n"
     ]
    },
    {
     "name": "stderr",
     "output_type": "stream",
     "text": [
      "Fetching relationships:  10%|█         | 7018/69663 [1:25:30<9:44:07,  1.79it/s] "
     ]
    },
    {
     "name": "stdout",
     "output_type": "stream",
     "text": [
      "Error fetching place-recording relationships for 6750e009-82d1-4c28-878c-e7e6616e1c44: 503 Server Error: Service Temporarily Unavailable for url: https://musicbrainz.org/ws/2/place/6750e009-82d1-4c28-878c-e7e6616e1c44?inc=recording-rels&fmt=json\n"
     ]
    },
    {
     "name": "stderr",
     "output_type": "stream",
     "text": [
      "Fetching relationships:  10%|█         | 7034/69663 [1:25:39<9:49:06,  1.77it/s] "
     ]
    },
    {
     "name": "stdout",
     "output_type": "stream",
     "text": [
      "Error fetching place-recording relationships for 7efd1e2e-8a3b-4b29-8c13-ee00f35ebda8: 503 Server Error: Service Temporarily Unavailable for url: https://musicbrainz.org/ws/2/place/7efd1e2e-8a3b-4b29-8c13-ee00f35ebda8?inc=recording-rels&fmt=json\n"
     ]
    },
    {
     "name": "stderr",
     "output_type": "stream",
     "text": [
      "Fetching relationships:  10%|█         | 7035/69663 [1:25:39<9:34:40,  1.82it/s]"
     ]
    },
    {
     "name": "stdout",
     "output_type": "stream",
     "text": [
      "Error fetching place-recording relationships for 7f03f9d6-1bbc-4b92-9e65-dfca2917a6bf: 503 Server Error: Service Temporarily Unavailable for url: https://musicbrainz.org/ws/2/place/7f03f9d6-1bbc-4b92-9e65-dfca2917a6bf?inc=recording-rels&fmt=json\n"
     ]
    },
    {
     "name": "stderr",
     "output_type": "stream",
     "text": [
      "Fetching relationships:  10%|█         | 7036/69663 [1:25:40<9:22:20,  1.86it/s]"
     ]
    },
    {
     "name": "stdout",
     "output_type": "stream",
     "text": [
      "Error fetching place-recording relationships for 47b761c3-3db1-4726-bdf0-f8d8d59ec838: 503 Server Error: Service Temporarily Unavailable for url: https://musicbrainz.org/ws/2/place/47b761c3-3db1-4726-bdf0-f8d8d59ec838?inc=recording-rels&fmt=json\n"
     ]
    },
    {
     "name": "stderr",
     "output_type": "stream",
     "text": [
      "Fetching relationships:  10%|█         | 7081/69663 [1:26:10<10:08:16,  1.71it/s]"
     ]
    },
    {
     "name": "stdout",
     "output_type": "stream",
     "text": [
      "Error fetching place-recording relationships for ab18d596-3913-452b-baf9-09be13937562: 503 Server Error: Service Temporarily Unavailable for url: https://musicbrainz.org/ws/2/place/ab18d596-3913-452b-baf9-09be13937562?inc=recording-rels&fmt=json\n"
     ]
    },
    {
     "name": "stderr",
     "output_type": "stream",
     "text": [
      "Fetching relationships:  10%|█         | 7082/69663 [1:26:11<9:45:06,  1.78it/s] "
     ]
    },
    {
     "name": "stdout",
     "output_type": "stream",
     "text": [
      "Error fetching place-recording relationships for 5fe2b10a-4d6e-4813-a2a4-6160ebe7880c: 503 Server Error: Service Temporarily Unavailable for url: https://musicbrainz.org/ws/2/place/5fe2b10a-4d6e-4813-a2a4-6160ebe7880c?inc=recording-rels&fmt=json\n"
     ]
    },
    {
     "name": "stderr",
     "output_type": "stream",
     "text": [
      "Fetching relationships:  10%|█         | 7083/69663 [1:26:11<9:29:21,  1.83it/s]"
     ]
    },
    {
     "name": "stdout",
     "output_type": "stream",
     "text": [
      "Error fetching place-recording relationships for 7925db18-595c-4022-a527-891d787e812b: 503 Server Error: Service Temporarily Unavailable for url: https://musicbrainz.org/ws/2/place/7925db18-595c-4022-a527-891d787e812b?inc=recording-rels&fmt=json\n"
     ]
    },
    {
     "name": "stderr",
     "output_type": "stream",
     "text": [
      "Fetching relationships:  10%|█         | 7099/69663 [1:26:21<10:08:32,  1.71it/s]"
     ]
    },
    {
     "name": "stdout",
     "output_type": "stream",
     "text": [
      "Error fetching place-recording relationships for d938366d-2168-4550-8710-7e702254d095: 503 Server Error: Service Temporarily Unavailable for url: https://musicbrainz.org/ws/2/place/d938366d-2168-4550-8710-7e702254d095?inc=recording-rels&fmt=json\n"
     ]
    },
    {
     "name": "stderr",
     "output_type": "stream",
     "text": [
      "Fetching relationships:  10%|█         | 7100/69663 [1:26:21<9:47:23,  1.78it/s] "
     ]
    },
    {
     "name": "stdout",
     "output_type": "stream",
     "text": [
      "Error fetching place-recording relationships for 3a87331e-4e38-40c1-9e0a-d36676f58b23: 503 Server Error: Service Temporarily Unavailable for url: https://musicbrainz.org/ws/2/place/3a87331e-4e38-40c1-9e0a-d36676f58b23?inc=recording-rels&fmt=json\n"
     ]
    },
    {
     "name": "stderr",
     "output_type": "stream",
     "text": [
      "Fetching relationships:  10%|█         | 7145/69663 [1:26:52<10:13:36,  1.70it/s]"
     ]
    },
    {
     "name": "stdout",
     "output_type": "stream",
     "text": [
      "Error fetching place-recording relationships for ecfc94ae-3451-4cb9-8cbb-41bf4902a728: 503 Server Error: Service Temporarily Unavailable for url: https://musicbrainz.org/ws/2/place/ecfc94ae-3451-4cb9-8cbb-41bf4902a728?inc=recording-rels&fmt=json\n"
     ]
    },
    {
     "name": "stderr",
     "output_type": "stream",
     "text": [
      "Fetching relationships:  10%|█         | 7156/69663 [1:27:00<16:04:30,  1.08it/s]"
     ]
    },
    {
     "name": "stdout",
     "output_type": "stream",
     "text": [
      "Checkpoint saved with 7000 total records.\n"
     ]
    },
    {
     "name": "stderr",
     "output_type": "stream",
     "text": [
      "Fetching relationships:  10%|█         | 7205/69663 [1:27:34<10:24:16,  1.67it/s]"
     ]
    },
    {
     "name": "stdout",
     "output_type": "stream",
     "text": [
      "Error fetching place-recording relationships for 76d33f87-0e28-4f6f-95f6-186a725f8de8: 503 Server Error: Service Temporarily Unavailable for url: https://musicbrainz.org/ws/2/place/76d33f87-0e28-4f6f-95f6-186a725f8de8?inc=recording-rels&fmt=json\n"
     ]
    },
    {
     "name": "stderr",
     "output_type": "stream",
     "text": [
      "Fetching relationships:  10%|█         | 7206/69663 [1:27:34<9:58:17,  1.74it/s] "
     ]
    },
    {
     "name": "stdout",
     "output_type": "stream",
     "text": [
      "Error fetching place-recording relationships for a60e0c74-e2f9-4505-a23e-157ef50ef105: 503 Server Error: Service Temporarily Unavailable for url: https://musicbrainz.org/ws/2/place/a60e0c74-e2f9-4505-a23e-157ef50ef105?inc=recording-rels&fmt=json\n"
     ]
    },
    {
     "name": "stderr",
     "output_type": "stream",
     "text": [
      "Fetching relationships:  10%|█         | 7250/69663 [1:28:06<10:04:34,  1.72it/s]"
     ]
    },
    {
     "name": "stdout",
     "output_type": "stream",
     "text": [
      "Error fetching place-recording relationships for 4a7d4017-38f8-4e88-bf25-a7e0ebd7ce0d: 503 Server Error: Service Temporarily Unavailable for url: https://musicbrainz.org/ws/2/place/4a7d4017-38f8-4e88-bf25-a7e0ebd7ce0d?inc=recording-rels&fmt=json\n"
     ]
    },
    {
     "name": "stderr",
     "output_type": "stream",
     "text": [
      "Fetching relationships:  10%|█         | 7294/69663 [1:28:36<10:08:21,  1.71it/s]"
     ]
    },
    {
     "name": "stdout",
     "output_type": "stream",
     "text": [
      "Error fetching place-recording relationships for b0ac9cf5-cf41-4253-a9c5-e635b45bcdf2: 503 Server Error: Service Temporarily Unavailable for url: https://musicbrainz.org/ws/2/place/b0ac9cf5-cf41-4253-a9c5-e635b45bcdf2?inc=recording-rels&fmt=json\n"
     ]
    },
    {
     "name": "stderr",
     "output_type": "stream",
     "text": [
      "Fetching relationships:  10%|█         | 7295/69663 [1:28:36<9:48:07,  1.77it/s] "
     ]
    },
    {
     "name": "stdout",
     "output_type": "stream",
     "text": [
      "Error fetching place-recording relationships for 56ea91c8-549d-439b-b0b6-d6c057f0b6b6: 503 Server Error: Service Temporarily Unavailable for url: https://musicbrainz.org/ws/2/place/56ea91c8-549d-439b-b0b6-d6c057f0b6b6?inc=recording-rels&fmt=json\n"
     ]
    },
    {
     "name": "stderr",
     "output_type": "stream",
     "text": [
      "Fetching relationships:  10%|█         | 7313/69663 [1:28:46<10:20:47,  1.67it/s]"
     ]
    },
    {
     "name": "stdout",
     "output_type": "stream",
     "text": [
      "Error fetching place-recording relationships for 94d685ef-0481-4094-bffe-f2268f7c3c37: 503 Server Error: Service Temporarily Unavailable for url: https://musicbrainz.org/ws/2/place/94d685ef-0481-4094-bffe-f2268f7c3c37?inc=recording-rels&fmt=json\n"
     ]
    },
    {
     "name": "stderr",
     "output_type": "stream",
     "text": [
      "Fetching relationships:  10%|█         | 7314/69663 [1:28:46<9:56:29,  1.74it/s] "
     ]
    },
    {
     "name": "stdout",
     "output_type": "stream",
     "text": [
      "Error fetching place-recording relationships for d6ee01d5-a74c-49fa-9b9f-3f0550ff0f33: 503 Server Error: Service Temporarily Unavailable for url: https://musicbrainz.org/ws/2/place/d6ee01d5-a74c-49fa-9b9f-3f0550ff0f33?inc=recording-rels&fmt=json\n"
     ]
    },
    {
     "name": "stderr",
     "output_type": "stream",
     "text": [
      "Fetching relationships:  11%|█         | 7330/69663 [1:28:56<9:50:46,  1.76it/s] "
     ]
    },
    {
     "name": "stdout",
     "output_type": "stream",
     "text": [
      "Error fetching place-recording relationships for 1af602c7-c2b6-4851-963b-ac280e6e9d6c: 503 Server Error: Service Temporarily Unavailable for url: https://musicbrainz.org/ws/2/place/1af602c7-c2b6-4851-963b-ac280e6e9d6c?inc=recording-rels&fmt=json\n"
     ]
    },
    {
     "name": "stderr",
     "output_type": "stream",
     "text": [
      "Fetching relationships:  11%|█         | 7331/69663 [1:28:56<9:33:34,  1.81it/s]"
     ]
    },
    {
     "name": "stdout",
     "output_type": "stream",
     "text": [
      "Error fetching place-recording relationships for 43889a27-7b07-4657-9a09-f8455b8f1b7f: 503 Server Error: Service Temporarily Unavailable for url: https://musicbrainz.org/ws/2/place/43889a27-7b07-4657-9a09-f8455b8f1b7f?inc=recording-rels&fmt=json\n"
     ]
    },
    {
     "name": "stderr",
     "output_type": "stream",
     "text": [
      "Fetching relationships:  11%|█         | 7332/69663 [1:28:57<9:26:29,  1.83it/s]"
     ]
    },
    {
     "name": "stdout",
     "output_type": "stream",
     "text": [
      "Error fetching place-recording relationships for 5e8c44d6-f1c0-4dfd-8cb0-8d999a80eef3: 503 Server Error: Service Temporarily Unavailable for url: https://musicbrainz.org/ws/2/place/5e8c44d6-f1c0-4dfd-8cb0-8d999a80eef3?inc=recording-rels&fmt=json\n"
     ]
    },
    {
     "name": "stderr",
     "output_type": "stream",
     "text": [
      "Fetching relationships:  11%|█         | 7405/69663 [1:29:48<10:25:29,  1.66it/s]"
     ]
    },
    {
     "name": "stdout",
     "output_type": "stream",
     "text": [
      "Error fetching place-recording relationships for 9dc297a8-8c78-4f48-99f5-b7eb74be7016: 503 Server Error: Service Temporarily Unavailable for url: https://musicbrainz.org/ws/2/place/9dc297a8-8c78-4f48-99f5-b7eb74be7016?inc=recording-rels&fmt=json\n"
     ]
    },
    {
     "name": "stderr",
     "output_type": "stream",
     "text": [
      "Fetching relationships:  11%|█         | 7406/69663 [1:29:49<9:56:30,  1.74it/s] "
     ]
    },
    {
     "name": "stdout",
     "output_type": "stream",
     "text": [
      "Error fetching place-recording relationships for 12555cfa-f257-419c-b04d-ecae395a35ea: 503 Server Error: Service Temporarily Unavailable for url: https://musicbrainz.org/ws/2/place/12555cfa-f257-419c-b04d-ecae395a35ea?inc=recording-rels&fmt=json\n"
     ]
    },
    {
     "name": "stderr",
     "output_type": "stream",
     "text": [
      "Fetching relationships:  11%|█         | 7422/69663 [1:29:58<9:43:11,  1.78it/s] "
     ]
    },
    {
     "name": "stdout",
     "output_type": "stream",
     "text": [
      "Error fetching place-recording relationships for 64e35071-2376-463e-b0fb-b829a5359113: 503 Server Error: Service Temporarily Unavailable for url: https://musicbrainz.org/ws/2/place/64e35071-2376-463e-b0fb-b829a5359113?inc=recording-rels&fmt=json\n"
     ]
    },
    {
     "name": "stderr",
     "output_type": "stream",
     "text": [
      "Fetching relationships:  11%|█         | 7423/69663 [1:29:58<9:24:49,  1.84it/s]"
     ]
    },
    {
     "name": "stdout",
     "output_type": "stream",
     "text": [
      "Error fetching place-recording relationships for d8610648-e06b-4a88-bc47-0f7e0f522ee5: 503 Server Error: Service Temporarily Unavailable for url: https://musicbrainz.org/ws/2/place/d8610648-e06b-4a88-bc47-0f7e0f522ee5?inc=recording-rels&fmt=json\n"
     ]
    },
    {
     "name": "stderr",
     "output_type": "stream",
     "text": [
      "Fetching relationships:  11%|█         | 7424/69663 [1:29:59<9:20:30,  1.85it/s]"
     ]
    },
    {
     "name": "stdout",
     "output_type": "stream",
     "text": [
      "Error fetching place-recording relationships for 9df55641-6dcf-423a-a0ef-49816165f5fa: 503 Server Error: Service Temporarily Unavailable for url: https://musicbrainz.org/ws/2/place/9df55641-6dcf-423a-a0ef-49816165f5fa?inc=recording-rels&fmt=json\n"
     ]
    },
    {
     "name": "stderr",
     "output_type": "stream",
     "text": [
      "Fetching relationships:  11%|█         | 7440/69663 [1:30:08<9:54:19,  1.74it/s] "
     ]
    },
    {
     "name": "stdout",
     "output_type": "stream",
     "text": [
      "Error fetching place-recording relationships for 825716af-5af1-43e5-a4ac-09372aa40e67: 503 Server Error: Service Temporarily Unavailable for url: https://musicbrainz.org/ws/2/place/825716af-5af1-43e5-a4ac-09372aa40e67?inc=recording-rels&fmt=json\n"
     ]
    },
    {
     "name": "stderr",
     "output_type": "stream",
     "text": [
      "Fetching relationships:  11%|█         | 7441/69663 [1:30:09<9:35:53,  1.80it/s]"
     ]
    },
    {
     "name": "stdout",
     "output_type": "stream",
     "text": [
      "Error fetching place-recording relationships for 88da091e-126d-410d-8f31-564e91359a7f: 503 Server Error: Service Temporarily Unavailable for url: https://musicbrainz.org/ws/2/place/88da091e-126d-410d-8f31-564e91359a7f?inc=recording-rels&fmt=json\n"
     ]
    },
    {
     "name": "stderr",
     "output_type": "stream",
     "text": [
      "Fetching relationships:  11%|█         | 7514/69663 [1:31:01<10:31:17,  1.64it/s]"
     ]
    },
    {
     "name": "stdout",
     "output_type": "stream",
     "text": [
      "Error fetching place-recording relationships for 7661c819-f4e9-4e2c-b1fe-17d859aa9bd7: 503 Server Error: Service Temporarily Unavailable for url: https://musicbrainz.org/ws/2/place/7661c819-f4e9-4e2c-b1fe-17d859aa9bd7?inc=recording-rels&fmt=json\n"
     ]
    },
    {
     "name": "stderr",
     "output_type": "stream",
     "text": [
      "Fetching relationships:  11%|█         | 7530/69663 [1:31:10<9:31:07,  1.81it/s] "
     ]
    },
    {
     "name": "stdout",
     "output_type": "stream",
     "text": [
      "Error fetching place-recording relationships for 9f8f746d-c129-4b65-82f2-0d6fc4f888a3: 503 Server Error: Service Temporarily Unavailable for url: https://musicbrainz.org/ws/2/place/9f8f746d-c129-4b65-82f2-0d6fc4f888a3?inc=recording-rels&fmt=json\n"
     ]
    },
    {
     "name": "stderr",
     "output_type": "stream",
     "text": [
      "Fetching relationships:  11%|█         | 7531/69663 [1:31:10<9:18:24,  1.85it/s]"
     ]
    },
    {
     "name": "stdout",
     "output_type": "stream",
     "text": [
      "Error fetching place-recording relationships for 95ffb819-7380-4c1f-b12e-67627d6d5da5: 503 Server Error: Service Temporarily Unavailable for url: https://musicbrainz.org/ws/2/place/95ffb819-7380-4c1f-b12e-67627d6d5da5?inc=recording-rels&fmt=json\n"
     ]
    },
    {
     "name": "stderr",
     "output_type": "stream",
     "text": [
      "Fetching relationships:  11%|█         | 7532/69663 [1:31:11<9:09:06,  1.89it/s]"
     ]
    },
    {
     "name": "stdout",
     "output_type": "stream",
     "text": [
      "Error fetching place-recording relationships for 9b0d26f4-9031-485b-8423-a8a81c05e2d6: 503 Server Error: Service Temporarily Unavailable for url: https://musicbrainz.org/ws/2/place/9b0d26f4-9031-485b-8423-a8a81c05e2d6?inc=recording-rels&fmt=json\n"
     ]
    },
    {
     "name": "stderr",
     "output_type": "stream",
     "text": [
      "Fetching relationships:  11%|█         | 7548/69663 [1:31:20<9:27:31,  1.82it/s]"
     ]
    },
    {
     "name": "stdout",
     "output_type": "stream",
     "text": [
      "Error fetching place-recording relationships for a3476051-6205-4831-99e0-e8f8b4f23fca: 503 Server Error: Service Temporarily Unavailable for url: https://musicbrainz.org/ws/2/place/a3476051-6205-4831-99e0-e8f8b4f23fca?inc=recording-rels&fmt=json\n"
     ]
    },
    {
     "name": "stderr",
     "output_type": "stream",
     "text": [
      "Fetching relationships:  11%|█         | 7549/69663 [1:31:20<9:18:27,  1.85it/s]"
     ]
    },
    {
     "name": "stdout",
     "output_type": "stream",
     "text": [
      "Error fetching place-recording relationships for 6c81d4ed-08a2-4d81-84b8-11b2f350916e: 503 Server Error: Service Temporarily Unavailable for url: https://musicbrainz.org/ws/2/place/6c81d4ed-08a2-4d81-84b8-11b2f350916e?inc=recording-rels&fmt=json\n"
     ]
    },
    {
     "name": "stderr",
     "output_type": "stream",
     "text": [
      "Fetching relationships:  11%|█         | 7550/69663 [1:31:21<9:12:37,  1.87it/s]"
     ]
    },
    {
     "name": "stdout",
     "output_type": "stream",
     "text": [
      "Error fetching place-recording relationships for fa09242d-1f4e-489a-9d8a-c68dde31ba32: 503 Server Error: Service Temporarily Unavailable for url: https://musicbrainz.org/ws/2/place/fa09242d-1f4e-489a-9d8a-c68dde31ba32?inc=recording-rels&fmt=json\n"
     ]
    },
    {
     "name": "stderr",
     "output_type": "stream",
     "text": [
      "Fetching relationships:  11%|█         | 7551/69663 [1:31:21<9:07:22,  1.89it/s]"
     ]
    },
    {
     "name": "stdout",
     "output_type": "stream",
     "text": [
      "Error fetching place-recording relationships for efae9ae1-2585-4cd0-bcb1-a2e6ff814076: 503 Server Error: Service Temporarily Unavailable for url: https://musicbrainz.org/ws/2/place/efae9ae1-2585-4cd0-bcb1-a2e6ff814076?inc=recording-rels&fmt=json\n"
     ]
    },
    {
     "name": "stderr",
     "output_type": "stream",
     "text": [
      "Fetching relationships:  11%|█         | 7567/69663 [1:31:31<9:31:28,  1.81it/s] "
     ]
    },
    {
     "name": "stdout",
     "output_type": "stream",
     "text": [
      "Error fetching place-recording relationships for fef0daeb-de95-4a84-b911-d531cc99ce05: 503 Server Error: Service Temporarily Unavailable for url: https://musicbrainz.org/ws/2/place/fef0daeb-de95-4a84-b911-d531cc99ce05?inc=recording-rels&fmt=json\n"
     ]
    },
    {
     "name": "stderr",
     "output_type": "stream",
     "text": [
      "Fetching relationships:  11%|█         | 7568/69663 [1:31:31<9:22:40,  1.84it/s]"
     ]
    },
    {
     "name": "stdout",
     "output_type": "stream",
     "text": [
      "Error fetching place-recording relationships for f7b801ac-7603-491e-ae68-23cc287f6b45: 503 Server Error: Service Temporarily Unavailable for url: https://musicbrainz.org/ws/2/place/f7b801ac-7603-491e-ae68-23cc287f6b45?inc=recording-rels&fmt=json\n"
     ]
    },
    {
     "name": "stderr",
     "output_type": "stream",
     "text": [
      "Fetching relationships:  11%|█         | 7569/69663 [1:31:32<9:15:14,  1.86it/s]"
     ]
    },
    {
     "name": "stdout",
     "output_type": "stream",
     "text": [
      "Error fetching place-recording relationships for baee8f47-95b6-4d5f-9e63-da8f5ea64aaf: 503 Server Error: Service Temporarily Unavailable for url: https://musicbrainz.org/ws/2/place/baee8f47-95b6-4d5f-9e63-da8f5ea64aaf?inc=recording-rels&fmt=json\n"
     ]
    },
    {
     "name": "stderr",
     "output_type": "stream",
     "text": [
      "Fetching relationships:  11%|█         | 7641/69663 [1:32:24<10:59:53,  1.57it/s]"
     ]
    },
    {
     "name": "stdout",
     "output_type": "stream",
     "text": [
      "Error fetching place-recording relationships for d0a1d249-a369-4b89-80e1-d03d426635e1: 503 Server Error: Service Temporarily Unavailable for url: https://musicbrainz.org/ws/2/place/d0a1d249-a369-4b89-80e1-d03d426635e1?inc=recording-rels&fmt=json\n"
     ]
    },
    {
     "name": "stderr",
     "output_type": "stream",
     "text": [
      "Fetching relationships:  11%|█         | 7657/69663 [1:32:34<10:08:56,  1.70it/s]"
     ]
    },
    {
     "name": "stdout",
     "output_type": "stream",
     "text": [
      "Error fetching place-recording relationships for eedd5a0b-64b4-4e93-a0ad-85c4b37ac698: 503 Server Error: Service Temporarily Unavailable for url: https://musicbrainz.org/ws/2/place/eedd5a0b-64b4-4e93-a0ad-85c4b37ac698?inc=recording-rels&fmt=json\n"
     ]
    },
    {
     "name": "stderr",
     "output_type": "stream",
     "text": [
      "Fetching relationships:  11%|█         | 7658/69663 [1:32:34<9:45:37,  1.76it/s] "
     ]
    },
    {
     "name": "stdout",
     "output_type": "stream",
     "text": [
      "Error fetching place-recording relationships for 6ba2c96c-95bf-49e6-afb8-1a955d00bf14: 503 Server Error: Service Temporarily Unavailable for url: https://musicbrainz.org/ws/2/place/6ba2c96c-95bf-49e6-afb8-1a955d00bf14?inc=recording-rels&fmt=json\n"
     ]
    },
    {
     "name": "stderr",
     "output_type": "stream",
     "text": [
      "Fetching relationships:  11%|█         | 7674/69663 [1:32:44<10:21:09,  1.66it/s]"
     ]
    },
    {
     "name": "stdout",
     "output_type": "stream",
     "text": [
      "Error fetching place-recording relationships for b8ca88bb-21e5-485d-8aac-1543c6e6f519: 503 Server Error: Service Temporarily Unavailable for url: https://musicbrainz.org/ws/2/place/b8ca88bb-21e5-485d-8aac-1543c6e6f519?inc=recording-rels&fmt=json\n"
     ]
    },
    {
     "name": "stderr",
     "output_type": "stream",
     "text": [
      "Fetching relationships:  11%|█         | 7675/69663 [1:32:44<9:55:04,  1.74it/s] "
     ]
    },
    {
     "name": "stdout",
     "output_type": "stream",
     "text": [
      "Error fetching place-recording relationships for 709e701a-4236-4823-b7b3-5896a25fff4d: 503 Server Error: Service Temporarily Unavailable for url: https://musicbrainz.org/ws/2/place/709e701a-4236-4823-b7b3-5896a25fff4d?inc=recording-rels&fmt=json\n"
     ]
    },
    {
     "name": "stderr",
     "output_type": "stream",
     "text": [
      "Fetching relationships:  11%|█         | 7770/69663 [1:33:46<9:56:54,  1.73it/s] "
     ]
    },
    {
     "name": "stdout",
     "output_type": "stream",
     "text": [
      "Error fetching place-recording relationships for 3784e364-024f-4434-953d-851b212fa0cb: 503 Server Error: Service Temporarily Unavailable for url: https://musicbrainz.org/ws/2/place/3784e364-024f-4434-953d-851b212fa0cb?inc=recording-rels&fmt=json\n"
     ]
    },
    {
     "name": "stderr",
     "output_type": "stream",
     "text": [
      "Fetching relationships:  11%|█         | 7771/69663 [1:33:47<9:38:10,  1.78it/s]"
     ]
    },
    {
     "name": "stdout",
     "output_type": "stream",
     "text": [
      "Error fetching place-recording relationships for 1beda608-31ca-41c8-9956-648f376d9bdf: 503 Server Error: Service Temporarily Unavailable for url: https://musicbrainz.org/ws/2/place/1beda608-31ca-41c8-9956-648f376d9bdf?inc=recording-rels&fmt=json\n"
     ]
    },
    {
     "name": "stderr",
     "output_type": "stream",
     "text": [
      "Fetching relationships:  11%|█         | 7787/69663 [1:33:56<9:52:33,  1.74it/s] "
     ]
    },
    {
     "name": "stdout",
     "output_type": "stream",
     "text": [
      "Error fetching place-recording relationships for 39cc3f81-7e73-4e2f-9d41-54522735db94: 503 Server Error: Service Temporarily Unavailable for url: https://musicbrainz.org/ws/2/place/39cc3f81-7e73-4e2f-9d41-54522735db94?inc=recording-rels&fmt=json\n"
     ]
    },
    {
     "name": "stderr",
     "output_type": "stream",
     "text": [
      "Fetching relationships:  11%|█         | 7788/69663 [1:33:57<9:43:37,  1.77it/s]"
     ]
    },
    {
     "name": "stdout",
     "output_type": "stream",
     "text": [
      "Error fetching place-recording relationships for 580151fe-7e49-4b83-943a-b6212af79065: 503 Server Error: Service Temporarily Unavailable for url: https://musicbrainz.org/ws/2/place/580151fe-7e49-4b83-943a-b6212af79065?inc=recording-rels&fmt=json\n"
     ]
    },
    {
     "name": "stderr",
     "output_type": "stream",
     "text": [
      "Fetching relationships:  11%|█         | 7804/69663 [1:34:07<9:53:54,  1.74it/s] "
     ]
    },
    {
     "name": "stdout",
     "output_type": "stream",
     "text": [
      "Error fetching place-recording relationships for a5832ad0-3947-4eb7-a644-4fa11f100d09: 503 Server Error: Service Temporarily Unavailable for url: https://musicbrainz.org/ws/2/place/a5832ad0-3947-4eb7-a644-4fa11f100d09?inc=recording-rels&fmt=json\n"
     ]
    },
    {
     "name": "stderr",
     "output_type": "stream",
     "text": [
      "Fetching relationships:  11%|█         | 7805/69663 [1:34:07<9:37:40,  1.78it/s]"
     ]
    },
    {
     "name": "stdout",
     "output_type": "stream",
     "text": [
      "Error fetching place-recording relationships for ccfa40a5-4bf0-4f1e-904d-31fe32f1935a: 503 Server Error: Service Temporarily Unavailable for url: https://musicbrainz.org/ws/2/place/ccfa40a5-4bf0-4f1e-904d-31fe32f1935a?inc=recording-rels&fmt=json\n"
     ]
    },
    {
     "name": "stderr",
     "output_type": "stream",
     "text": [
      "Fetching relationships:  11%|█         | 7834/69663 [1:34:28<10:38:47,  1.61it/s]"
     ]
    },
    {
     "name": "stdout",
     "output_type": "stream",
     "text": [
      "Error fetching place-recording relationships for 5ca241f4-b4bb-49da-95b2-f481cc75efa0: 503 Server Error: Service Temporarily Unavailable for url: https://musicbrainz.org/ws/2/place/5ca241f4-b4bb-49da-95b2-f481cc75efa0?inc=recording-rels&fmt=json\n"
     ]
    },
    {
     "name": "stderr",
     "output_type": "stream",
     "text": [
      "Fetching relationships:  11%|█▏        | 7894/69663 [1:35:10<10:53:28,  1.58it/s]"
     ]
    },
    {
     "name": "stdout",
     "output_type": "stream",
     "text": [
      "Error fetching place-recording relationships for b18605d6-ef5c-4883-8164-cf97e67e8aaf: 503 Server Error: Service Temporarily Unavailable for url: https://musicbrainz.org/ws/2/place/b18605d6-ef5c-4883-8164-cf97e67e8aaf?inc=recording-rels&fmt=json\n"
     ]
    },
    {
     "name": "stderr",
     "output_type": "stream",
     "text": [
      "Fetching relationships:  11%|█▏        | 7910/69663 [1:35:20<9:40:33,  1.77it/s] "
     ]
    },
    {
     "name": "stdout",
     "output_type": "stream",
     "text": [
      "Error fetching place-recording relationships for 41b383dc-3ea0-4af2-8dfe-ad62bb40196a: 503 Server Error: Service Temporarily Unavailable for url: https://musicbrainz.org/ws/2/place/41b383dc-3ea0-4af2-8dfe-ad62bb40196a?inc=recording-rels&fmt=json\n"
     ]
    },
    {
     "name": "stderr",
     "output_type": "stream",
     "text": [
      "Fetching relationships:  11%|█▏        | 7911/69663 [1:35:20<9:26:39,  1.82it/s]"
     ]
    },
    {
     "name": "stdout",
     "output_type": "stream",
     "text": [
      "Error fetching place-recording relationships for 42bf3f15-5c2a-403d-9b17-48a8fa3c83b5: 503 Server Error: Service Temporarily Unavailable for url: https://musicbrainz.org/ws/2/place/42bf3f15-5c2a-403d-9b17-48a8fa3c83b5?inc=recording-rels&fmt=json\n"
     ]
    },
    {
     "name": "stderr",
     "output_type": "stream",
     "text": [
      "Fetching relationships:  11%|█▏        | 7927/69663 [1:35:31<12:24:50,  1.38it/s]"
     ]
    },
    {
     "name": "stdout",
     "output_type": "stream",
     "text": [
      "Error fetching place-recording relationships for 98148c22-7e17-4ea5-9038-aa822403de4b: 503 Server Error: Service Temporarily Unavailable for url: https://musicbrainz.org/ws/2/place/98148c22-7e17-4ea5-9038-aa822403de4b?inc=recording-rels&fmt=json\n"
     ]
    },
    {
     "name": "stderr",
     "output_type": "stream",
     "text": [
      "Fetching relationships:  12%|█▏        | 8014/69663 [1:36:33<9:35:19,  1.79it/s] "
     ]
    },
    {
     "name": "stdout",
     "output_type": "stream",
     "text": [
      "Error fetching place-recording relationships for 732166d3-1104-467f-b673-8c2ebec4a53b: 503 Server Error: Service Temporarily Unavailable for url: https://musicbrainz.org/ws/2/place/732166d3-1104-467f-b673-8c2ebec4a53b?inc=recording-rels&fmt=json\n"
     ]
    },
    {
     "name": "stderr",
     "output_type": "stream",
     "text": [
      "Fetching relationships:  12%|█▏        | 8030/69663 [1:36:42<9:43:26,  1.76it/s]"
     ]
    },
    {
     "name": "stdout",
     "output_type": "stream",
     "text": [
      "Error fetching place-recording relationships for dd3bc7e7-7e82-45d6-88fd-a5ec189bb16e: 503 Server Error: Service Temporarily Unavailable for url: https://musicbrainz.org/ws/2/place/dd3bc7e7-7e82-45d6-88fd-a5ec189bb16e?inc=recording-rels&fmt=json\n"
     ]
    },
    {
     "name": "stderr",
     "output_type": "stream",
     "text": [
      "Fetching relationships:  12%|█▏        | 8031/69663 [1:36:42<9:28:37,  1.81it/s]"
     ]
    },
    {
     "name": "stdout",
     "output_type": "stream",
     "text": [
      "Error fetching place-recording relationships for 464307f2-450e-4943-ab50-3e07167b2236: 503 Server Error: Service Temporarily Unavailable for url: https://musicbrainz.org/ws/2/place/464307f2-450e-4943-ab50-3e07167b2236?inc=recording-rels&fmt=json\n"
     ]
    },
    {
     "name": "stderr",
     "output_type": "stream",
     "text": [
      "Fetching relationships:  12%|█▏        | 8032/69663 [1:36:43<9:17:07,  1.84it/s]"
     ]
    },
    {
     "name": "stdout",
     "output_type": "stream",
     "text": [
      "Error fetching place-recording relationships for 2d8d1a93-4ddc-4bd2-905a-12763f476601: 503 Server Error: Service Temporarily Unavailable for url: https://musicbrainz.org/ws/2/place/2d8d1a93-4ddc-4bd2-905a-12763f476601?inc=recording-rels&fmt=json\n"
     ]
    },
    {
     "name": "stderr",
     "output_type": "stream",
     "text": [
      "Fetching relationships:  12%|█▏        | 8130/69663 [1:37:55<9:50:17,  1.74it/s] "
     ]
    },
    {
     "name": "stdout",
     "output_type": "stream",
     "text": [
      "Error fetching place-recording relationships for e0f17d1c-d219-4d18-961b-edc078c41a79: 503 Server Error: Service Temporarily Unavailable for url: https://musicbrainz.org/ws/2/place/e0f17d1c-d219-4d18-961b-edc078c41a79?inc=recording-rels&fmt=json\n"
     ]
    },
    {
     "name": "stderr",
     "output_type": "stream",
     "text": [
      "Fetching relationships:  12%|█▏        | 8131/69663 [1:37:55<9:34:25,  1.79it/s]"
     ]
    },
    {
     "name": "stdout",
     "output_type": "stream",
     "text": [
      "Error fetching place-recording relationships for 3d87f3ba-2720-4f11-9e35-497ddb53dca5: 503 Server Error: Service Temporarily Unavailable for url: https://musicbrainz.org/ws/2/place/3d87f3ba-2720-4f11-9e35-497ddb53dca5?inc=recording-rels&fmt=json\n"
     ]
    },
    {
     "name": "stderr",
     "output_type": "stream",
     "text": [
      "Fetching relationships:  12%|█▏        | 8165/69663 [1:38:20<17:39:38,  1.03s/it]"
     ]
    },
    {
     "name": "stdout",
     "output_type": "stream",
     "text": [
      "Checkpoint saved with 8000 total records.\n"
     ]
    },
    {
     "name": "stderr",
     "output_type": "stream",
     "text": [
      "Fetching relationships:  12%|█▏        | 8232/69663 [1:39:08<9:28:58,  1.80it/s] "
     ]
    },
    {
     "name": "stdout",
     "output_type": "stream",
     "text": [
      "Error fetching place-recording relationships for 35af0f7e-ac8f-4727-870a-f90492151c35: 503 Server Error: Service Temporarily Unavailable for url: https://musicbrainz.org/ws/2/place/35af0f7e-ac8f-4727-870a-f90492151c35?inc=recording-rels&fmt=json\n"
     ]
    },
    {
     "name": "stderr",
     "output_type": "stream",
     "text": [
      "Fetching relationships:  12%|█▏        | 8277/69663 [1:39:38<10:01:20,  1.70it/s]"
     ]
    },
    {
     "name": "stdout",
     "output_type": "stream",
     "text": [
      "Error fetching place-recording relationships for f0ace039-59d6-49f5-a2cf-b91791a46c1d: 503 Server Error: Service Temporarily Unavailable for url: https://musicbrainz.org/ws/2/place/f0ace039-59d6-49f5-a2cf-b91791a46c1d?inc=recording-rels&fmt=json\n"
     ]
    },
    {
     "name": "stderr",
     "output_type": "stream",
     "text": [
      "Fetching relationships:  12%|█▏        | 8307/69663 [1:39:59<10:08:12,  1.68it/s]"
     ]
    },
    {
     "name": "stdout",
     "output_type": "stream",
     "text": [
      "Error fetching place-recording relationships for fb27dacf-af0f-4815-8148-737df4d39768: 503 Server Error: Service Temporarily Unavailable for url: https://musicbrainz.org/ws/2/place/fb27dacf-af0f-4815-8148-737df4d39768?inc=recording-rels&fmt=json\n"
     ]
    },
    {
     "name": "stderr",
     "output_type": "stream",
     "text": [
      "Fetching relationships:  12%|█▏        | 8352/69663 [1:40:28<9:23:28,  1.81it/s] "
     ]
    },
    {
     "name": "stdout",
     "output_type": "stream",
     "text": [
      "Error fetching place-recording relationships for 2f960741-35ac-4b0c-9926-e2d930a25f89: 503 Server Error: Service Temporarily Unavailable for url: https://musicbrainz.org/ws/2/place/2f960741-35ac-4b0c-9926-e2d930a25f89?inc=recording-rels&fmt=json\n"
     ]
    },
    {
     "name": "stderr",
     "output_type": "stream",
     "text": [
      "Fetching relationships:  12%|█▏        | 8353/69663 [1:40:29<9:12:00,  1.85it/s]"
     ]
    },
    {
     "name": "stdout",
     "output_type": "stream",
     "text": [
      "Error fetching place-recording relationships for 4e416633-7c80-48f1-904e-6a66b63b7d11: 503 Server Error: Service Temporarily Unavailable for url: https://musicbrainz.org/ws/2/place/4e416633-7c80-48f1-904e-6a66b63b7d11?inc=recording-rels&fmt=json\n"
     ]
    },
    {
     "name": "stderr",
     "output_type": "stream",
     "text": [
      "Fetching relationships:  12%|█▏        | 8354/69663 [1:40:29<9:10:46,  1.86it/s]"
     ]
    },
    {
     "name": "stdout",
     "output_type": "stream",
     "text": [
      "Error fetching place-recording relationships for 61566fcf-4d61-4fb9-9554-91e419b277b4: 503 Server Error: Service Temporarily Unavailable for url: https://musicbrainz.org/ws/2/place/61566fcf-4d61-4fb9-9554-91e419b277b4?inc=recording-rels&fmt=json\n"
     ]
    },
    {
     "name": "stderr",
     "output_type": "stream",
     "text": [
      "Fetching relationships:  12%|█▏        | 8370/69663 [1:40:40<13:32:41,  1.26it/s]"
     ]
    },
    {
     "name": "stdout",
     "output_type": "stream",
     "text": [
      "Error fetching place-recording relationships for c2d3206c-24ed-498d-9161-5caf891dab23: 503 Server Error: Service Temporarily Unavailable for url: https://musicbrainz.org/ws/2/place/c2d3206c-24ed-498d-9161-5caf891dab23?inc=recording-rels&fmt=json\n"
     ]
    },
    {
     "name": "stderr",
     "output_type": "stream",
     "text": [
      "Fetching relationships:  12%|█▏        | 8401/69663 [1:41:00<12:27:17,  1.37it/s]"
     ]
    },
    {
     "name": "stdout",
     "output_type": "stream",
     "text": [
      "Error fetching place-recording relationships for 1c087ddd-4113-4a33-8c28-ba1de0a27375: 503 Server Error: Service Temporarily Unavailable for url: https://musicbrainz.org/ws/2/place/1c087ddd-4113-4a33-8c28-ba1de0a27375?inc=recording-rels&fmt=json\n"
     ]
    },
    {
     "name": "stderr",
     "output_type": "stream",
     "text": [
      "Fetching relationships:  12%|█▏        | 8431/69663 [1:41:21<12:12:57,  1.39it/s]"
     ]
    },
    {
     "name": "stdout",
     "output_type": "stream",
     "text": [
      "Error fetching place-recording relationships for f781a133-5147-4e17-8962-15c46c9e5811: 503 Server Error: Service Temporarily Unavailable for url: https://musicbrainz.org/ws/2/place/f781a133-5147-4e17-8962-15c46c9e5811?inc=recording-rels&fmt=json\n"
     ]
    },
    {
     "name": "stderr",
     "output_type": "stream",
     "text": [
      "Fetching relationships:  12%|█▏        | 8460/69663 [1:41:42<9:42:01,  1.75it/s] "
     ]
    },
    {
     "name": "stdout",
     "output_type": "stream",
     "text": [
      "Error fetching place-recording relationships for f517dab6-fb89-4528-ada9-79d24a5aa903: 503 Server Error: Service Temporarily Unavailable for url: https://musicbrainz.org/ws/2/place/f517dab6-fb89-4528-ada9-79d24a5aa903?inc=recording-rels&fmt=json\n"
     ]
    },
    {
     "name": "stderr",
     "output_type": "stream",
     "text": [
      "Fetching relationships:  12%|█▏        | 8476/69663 [1:41:51<9:53:13,  1.72it/s] "
     ]
    },
    {
     "name": "stdout",
     "output_type": "stream",
     "text": [
      "Error fetching place-recording relationships for d6095a6a-4948-4516-96f8-57213d2a8dfe: 503 Server Error: Service Temporarily Unavailable for url: https://musicbrainz.org/ws/2/place/d6095a6a-4948-4516-96f8-57213d2a8dfe?inc=recording-rels&fmt=json\n"
     ]
    },
    {
     "name": "stderr",
     "output_type": "stream",
     "text": [
      "Fetching relationships:  12%|█▏        | 8477/69663 [1:41:52<9:34:51,  1.77it/s]"
     ]
    },
    {
     "name": "stdout",
     "output_type": "stream",
     "text": [
      "Error fetching place-recording relationships for d1c77dc9-3783-4a9f-b341-5600dec87e07: 503 Server Error: Service Temporarily Unavailable for url: https://musicbrainz.org/ws/2/place/d1c77dc9-3783-4a9f-b341-5600dec87e07?inc=recording-rels&fmt=json\n"
     ]
    },
    {
     "name": "stderr",
     "output_type": "stream",
     "text": [
      "Fetching relationships:  12%|█▏        | 8478/69663 [1:41:52<9:24:23,  1.81it/s]"
     ]
    },
    {
     "name": "stdout",
     "output_type": "stream",
     "text": [
      "Error fetching place-recording relationships for 327e8377-3423-4651-ab8d-38f416069228: 503 Server Error: Service Temporarily Unavailable for url: https://musicbrainz.org/ws/2/place/327e8377-3423-4651-ab8d-38f416069228?inc=recording-rels&fmt=json\n"
     ]
    },
    {
     "name": "stderr",
     "output_type": "stream",
     "text": [
      "Fetching relationships:  12%|█▏        | 8507/69663 [1:42:12<9:46:37,  1.74it/s] "
     ]
    },
    {
     "name": "stdout",
     "output_type": "stream",
     "text": [
      "Error fetching place-recording relationships for c58c10b2-0410-4472-a69c-5afbb378aa91: 503 Server Error: Service Temporarily Unavailable for url: https://musicbrainz.org/ws/2/place/c58c10b2-0410-4472-a69c-5afbb378aa91?inc=recording-rels&fmt=json\n"
     ]
    },
    {
     "name": "stderr",
     "output_type": "stream",
     "text": [
      "Fetching relationships:  12%|█▏        | 8508/69663 [1:42:13<9:34:26,  1.77it/s]"
     ]
    },
    {
     "name": "stdout",
     "output_type": "stream",
     "text": [
      "Error fetching place-recording relationships for 838be016-e073-4aec-8e09-6b047e56ef41: 503 Server Error: Service Temporarily Unavailable for url: https://musicbrainz.org/ws/2/place/838be016-e073-4aec-8e09-6b047e56ef41?inc=recording-rels&fmt=json\n"
     ]
    },
    {
     "name": "stderr",
     "output_type": "stream",
     "text": [
      "Fetching relationships:  12%|█▏        | 8580/69663 [1:43:04<9:12:00,  1.84it/s] "
     ]
    },
    {
     "name": "stdout",
     "output_type": "stream",
     "text": [
      "Error fetching place-recording relationships for b1d57d0b-7d66-49a9-bcd3-4c028cf31b61: 503 Server Error: Service Temporarily Unavailable for url: https://musicbrainz.org/ws/2/place/b1d57d0b-7d66-49a9-bcd3-4c028cf31b61?inc=recording-rels&fmt=json\n"
     ]
    },
    {
     "name": "stderr",
     "output_type": "stream",
     "text": [
      "Fetching relationships:  12%|█▏        | 8581/69663 [1:43:04<9:01:22,  1.88it/s]"
     ]
    },
    {
     "name": "stdout",
     "output_type": "stream",
     "text": [
      "Error fetching place-recording relationships for e20efe16-3b7c-4719-824f-f645cd5207d9: 503 Server Error: Service Temporarily Unavailable for url: https://musicbrainz.org/ws/2/place/e20efe16-3b7c-4719-824f-f645cd5207d9?inc=recording-rels&fmt=json\n"
     ]
    },
    {
     "name": "stderr",
     "output_type": "stream",
     "text": [
      "Fetching relationships:  12%|█▏        | 8582/69663 [1:43:05<8:57:08,  1.90it/s]"
     ]
    },
    {
     "name": "stdout",
     "output_type": "stream",
     "text": [
      "Error fetching place-recording relationships for 49c7ecd6-1a75-4dbb-8f87-af1c9a7f8a51: 503 Server Error: Service Temporarily Unavailable for url: https://musicbrainz.org/ws/2/place/49c7ecd6-1a75-4dbb-8f87-af1c9a7f8a51?inc=recording-rels&fmt=json\n"
     ]
    },
    {
     "name": "stderr",
     "output_type": "stream",
     "text": [
      "Fetching relationships:  12%|█▏        | 8583/69663 [1:43:05<8:50:29,  1.92it/s]"
     ]
    },
    {
     "name": "stdout",
     "output_type": "stream",
     "text": [
      "Error fetching place-recording relationships for 658ababe-49cb-46a9-87ab-28ee3ede1b1f: 503 Server Error: Service Temporarily Unavailable for url: https://musicbrainz.org/ws/2/place/658ababe-49cb-46a9-87ab-28ee3ede1b1f?inc=recording-rels&fmt=json\n"
     ]
    },
    {
     "name": "stderr",
     "output_type": "stream",
     "text": [
      "Fetching relationships:  12%|█▏        | 8685/69663 [1:44:18<9:48:44,  1.73it/s] "
     ]
    },
    {
     "name": "stdout",
     "output_type": "stream",
     "text": [
      "Error fetching place-recording relationships for 7bc2a4b4-6e32-44b7-9cbc-655138c5b956: 503 Server Error: Service Temporarily Unavailable for url: https://musicbrainz.org/ws/2/place/7bc2a4b4-6e32-44b7-9cbc-655138c5b956?inc=recording-rels&fmt=json\n"
     ]
    },
    {
     "name": "stderr",
     "output_type": "stream",
     "text": [
      "Fetching relationships:  12%|█▏        | 8701/69663 [1:44:28<11:19:36,  1.50it/s]"
     ]
    },
    {
     "name": "stdout",
     "output_type": "stream",
     "text": [
      "Error fetching place-recording relationships for 02e86d6b-6046-4c97-9735-284201f7272d: 503 Server Error: Service Temporarily Unavailable for url: https://musicbrainz.org/ws/2/place/02e86d6b-6046-4c97-9735-284201f7272d?inc=recording-rels&fmt=json\n"
     ]
    },
    {
     "name": "stderr",
     "output_type": "stream",
     "text": [
      "Fetching relationships:  12%|█▏        | 8702/69663 [1:44:29<11:39:37,  1.45it/s]"
     ]
    },
    {
     "name": "stdout",
     "output_type": "stream",
     "text": [
      "Error fetching place-recording relationships for f4dfbe86-5cfa-4b03-9f4c-32b0a55f7d79: 503 Server Error: Service Temporarily Unavailable for url: https://musicbrainz.org/ws/2/place/f4dfbe86-5cfa-4b03-9f4c-32b0a55f7d79?inc=recording-rels&fmt=json\n"
     ]
    },
    {
     "name": "stderr",
     "output_type": "stream",
     "text": [
      "Fetching relationships:  13%|█▎        | 8732/69663 [1:44:50<9:38:54,  1.75it/s] "
     ]
    },
    {
     "name": "stdout",
     "output_type": "stream",
     "text": [
      "Error fetching place-recording relationships for 9e33f76e-917c-43ca-8b9b-4829693a230d: 503 Server Error: Service Temporarily Unavailable for url: https://musicbrainz.org/ws/2/place/9e33f76e-917c-43ca-8b9b-4829693a230d?inc=recording-rels&fmt=json\n"
     ]
    },
    {
     "name": "stderr",
     "output_type": "stream",
     "text": [
      "Fetching relationships:  13%|█▎        | 8803/69663 [1:45:41<9:47:11,  1.73it/s] "
     ]
    },
    {
     "name": "stdout",
     "output_type": "stream",
     "text": [
      "Error fetching place-recording relationships for 2ffd8b96-ac80-4c8a-b185-bdca284a9bd7: 503 Server Error: Service Temporarily Unavailable for url: https://musicbrainz.org/ws/2/place/2ffd8b96-ac80-4c8a-b185-bdca284a9bd7?inc=recording-rels&fmt=json\n"
     ]
    },
    {
     "name": "stderr",
     "output_type": "stream",
     "text": [
      "Fetching relationships:  13%|█▎        | 8874/69663 [1:46:31<9:56:59,  1.70it/s] "
     ]
    },
    {
     "name": "stdout",
     "output_type": "stream",
     "text": [
      "Error fetching place-recording relationships for d61e90d2-a971-42a1-92f2-a7f21dc725c5: 503 Server Error: Service Temporarily Unavailable for url: https://musicbrainz.org/ws/2/place/d61e90d2-a971-42a1-92f2-a7f21dc725c5?inc=recording-rels&fmt=json\n"
     ]
    },
    {
     "name": "stderr",
     "output_type": "stream",
     "text": [
      "Fetching relationships:  13%|█▎        | 8875/69663 [1:46:32<9:35:55,  1.76it/s]"
     ]
    },
    {
     "name": "stdout",
     "output_type": "stream",
     "text": [
      "Error fetching place-recording relationships for a6c3dc67-c02f-472e-b0c9-4da45f19951f: 503 Server Error: Service Temporarily Unavailable for url: https://musicbrainz.org/ws/2/place/a6c3dc67-c02f-472e-b0c9-4da45f19951f?inc=recording-rels&fmt=json\n"
     ]
    },
    {
     "name": "stderr",
     "output_type": "stream",
     "text": [
      "Fetching relationships:  13%|█▎        | 8918/69663 [1:47:02<9:21:36,  1.80it/s] "
     ]
    },
    {
     "name": "stdout",
     "output_type": "stream",
     "text": [
      "Error fetching place-recording relationships for 44770942-ce2e-4d9e-8b83-3c7dcf03ba75: 503 Server Error: Service Temporarily Unavailable for url: https://musicbrainz.org/ws/2/place/44770942-ce2e-4d9e-8b83-3c7dcf03ba75?inc=recording-rels&fmt=json\n"
     ]
    },
    {
     "name": "stderr",
     "output_type": "stream",
     "text": [
      "Fetching relationships:  13%|█▎        | 8919/69663 [1:47:02<9:10:46,  1.84it/s]"
     ]
    },
    {
     "name": "stdout",
     "output_type": "stream",
     "text": [
      "Error fetching place-recording relationships for 322fda2d-7bed-4c6d-9c41-f535fa5ce558: 503 Server Error: Service Temporarily Unavailable for url: https://musicbrainz.org/ws/2/place/322fda2d-7bed-4c6d-9c41-f535fa5ce558?inc=recording-rels&fmt=json\n"
     ]
    },
    {
     "name": "stderr",
     "output_type": "stream",
     "text": [
      "Fetching relationships:  13%|█▎        | 8920/69663 [1:47:03<9:02:37,  1.87it/s]"
     ]
    },
    {
     "name": "stdout",
     "output_type": "stream",
     "text": [
      "Error fetching place-recording relationships for d4c57176-6677-40a5-9d88-13d0fca9b5a5: 503 Server Error: Service Temporarily Unavailable for url: https://musicbrainz.org/ws/2/place/d4c57176-6677-40a5-9d88-13d0fca9b5a5?inc=recording-rels&fmt=json\n"
     ]
    },
    {
     "name": "stderr",
     "output_type": "stream",
     "text": [
      "Fetching relationships:  13%|█▎        | 8964/69663 [1:47:33<10:58:59,  1.54it/s]"
     ]
    },
    {
     "name": "stdout",
     "output_type": "stream",
     "text": [
      "Error fetching place-recording relationships for 40e7af23-4b1f-4153-a3e5-70b8484e4741: 503 Server Error: Service Temporarily Unavailable for url: https://musicbrainz.org/ws/2/place/40e7af23-4b1f-4153-a3e5-70b8484e4741?inc=recording-rels&fmt=json\n"
     ]
    },
    {
     "name": "stderr",
     "output_type": "stream",
     "text": [
      "Fetching relationships:  13%|█▎        | 8965/69663 [1:47:34<11:19:49,  1.49it/s]"
     ]
    },
    {
     "name": "stdout",
     "output_type": "stream",
     "text": [
      "Error fetching place-recording relationships for d80239fb-fcd7-4dfc-a9b5-b359ab3ad65d: 503 Server Error: Service Temporarily Unavailable for url: https://musicbrainz.org/ws/2/place/d80239fb-fcd7-4dfc-a9b5-b359ab3ad65d?inc=recording-rels&fmt=json\n"
     ]
    },
    {
     "name": "stderr",
     "output_type": "stream",
     "text": [
      "Fetching relationships:  13%|█▎        | 8996/69663 [1:47:54<11:03:11,  1.52it/s]"
     ]
    },
    {
     "name": "stdout",
     "output_type": "stream",
     "text": [
      "Error fetching place-recording relationships for 9b9d4dcf-2f74-403e-85a6-d6a472bab7e5: 503 Server Error: Service Temporarily Unavailable for url: https://musicbrainz.org/ws/2/place/9b9d4dcf-2f74-403e-85a6-d6a472bab7e5?inc=recording-rels&fmt=json\n"
     ]
    },
    {
     "name": "stderr",
     "output_type": "stream",
     "text": [
      "Fetching relationships:  13%|█▎        | 9005/69663 [1:48:01<12:19:49,  1.37it/s]"
     ]
    }
   ],
   "source": [
    "import pandas as pd\n",
    "import requests\n",
    "from tqdm import tqdm\n",
    "import json  # <-- Needed for converting dict/list objects to JSON strings\n",
    "\n",
    "def get_place_recording_relationships(place_id, headers, relationship_types=None):\n",
    "    \"\"\"\n",
    "    Fetch all place-recording relationships for a given place ID.\n",
    "\n",
    "    Args:\n",
    "        place_id (str): The MusicBrainz ID of the place.\n",
    "        headers (dict): Headers to be used in the API request.\n",
    "        relationship_types (list, optional): List of relationship types to filter by.\n",
    "\n",
    "    Returns:\n",
    "        list: A list of all relationships for the given place ID.\n",
    "    \"\"\"\n",
    "    if not place_id or len(place_id) != 36:  # Validate UUID format\n",
    "        print(f\"Invalid place ID: {place_id}\")\n",
    "        return []\n",
    "\n",
    "    BASE_URL = \"https://musicbrainz.org/ws/2\"\n",
    "    endpoint = f\"{BASE_URL}/place/{place_id}\"\n",
    "    params = {\"inc\": \"recording-rels\", \"fmt\": \"json\"}\n",
    "\n",
    "    try:\n",
    "        response = requests.get(endpoint, headers=headers, params=params)\n",
    "        response.raise_for_status()\n",
    "        data = response.json()\n",
    "\n",
    "        if not data or \"relations\" not in data:\n",
    "            print(f\"No relations found for place ID: {place_id}\")\n",
    "            return []\n",
    "\n",
    "        # Fetch all relationships\n",
    "        relationships = data.get(\"relations\", [])\n",
    "\n",
    "        # Filter relationships if relationship_types is provided\n",
    "        if relationship_types:\n",
    "            relationships = [\n",
    "                rel for rel in relationships if rel.get(\"type\") in relationship_types\n",
    "            ]\n",
    "\n",
    "        return relationships\n",
    "\n",
    "    except Exception as e:\n",
    "        print(f\"Error fetching place-recording relationships for {place_id}: {e}\")\n",
    "        return []\n",
    "\n",
    "# --- Example usage: ---\n",
    "\n",
    "# 1. Read your list of places from a CSV or other source\n",
    "places_df = pd.read_csv('places.csv')\n",
    "place_ids = places_df['id'].tolist()\n",
    "\n",
    "# 2. Define headers as a dictionary\n",
    "headers = {\n",
    "    'User-Agent': 'jihbr@umich.edu'\n",
    "}\n",
    "\n",
    "# 3. Prepare for checkpointing in Parquet\n",
    "checkpoint_file = \"checkpoint.parquet\"\n",
    "output_data = []\n",
    "\n",
    "# Try loading an existing checkpoint to skip processed IDs\n",
    "try:\n",
    "    checkpoint_df = pd.read_parquet(checkpoint_file)\n",
    "    processed_place_ids = set(checkpoint_df['place_id'].tolist())\n",
    "    output_data = checkpoint_df.to_dict('records')  # Continue from checkpoint\n",
    "    print(f\"Loaded {len(output_data)} records from existing checkpoint.\")\n",
    "except (FileNotFoundError, pd.errors.EmptyDataError):\n",
    "    processed_place_ids = set()\n",
    "\n",
    "BATCH_SIZE = 1000\n",
    "count_since_checkpoint = 0\n",
    "\n",
    "for place_id in tqdm(place_ids, desc=\"Fetching relationships\"):\n",
    "    if place_id in processed_place_ids:\n",
    "        continue  # Skip already processed place IDs\n",
    "\n",
    "    relationships = get_place_recording_relationships(place_id, headers)\n",
    "    output_data.append({'place_id': place_id, 'relationships': relationships})\n",
    "    processed_place_ids.add(place_id)\n",
    "    count_since_checkpoint += 1\n",
    "\n",
    "    # Check if we've hit our batch threshold for checkpointing\n",
    "    if count_since_checkpoint >= BATCH_SIZE:\n",
    "        # Save entire accumulated data so far\n",
    "        temp_df = pd.DataFrame(output_data)\n",
    "\n",
    "        # Convert relationships column to JSON strings\n",
    "        temp_df['relationships'] = temp_df['relationships'].apply(json.dumps)\n",
    "\n",
    "        temp_df.to_parquet(checkpoint_file, index=False, compression='snappy')\n",
    "        print(f\"Checkpoint saved with {len(output_data)} total records.\")\n",
    "        \n",
    "        # Reset our counter for the next batch\n",
    "        count_since_checkpoint = 0\n",
    "\n",
    "# Finally, save the entire output to a final Parquet file\n",
    "final_output_df = pd.DataFrame(output_data)\n",
    "\n",
    "# Convert relationships column to JSON strings for the final write\n",
    "final_output_df['relationships'] = final_output_df['relationships'].apply(json.dumps)\n",
    "\n",
    "final_output_df.to_parquet('place_recording_relationships.parquet', \n",
    "                           index=False, \n",
    "                           compression='snappy')\n",
    "\n",
    "print(f\"Final output saved with {len(output_data)} total records.\")\n"
   ]
  },
  {
   "cell_type": "code",
   "execution_count": null,
   "metadata": {},
   "outputs": [],
   "source": []
  }
 ],
 "metadata": {
  "kernelspec": {
   "display_name": "Python 3",
   "language": "python",
   "name": "python3"
  },
  "language_info": {
   "codemirror_mode": {
    "name": "ipython",
    "version": 3
   },
   "file_extension": ".py",
   "mimetype": "text/x-python",
   "name": "python",
   "nbconvert_exporter": "python",
   "pygments_lexer": "ipython3",
   "version": "3.13.1"
  }
 },
 "nbformat": 4,
 "nbformat_minor": 2
}
