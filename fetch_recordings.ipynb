{
 "cells": [
  {
   "cell_type": "code",
   "execution_count": 5,
   "metadata": {},
   "outputs": [
    {
     "name": "stdout",
     "output_type": "stream",
     "text": [
      "Loaded 62500 records from existing checkpoint.\n"
     ]
    },
    {
     "name": "stderr",
     "output_type": "stream",
     "text": [
      "Fetching relationships:  99%|█████████▉| 69297/69663 [00:00<00:00, 96540.42it/s]"
     ]
    },
    {
     "name": "stdout",
     "output_type": "stream",
     "text": [
      "Error fetching place-recording relationships for 36650a57-3158-47e7-8784-ee7c0ca9667d: 503 Server Error: Service Temporarily Unavailable for url: https://musicbrainz.org/ws/2/place/36650a57-3158-47e7-8784-ee7c0ca9667d?inc=recording-rels&fmt=json\n",
      "Error fetching place-recording relationships for 16be1ef1-25c0-4ba0-9d48-ca42b838bd21: 503 Server Error: Service Temporarily Unavailable for url: https://musicbrainz.org/ws/2/place/16be1ef1-25c0-4ba0-9d48-ca42b838bd21?inc=recording-rels&fmt=json\n"
     ]
    },
    {
     "name": "stderr",
     "output_type": "stream",
     "text": [
      "Fetching relationships: 100%|█████████▉| 69346/69663 [00:34<00:00, 871.10it/s]  "
     ]
    },
    {
     "name": "stdout",
     "output_type": "stream",
     "text": [
      "Error fetching place-recording relationships for d2683ce5-c358-4194-b266-5fbf187ca044: 503 Server Error: Service Temporarily Unavailable for url: https://musicbrainz.org/ws/2/place/d2683ce5-c358-4194-b266-5fbf187ca044?inc=recording-rels&fmt=json\n",
      "Error fetching place-recording relationships for 2b3f3905-b285-44fd-9de8-2b44853bfc29: 503 Server Error: Service Temporarily Unavailable for url: https://musicbrainz.org/ws/2/place/2b3f3905-b285-44fd-9de8-2b44853bfc29?inc=recording-rels&fmt=json\n",
      "Error fetching place-recording relationships for 39fccd49-63dd-41ab-8d87-707d5548b6ad: 503 Server Error: Service Temporarily Unavailable for url: https://musicbrainz.org/ws/2/place/39fccd49-63dd-41ab-8d87-707d5548b6ad?inc=recording-rels&fmt=json\n",
      "Error fetching place-recording relationships for be09071f-6558-4b25-b282-84eba5c59d62: 503 Server Error: Service Temporarily Unavailable for url: https://musicbrainz.org/ws/2/place/be09071f-6558-4b25-b282-84eba5c59d62?inc=recording-rels&fmt=json\n"
     ]
    },
    {
     "name": "stderr",
     "output_type": "stream",
     "text": [
      "Fetching relationships: 100%|█████████▉| 69406/69663 [01:14<00:01, 156.07it/s]"
     ]
    },
    {
     "name": "stdout",
     "output_type": "stream",
     "text": [
      "Error fetching place-recording relationships for a5e71d2d-a47d-407d-b46b-0c30a422b576: 503 Server Error: Service Temporarily Unavailable for url: https://musicbrainz.org/ws/2/place/a5e71d2d-a47d-407d-b46b-0c30a422b576?inc=recording-rels&fmt=json\n",
      "Error fetching place-recording relationships for 93a630a8-b258-4a70-b379-c96f32174b77: 503 Server Error: Service Temporarily Unavailable for url: https://musicbrainz.org/ws/2/place/93a630a8-b258-4a70-b379-c96f32174b77?inc=recording-rels&fmt=json\n"
     ]
    },
    {
     "name": "stderr",
     "output_type": "stream",
     "text": [
      "Fetching relationships: 100%|█████████▉| 69463/69663 [01:55<00:05, 36.93it/s] "
     ]
    },
    {
     "name": "stdout",
     "output_type": "stream",
     "text": [
      "Error fetching place-recording relationships for fd7fd4e0-044e-4003-946b-3566fec326e3: 503 Server Error: Service Temporarily Unavailable for url: https://musicbrainz.org/ws/2/place/fd7fd4e0-044e-4003-946b-3566fec326e3?inc=recording-rels&fmt=json\n",
      "Error fetching place-recording relationships for 0f9c1441-e618-490c-8971-04cb1a98ed1f: 503 Server Error: Service Temporarily Unavailable for url: https://musicbrainz.org/ws/2/place/0f9c1441-e618-490c-8971-04cb1a98ed1f?inc=recording-rels&fmt=json\n"
     ]
    },
    {
     "name": "stderr",
     "output_type": "stream",
     "text": [
      "Fetching relationships: 100%|█████████▉| 69525/69663 [02:34<00:14,  9.84it/s]"
     ]
    },
    {
     "name": "stdout",
     "output_type": "stream",
     "text": [
      "Error fetching place-recording relationships for 840df2d5-a777-4be6-b1ea-468db33f72ef: 503 Server Error: Service Temporarily Unavailable for url: https://musicbrainz.org/ws/2/place/840df2d5-a777-4be6-b1ea-468db33f72ef?inc=recording-rels&fmt=json\n",
      "Error fetching place-recording relationships for 5a5e2074-62e5-4324-b7fb-0c99187fecbc: 503 Server Error: Service Temporarily Unavailable for url: https://musicbrainz.org/ws/2/place/5a5e2074-62e5-4324-b7fb-0c99187fecbc?inc=recording-rels&fmt=json\n",
      "Error fetching place-recording relationships for a9d98bc7-2e91-4def-8405-8d883e8bc9e4: 503 Server Error: Service Temporarily Unavailable for url: https://musicbrainz.org/ws/2/place/a9d98bc7-2e91-4def-8405-8d883e8bc9e4?inc=recording-rels&fmt=json\n",
      "Error fetching place-recording relationships for 0abd66e8-fed0-460a-844a-b5a86fdc1ce0: 503 Server Error: Service Temporarily Unavailable for url: https://musicbrainz.org/ws/2/place/0abd66e8-fed0-460a-844a-b5a86fdc1ce0?inc=recording-rels&fmt=json\n",
      "Error fetching place-recording relationships for 7ac951e6-856d-4494-a952-0166a9dd7f5e: 503 Server Error: Service Temporarily Unavailable for url: https://musicbrainz.org/ws/2/place/7ac951e6-856d-4494-a952-0166a9dd7f5e?inc=recording-rels&fmt=json\n"
     ]
    },
    {
     "name": "stderr",
     "output_type": "stream",
     "text": [
      "Fetching relationships: 100%|█████████▉| 69556/69663 [02:55<00:19,  5.54it/s]"
     ]
    },
    {
     "name": "stdout",
     "output_type": "stream",
     "text": [
      "Error fetching place-recording relationships for 4b144143-0e84-47bd-ac1a-5b37119da580: 503 Server Error: Service Temporarily Unavailable for url: https://musicbrainz.org/ws/2/place/4b144143-0e84-47bd-ac1a-5b37119da580?inc=recording-rels&fmt=json\n"
     ]
    },
    {
     "name": "stderr",
     "output_type": "stream",
     "text": [
      "Fetching relationships: 100%|█████████▉| 69583/69663 [03:14<00:23,  3.44it/s]"
     ]
    },
    {
     "name": "stdout",
     "output_type": "stream",
     "text": [
      "Error fetching place-recording relationships for 78d24b19-e7d9-4338-be39-a401168a1bb7: 503 Server Error: Service Temporarily Unavailable for url: https://musicbrainz.org/ws/2/place/78d24b19-e7d9-4338-be39-a401168a1bb7?inc=recording-rels&fmt=json\n",
      "Error fetching place-recording relationships for a94d884f-d7e6-4b81-ba2c-76492ba0c290: 503 Server Error: Service Temporarily Unavailable for url: https://musicbrainz.org/ws/2/place/a94d884f-d7e6-4b81-ba2c-76492ba0c290?inc=recording-rels&fmt=json\n",
      "Error fetching place-recording relationships for 33cc95a5-796b-418c-8796-09e0c5e0f3bd: 503 Server Error: Service Temporarily Unavailable for url: https://musicbrainz.org/ws/2/place/33cc95a5-796b-418c-8796-09e0c5e0f3bd?inc=recording-rels&fmt=json\n",
      "Error fetching place-recording relationships for 262ed11b-b86e-4106-8ffb-e69ea79d1453: 503 Server Error: Service Temporarily Unavailable for url: https://musicbrainz.org/ws/2/place/262ed11b-b86e-4106-8ffb-e69ea79d1453?inc=recording-rels&fmt=json\n"
     ]
    },
    {
     "name": "stderr",
     "output_type": "stream",
     "text": [
      "Fetching relationships: 100%|█████████▉| 69615/69663 [03:34<00:19,  2.51it/s]"
     ]
    },
    {
     "name": "stdout",
     "output_type": "stream",
     "text": [
      "Error fetching place-recording relationships for b2ebefd7-235f-4e5d-bf05-a76850932e28: 503 Server Error: Service Temporarily Unavailable for url: https://musicbrainz.org/ws/2/place/b2ebefd7-235f-4e5d-bf05-a76850932e28?inc=recording-rels&fmt=json\n"
     ]
    },
    {
     "name": "stderr",
     "output_type": "stream",
     "text": [
      "Fetching relationships: 100%|█████████▉| 69646/69663 [03:54<00:08,  2.02it/s]"
     ]
    },
    {
     "name": "stdout",
     "output_type": "stream",
     "text": [
      "Error fetching place-recording relationships for ba096a11-9e20-4883-b5ff-fb93cbae558c: 503 Server Error: Service Temporarily Unavailable for url: https://musicbrainz.org/ws/2/place/ba096a11-9e20-4883-b5ff-fb93cbae558c?inc=recording-rels&fmt=json\n",
      "Error fetching place-recording relationships for 6ab2dcaf-66cd-4f61-8d30-29e8e0be9df3: 503 Server Error: Service Temporarily Unavailable for url: https://musicbrainz.org/ws/2/place/6ab2dcaf-66cd-4f61-8d30-29e8e0be9df3?inc=recording-rels&fmt=json\n"
     ]
    },
    {
     "name": "stderr",
     "output_type": "stream",
     "text": [
      "Fetching relationships: 100%|██████████| 69663/69663 [04:04<00:00, 284.81it/s]"
     ]
    },
    {
     "name": "stdout",
     "output_type": "stream",
     "text": [
      "Final output saved with 62864 total records.\n"
     ]
    },
    {
     "name": "stderr",
     "output_type": "stream",
     "text": [
      "\n"
     ]
    }
   ],
   "source": [
    "import pandas as pd\n",
    "import requests\n",
    "from tqdm import tqdm\n",
    "import json  # <-- Needed for converting dict/list objects to JSON strings\n",
    "\n",
    "def get_place_recording_relationships(place_id, headers, relationship_types=None):\n",
    "    \"\"\"\n",
    "    Fetch all place-recording relationships for a given place ID.\n",
    "\n",
    "    Args:\n",
    "        place_id (str): The MusicBrainz ID of the place.\n",
    "        headers (dict): Headers to be used in the API request.\n",
    "        relationship_types (list, optional): List of relationship types to filter by.\n",
    "\n",
    "    Returns:\n",
    "        list: A list of filtered relationships for the given place ID.\n",
    "    \"\"\"\n",
    "    if not place_id or len(place_id) != 36:  # Validate UUID format\n",
    "        print(f\"Invalid place ID: {place_id}\")\n",
    "        return []\n",
    "\n",
    "    BASE_URL = \"https://musicbrainz.org/ws/2\"\n",
    "    endpoint = f\"{BASE_URL}/place/{place_id}\"\n",
    "    params = {\"inc\": \"recording-rels\", \"fmt\": \"json\"}\n",
    "\n",
    "    try:\n",
    "        response = requests.get(endpoint, headers=headers, params=params)\n",
    "        response.raise_for_status()\n",
    "        data = response.json()\n",
    "\n",
    "        if not data or \"relations\" not in data:\n",
    "            print(f\"No relations found for place ID: {place_id}\")\n",
    "            return []\n",
    "\n",
    "        # Fetch all relationships\n",
    "        relationships = data.get(\"relations\", [])\n",
    "\n",
    "        # Filter relationships if relationship_types is provided\n",
    "        if relationship_types:\n",
    "            relationships = [\n",
    "                rel for rel in relationships if rel.get(\"type\") in relationship_types\n",
    "            ]\n",
    "\n",
    "        # Keep only the first matching relationship, if any\n",
    "        return relationships[:1] if relationships else []\n",
    "\n",
    "    except Exception as e:\n",
    "        print(f\"Error fetching place-recording relationships for {place_id}: {e}\")\n",
    "        return []\n",
    "\n",
    "\n",
    "\n",
    "# 1. Read your list of places from a CSV or other source\n",
    "places_df = pd.read_csv('places.csv')\n",
    "place_ids = places_df['id'].tolist()\n",
    "\n",
    "# 2. Define headers as a dictionary\n",
    "headers = {\n",
    "    'User-Agent': 'jihbr@umich.edu'\n",
    "}\n",
    "\n",
    "# 3. Define the relationship types to include\n",
    "relationship_types = [\n",
    "    \"arranged at\",\n",
    "    \"engineered at\",\n",
    "    \"recorded at\",\n",
    "    \"mixed at\",\n",
    "    \"edited at\",\n",
    "    \"remixed at\",\n",
    "    \"produced at\",\n",
    "    \"video shot at\"\n",
    "]\n",
    "\n",
    "# 4. Prepare for checkpointing in Parquet\n",
    "checkpoint_file = \"checkpoint.parquet\"\n",
    "output_data = []\n",
    "\n",
    "# Try loading an existing checkpoint to skip processed IDs\n",
    "try:\n",
    "    checkpoint_df = pd.read_parquet(checkpoint_file)\n",
    "    processed_place_ids = set(checkpoint_df['place_id'].tolist())\n",
    "    output_data = checkpoint_df.to_dict('records')  # Continue from checkpoint\n",
    "    print(f\"Loaded {len(output_data)} records from existing checkpoint.\")\n",
    "except (FileNotFoundError, pd.errors.EmptyDataError):\n",
    "    processed_place_ids = set()\n",
    "\n",
    "BATCH_SIZE = 500\n",
    "count_since_checkpoint = 0\n",
    "\n",
    "for place_id in tqdm(place_ids, desc=\"Fetching relationships\"):\n",
    "    if place_id in processed_place_ids:\n",
    "        continue  # Skip already processed place IDs\n",
    "\n",
    "    relationships = get_place_recording_relationships(place_id, headers, relationship_types)\n",
    "\n",
    "    # Filter out relationships that do not match the defined types\n",
    "    filtered_relationships = [\n",
    "        {\n",
    "            \"type\": rel[\"type\"],\n",
    "            \"recording\": rel.get(\"recording\", {})\n",
    "        }\n",
    "        for rel in relationships\n",
    "    ]\n",
    "\n",
    "    output_data.append({'place_id': place_id, 'relationships': filtered_relationships})\n",
    "    processed_place_ids.add(place_id)\n",
    "    count_since_checkpoint += 1\n",
    "\n",
    "    # Check if we've hit our batch threshold for checkpointing\n",
    "    if count_since_checkpoint >= BATCH_SIZE:\n",
    "        # Save entire accumulated data so far\n",
    "        temp_df = pd.DataFrame(output_data)\n",
    "\n",
    "        # Convert relationships column to JSON strings\n",
    "        temp_df['relationships'] = temp_df['relationships'].apply(json.dumps)\n",
    "\n",
    "        temp_df.to_parquet(checkpoint_file, index=False, compression='snappy')\n",
    "        print(f\"Checkpoint saved with {len(output_data)} total records.\")\n",
    "        \n",
    "        # Reset our counter for the next batch\n",
    "        count_since_checkpoint = 0\n",
    "\n",
    "# Finally, save the entire output to a final Parquet file\n",
    "final_output_df = pd.DataFrame(output_data)\n",
    "\n",
    "# Convert relationships column to JSON strings for the final write\n",
    "final_output_df['relationships'] = final_output_df['relationships'].apply(json.dumps)\n",
    "\n",
    "final_output_df.to_parquet('place_recording_relationships.parquet', \n",
    "                           index=False, \n",
    "                           compression='snappy')\n",
    "\n",
    "print(f\"Final output saved with {len(output_data)} total records.\")\n"
   ]
  },
  {
   "cell_type": "code",
   "execution_count": null,
   "metadata": {},
   "outputs": [],
   "source": []
  }
 ],
 "metadata": {
  "kernelspec": {
   "display_name": "Python 3",
   "language": "python",
   "name": "python3"
  },
  "language_info": {
   "codemirror_mode": {
    "name": "ipython",
    "version": 3
   },
   "file_extension": ".py",
   "mimetype": "text/x-python",
   "name": "python",
   "nbconvert_exporter": "python",
   "pygments_lexer": "ipython3",
   "version": "3.13.1"
  }
 },
 "nbformat": 4,
 "nbformat_minor": 2
}
